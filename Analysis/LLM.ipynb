{
 "cells": [
  {
   "cell_type": "markdown",
   "metadata": {},
   "source": [
    "# Creating a Client"
   ]
  },
  {
   "cell_type": "code",
   "execution_count": 4,
   "metadata": {},
   "outputs": [],
   "source": [
    "import os\n",
    "import json\n",
    "import requests\n",
    "from dotenv import load_dotenv\n",
    "import google.generativeai as genai\n",
    "\n"
   ]
  },
  {
   "cell_type": "code",
   "execution_count": 8,
   "metadata": {},
   "outputs": [],
   "source": [
    "text = \"\"\"beautiful accomodations stayed hotel santa maria novella night wished stayed entirety days florence simply gorgeous accomodations, \n",
    "            room stayed cheapest rate available assuming simplest abode offer beautiful hardwood floors bed linens comfortable mattress difficult italy drapes fantastic marble bathroom,\n",
    "              nicer expecting especially price, location not central 10-minute walk sights close train station away noise bustle busier locations, \n",
    "              close upscale shopping lots trattorias, nice oasis hectic sightseeing florence highly recommed hotel hotels higher ranked website,  \"\"\""
   ]
  },
  {
   "cell_type": "code",
   "execution_count": 6,
   "metadata": {},
   "outputs": [],
   "source": [
    "load_dotenv()\n",
    "genai.configure(api_key=os.getenv('GOOGLE_API_KEY'))\n",
    " \n",
    "gemini_model = genai.GenerativeModel('gemini-2.0-flash')\n",
    "\n",
    "gemini_model.temperature = 0.4\n",
    "\n",
    "\n",
    "def get_gemini_response(user_prompt):\n",
    "    response = gemini_model.generate_content(user_prompt)\n",
    "    return response.text\n",
    "\n"
   ]
  },
  {
   "cell_type": "markdown",
   "metadata": {},
   "source": [
    "# Basic prompting"
   ]
  },
  {
   "cell_type": "code",
   "execution_count": 3,
   "metadata": {},
   "outputs": [
    {
     "data": {
      "text/plain": [
       "'Positive'"
      ]
     },
     "execution_count": 3,
     "metadata": {},
     "output_type": "execute_result"
    }
   ],
   "source": [
    "response = requests.post(\n",
    "        url=\"https://openrouter.ai/api/v1/chat/completions\",\n",
    "        headers={\n",
    "            \"Authorization\": f\"Bearer {api}\",\n",
    "        },\n",
    "        data=json.dumps({\n",
    "            \"model\": \"openai/gpt-3.5-turbo\",\n",
    "            \"messages\": [\n",
    "            {\n",
    "                \"role\": \"user\",\n",
    "                \"content\":  f\"Provide the sentiment for {text} as Positive or Negative\",\n",
    "            }\n",
    "            ]\n",
    "            \n",
    "        })\n",
    "        )\n",
    "\n",
    "response.json()['choices'][0]['message']['content']"
   ]
  },
  {
   "cell_type": "code",
   "execution_count": 11,
   "metadata": {},
   "outputs": [
    {
     "data": {
      "text/plain": [
       "'Positive\\n'"
      ]
     },
     "execution_count": 11,
     "metadata": {},
     "output_type": "execute_result"
    }
   ],
   "source": [
    "response = get_gemini_response(f\"Provide the sentiment for {text} as - 'Positive' or 'Negative'\")\n",
    "response"
   ]
  },
  {
   "cell_type": "markdown",
   "metadata": {},
   "source": [
    "# Defining role for llm"
   ]
  },
  {
   "cell_type": "code",
   "execution_count": null,
   "metadata": {},
   "outputs": [
    {
     "data": {
      "text/plain": [
       "'The sentiment of the given review is positive. The user appreciates the beautiful accommodations at Hotel Santa Maria Novella, describing them as gorgeous with comfortable amenities such as hardwood floors, comfortable mattress, and a fantastic marble bathroom. They also commend the location for being close to sights and amenities while still providing a peaceful oasis away from the bustle of busier locations. Overall, the user highly recommends the hotel, expressing satisfaction with their stay.'"
      ]
     },
     "execution_count": 12,
     "metadata": {},
     "output_type": "execute_result"
    }
   ],
   "source": [
    "response = requests.post(\n",
    "        url=\"https://openrouter.ai/api/v1/chat/completions\",\n",
    "        headers={\n",
    "            \"Authorization\": f\"Bearer {api}\",\n",
    "        },\n",
    "        data=json.dumps({\n",
    "            \"model\": \"openai/gpt-3.5-turbo\",\n",
    "            \"messages\": [\n",
    "            {\n",
    "                \"role\":\"system\",\n",
    "                \"content\":\"You are a sentiment analyser who outputs the sentiment of the given review\"\n",
    "            },\n",
    "            {\n",
    "                \"role\": \"user\",\n",
    "                \"content\": f\"Provide the Sentiment of {text}\",\n",
    "            }\n",
    "\n",
    "            ]\n",
    "            \n",
    "        })\n",
    "        )\n"
   ]
  },
  {
   "cell_type": "code",
   "execution_count": 13,
   "metadata": {},
   "outputs": [
    {
     "name": "stdout",
     "output_type": "stream",
     "text": [
      "The sentiment of the given review is positive. The user appreciates the beautiful accommodations at Hotel Santa Maria Novella, describing them as gorgeous with comfortable amenities such as hardwood floors, comfortable mattress, and a fantastic marble bathroom. They also commend the location for being close to sights and amenities while still providing a peaceful oasis away from the bustle of busier locations. Overall, the user highly recommends the hotel, expressing satisfaction with their stay.\n"
     ]
    }
   ],
   "source": [
    "\n",
    "print(response.json()['choices'][0]['message']['content'])\n"
   ]
  },
  {
   "cell_type": "markdown",
   "metadata": {},
   "source": [
    "# Generating output in JSON"
   ]
  },
  {
   "cell_type": "code",
   "execution_count": 4,
   "metadata": {},
   "outputs": [
    {
     "name": "stdout",
     "output_type": "stream",
     "text": [
      "{\n",
      "    \"Sentiment\": \"Positive\"\n",
      "}\n"
     ]
    }
   ],
   "source": [
    "\n",
    "\n",
    "response = requests.post(\n",
    "        url=\"https://openrouter.ai/api/v1/chat/completions\",\n",
    "        headers={\n",
    "            \"Authorization\": f\"Bearer {api}\",\n",
    "        },\n",
    "        data=json.dumps({\n",
    "            \"model\": \"openai/gpt-3.5-turbo\",\n",
    "            \"messages\": [\n",
    "            {\n",
    "                \"role\":\"system\",\n",
    "                \"content\":\"You are a sentiment analyser who outputs the sentiment of the review in JSON.\"\n",
    "                f\"The JSON object must use the schema : {json.dumps({'Sentiment':'Positive/Negative'})}\"\n",
    "            },\n",
    "            {\n",
    "                \"role\": \"user\",\n",
    "                \"content\": f\"Provide the Sentiment of {text}\",\n",
    "            }\n",
    "\n",
    "            ]\n",
    "            \n",
    "        })\n",
    "        )\n",
    "print(response.json()['choices'][0]['message']['content'])\n"
   ]
  },
  {
   "cell_type": "code",
   "execution_count": 6,
   "metadata": {},
   "outputs": [
    {
     "name": "stdout",
     "output_type": "stream",
     "text": [
      "Provide the Suggestion to improve areas :, by analysing review: \n",
      "        Return the response in JSON format with the structrue:\n",
      "            *  include the `Areas` as keys and Suggestion as values.\n"
     ]
    }
   ],
   "source": [
    "prompt = f\"\"\"Provide the Suggestion to improve areas :, by analysing review: \n",
    "        Return the response in JSON format with the structrue:\n",
    "            *  include the `Areas` as keys and Suggestion as values.\"\"\"\n",
    "print(prompt)"
   ]
  },
  {
   "cell_type": "code",
   "execution_count": null,
   "metadata": {},
   "outputs": [
    {
     "data": {
      "text/plain": [
       "'```json\\n{\\n  \"Sentiment\": \"Negative\",\\n  \"Areas\": [\\n    \"Rooms\",\\n    \"Location\",\\n    \"Breakfast\",\\n    \"Customer Service\",\\n    \"Facilities\",\\n    \"Cleanliness\"\\n  ]\\n}\\n```'"
      ]
     },
     "execution_count": 55,
     "metadata": {},
     "output_type": "execute_result"
    }
   ],
   "source": [
    "import json\n",
    "\n",
    "text =\"not impressive stayed park inn end 2006 impressed reviewers, area convenient alexanderplatz railway station resembled building site morning woken early sounds construction, booked expedia room floors 26 35 paid extra 3 nights reservation did not confirm writing assigned room 14th floor refused upgrade grounds hotel unlikely views average, disappointed no tea coffee making facilities room, room rate did not include breakfast did not try hotel breakfast ate locally instead, room small stylish lots mirrors glass chrome marble comfortable wonderful beds cotton bedlinen, reviewers mentioned steam-jet showers n't room, expected rave reviews\"\n",
    "\n",
    "response = get_gemini_response(f\"\"\"Provide the Sentiment and all departments/areas which are related to hotel mentioned in given text.\n",
    "Text = {text}.\n",
    "Return the response in JSON format with the structrue:\n",
    "*  include key `Sentiment` with value as 'Positive' or 'Negative'.\n",
    "*  include key `Areas` with value as a list of departments/areas mentioned in the text.\"\"\")\n",
    "response"
   ]
  },
  {
   "cell_type": "code",
   "execution_count": 56,
   "metadata": {},
   "outputs": [
    {
     "data": {
      "text/plain": [
       "{'Sentiment': 'Negative',\n",
       " 'Areas': ['Rooms',\n",
       "  'Location',\n",
       "  'Breakfast',\n",
       "  'Customer Service',\n",
       "  'Facilities',\n",
       "  'Cleanliness']}"
      ]
     },
     "execution_count": 56,
     "metadata": {},
     "output_type": "execute_result"
    }
   ],
   "source": [
    "data = json.loads(response.split(\"```\")[-2].replace(\"json\", \"\"))\n",
    "data"
   ]
  },
  {
   "cell_type": "code",
   "execution_count": 60,
   "metadata": {},
   "outputs": [
    {
     "data": {
      "text/plain": [
       "True"
      ]
     },
     "execution_count": 60,
     "metadata": {},
     "output_type": "execute_result"
    }
   ],
   "source": [
    "any([1<1 , 2<3])"
   ]
  },
  {
   "cell_type": "code",
   "execution_count": null,
   "metadata": {},
   "outputs": [
    {
     "name": "stdout",
     "output_type": "stream",
     "text": [
      "```json\n",
      "{\n",
      "  \"Rooms\": \"Provide tea and coffee making facilities in all rooms, especially given the room rate. Ensure rooms match descriptions provided by reviewers, including features like steam-jet showers. Consider room upgrades when available, particularly for guests who have paid extra for specific room features. Clarify the floor allocation process during booking and ensure confirmations match the final assignment. Address concerns about room size, especially if advertised differently.\",\n",
      "  \"Location\": \"Acknowledge and mitigate the impact of construction noise on guests. Offer earplugs or alternative room assignments to minimize disturbance. While the location is convenient, address the negative perception of the area resembling a 'building site'.\",\n",
      "  \"Breakfast\": \"Consider including breakfast in more room rates to attract a wider range of guests. Since there's no feedback on the breakfast itself, gather guest feedback on the breakfast quality and options to identify areas for improvement if any.\",\n",
      "  \"Customer Service\": \"Ensure booking confirmations accurately reflect the reservation details, including floor preferences or upgrades. Be transparent about room assignments and upgrade policies. Address guest complaints promptly and professionally, providing clear explanations and potential solutions.\",\n",
      "  \"Facilities\": \"Maintain consistency between advertised facilities (e.g., steam-jet showers) and actual room features.  Regularly inspect and maintain all facilities to ensure they are in working order and meet guest expectations.\",\n",
      "  \"Cleanliness\": \"While the room was described as stylish and comfortable, no specific cleanliness issues were mentioned. Maintain high standards of cleanliness in all areas of the hotel, including rooms, hallways, and common areas.\"\n",
      "}\n",
      "```\n"
     ]
    }
   ],
   "source": [
    "  \n",
    "response1 = get_gemini_response(f\"Provide the Suggestion to improve areas :{data['Areas']} which are related to hotels, by analysing text: {text}\"\n",
    "                                f\"\"\"Return the response in JSON format with the structrue:\n",
    "*  include the `Areas` as keys and Suggestion as values.\"\"\")\n",
    "\n",
    "print(response1)"
   ]
  },
  {
   "cell_type": "code",
   "execution_count": 72,
   "metadata": {},
   "outputs": [
    {
     "name": "stdout",
     "output_type": "stream",
     "text": [
      "```json\n",
      "{\n",
      "  \"Gym\": \"Elevate your wellness journey in our state-of-the-art Gym! Equipped with the latest equipment and offering personalized training sessions, it's the perfect place to energize your body and mind.\",\n",
      "  \"Swimming Pool\": \"Dive into relaxation at our magnificent Swimming Pool! Whether you want to swim laps for exercise or simply unwind by the water, our pool offers a refreshing escape for everyone.\",\n",
      "  \"Spa\": \"Indulge in pure bliss at our luxurious Spa! Treat yourself to rejuvenating massages, facials, and body treatments designed to melt away stress and restore your inner radiance. A sanctuary for your senses awaits!\"\n",
      "}\n",
      "```\n",
      "\n"
     ]
    }
   ],
   "source": [
    "recommendations = [\"Gym\", \"Swimming Pool\", \"Spa\" ]\n",
    "response1 = get_gemini_response(f\"You are a recommendation engine suggest users to visit the given areas of hotel like advertising it.\"\n",
    "                                f\"Recommend areas: {recommendations}, to user\"\n",
    "                                \"Example: {'Swimming pool': 'You must visit our Swimming Pool, it is the best in the city!'}\"\n",
    "                                \"Return the response in JSON format with the structrue: \"\n",
    "                                \"*  include the ares as keys and recommendation as values.\"\n",
    "                                )\n",
    "\n",
    "print(response1)"
   ]
  },
  {
   "cell_type": "code",
   "execution_count": 71,
   "metadata": {},
   "outputs": [
    {
     "name": "stdout",
     "output_type": "stream",
     "text": [
      "Dear Guest,\n",
      "\n",
      "Thank you for your feedback. We're sorry to hear that your stay at Park Inn wasn't as impressive as you'd hoped, especially concerning the construction noise and room assignment. We appreciate you bringing these points to our attention and will use them to improve our services and address the issues you raised.\n",
      "\n"
     ]
    }
   ],
   "source": [
    "print(get_gemini_response(f\"You are a resturant manager who gives response for the user who entered the feedback based on the sentiment of the feedback\"\n",
    "f\"Give response to {text}\"\n",
    "\"Start as 'Dear Guest, Thank you for your feedback...' and also say ' will use them to improve our services and address the issues you raised.'\"\n",
    "\"Keep it simple and short, like 3 to 4 sentences.\"))"
   ]
  },
  {
   "cell_type": "markdown",
   "metadata": {},
   "source": [
    "# Zero Shot learning"
   ]
  },
  {
   "cell_type": "code",
   "execution_count": null,
   "metadata": {},
   "outputs": [],
   "source": [
    "\n",
    "text = \"\"\"beautiful accomodations stayed hotel santa maria novella night wished stayed entirety days florence simply gorgeous accomodations, \n",
    "            room stayed cheapest rate available assuming simplest abode offer beautiful hardwood floors bed linens comfortable mattress difficult italy drapes fantastic marble bathroom,\n",
    "              nicer expecting especially price, location not central 10-minute walk sights close train station away noise bustle busier locations, \n",
    "              close upscale shopping lots trattorias, nice oasis hectic sightseeing florence highly recommed hotel hotels higher ranked website,  \"\"\"\n",
    "\n",
    "def Sentiment_provider(text):\n",
    "    response = requests.post(\n",
    "            url=\"https://openrouter.ai/api/v1/chat/completions\",\n",
    "            headers={\n",
    "                \"Authorization\": f\"Bearer {api}\",\n",
    "            },\n",
    "            data=json.dumps({\n",
    "                \"model\": \"openai/gpt-3.5-turbo\",\n",
    "                \"messages\": [\n",
    "                {\n",
    "                \"role\":\"system\",\n",
    "                \"content\":\"You are a sentiment analysist who outputs the sentiment and the departments/areas mentioned in review in JSON.\"\n",
    "                f\"The JSON object must use the schema : {json.dumps({'Sentiment':'Positive/Negative', \"Areas\":[]})}\"\n",
    "            },\n",
    "            {\n",
    "                \"role\": \"user\",\n",
    "                \"content\": f\"Provide the Sentiment of {text}\",\n",
    "            }\n",
    "                ]\n",
    "            })\n",
    "            )\n",
    "    \n",
    "    return(response.json()['choices'][0]['message']['content'])\n",
    "\n",
    "    "
   ]
  },
  {
   "cell_type": "code",
   "execution_count": null,
   "metadata": {},
   "outputs": [],
   "source": []
  },
  {
   "cell_type": "code",
   "execution_count": 6,
   "metadata": {},
   "outputs": [
    {
     "data": {
      "text/plain": [
       "{'Sentiment': 'Positive',\n",
       " 'Areas': ['Accommodations',\n",
       "  'Hotel Santa Maria Novella',\n",
       "  'Florence',\n",
       "  'Room',\n",
       "  'Hardwood floors',\n",
       "  'Bed linens',\n",
       "  'Comfortable mattress',\n",
       "  'Drapes',\n",
       "  'Marble bathroom',\n",
       "  'Price',\n",
       "  'Location',\n",
       "  'Train station',\n",
       "  'Shopping',\n",
       "  'Trattorias',\n",
       "  'Sightseeing']}"
      ]
     },
     "execution_count": 6,
     "metadata": {},
     "output_type": "execute_result"
    }
   ],
   "source": [
    "sentimen_dict = json.loads(Sentiment_provider(text))\n",
    "sentimen_dict"
   ]
  },
  {
   "cell_type": "code",
   "execution_count": 18,
   "metadata": {},
   "outputs": [],
   "source": [
    "def Suggestion_provider(Sentiment_dict:dict, text):\n",
    "    response = requests.post(\n",
    "            url=\"https://openrouter.ai/api/v1/chat/completions\",\n",
    "            headers={\n",
    "                \"Authorization\": f\"Bearer {api}\",\n",
    "            },\n",
    "            data=json.dumps({\n",
    "                \"model\": \"openai/gpt-3.5-turbo\",\n",
    "                \"messages\": [\n",
    "                {\n",
    "                    \"role\":\"system\",\n",
    "                    \"content\":f\"You are a suggestion provider who gives suggestions to improve the areas in {Sentiment_dict['Areas']} using the review {text}, and return it in JSON.\\n\"\n",
    "                    f\"The JSON object must use the schema : {json.dumps({'Area_name':'Suggestion'})}\"\n",
    "                },\n",
    "                {\n",
    "                    \"role\": \"user\",\n",
    "                    \"content\": f\"Provide the Suggestion on how to improve {Sentiment_dict['Areas']}\",\n",
    "                }\n",
    "\n",
    "                ]\n",
    "            })\n",
    "            )\n",
    "    return json.loads((response.json()['choices'][0]['message']['content']))\n",
    "s = Suggestion_provider(sentimen_dict, text))"
   ]
  },
  {
   "cell_type": "code",
   "execution_count": null,
   "metadata": {},
   "outputs": [],
   "source": [
    "s = s)"
   ]
  },
  {
   "cell_type": "code",
   "execution_count": 24,
   "metadata": {},
   "outputs": [
    {
     "name": "stdout",
     "output_type": "stream",
     "text": [
      "\u001b[1maccommodations\u001b[0m: \n",
      "Consider adding more variety in room options to cater to different budgets and preferences.\n",
      "\n",
      "\u001b[1mhotel\u001b[0m: \n",
      "Enhance the overall guest experience by offering additional amenities or services such as a spa or rooftop terrace.\n",
      "\n",
      "\u001b[1mFlorence\u001b[0m: \n",
      "Promote local experiences and tours to help guests immerse themselves in the culture and history of Florence.\n",
      "\n",
      "\u001b[1mhardwood floors\u001b[0m: \n",
      "Ensure regular maintenance to keep the hardwood floors in pristine condition for a more luxurious feel.\n",
      "\n",
      "\u001b[1mbed linens\u001b[0m: \n",
      "Invest in high-quality bed linens to elevate the comfort and sleep quality for guests.\n",
      "\n",
      "\u001b[1mcomfortable mattress\u001b[0m: \n",
      "Regularly update mattresses to ensure guests have a restful and rejuvenating sleep experience.\n",
      "\n",
      "\u001b[1mdrapes\u001b[0m: \n",
      "Consider blackout drapes to provide guests with better light control for optimal sleeping conditions.\n",
      "\n",
      "\u001b[1mmarble bathroom\u001b[0m: \n",
      "Add luxury touches such as heated marble floors or rainfall showerheads for a spa-like experience.\n",
      "\n",
      "\u001b[1mprice\u001b[0m: \n",
      "Offer seasonal promotions or packages to provide guests with more value for their stay.\n",
      "\n",
      "\u001b[1mlocation\u001b[0m: \n",
      "Highlight nearby attractions and transportation options to showcase the convenience of the hotel's location.\n",
      "\n",
      "\u001b[1msights\u001b[0m: \n",
      "Provide recommendations or guided tours to help guests explore the must-see sights in Florence.\n",
      "\n",
      "\u001b[1mtrain station\u001b[0m: \n",
      "Offer shuttle services or transportation assistance to make it easier for guests to access the train station.\n",
      "\n",
      "\u001b[1mshopping\u001b[0m: \n",
      "Partner with local boutiques or offer exclusive discounts for guests to enhance their shopping experience.\n",
      "\n",
      "\u001b[1mtrattorias\u001b[0m: \n",
      "Curate a list of recommended trattorias in the area to help guests discover authentic Tuscan cuisine.\n",
      "\n",
      "\u001b[1msightseeing\u001b[0m: \n",
      "Create customized sightseeing itineraries or walking tours for guests to make the most of their time in Florence.\n",
      "\n"
     ]
    }
   ],
   "source": [
    "for area in s:\n",
    "    print(f\"\\033[1m{area}\\033[0m: \")\n",
    "    print(f\"{s[area]}\\n\")"
   ]
  },
  {
   "cell_type": "markdown",
   "metadata": {},
   "source": [
    "# Few shot learning"
   ]
  },
  {
   "cell_type": "code",
   "execution_count": 26,
   "metadata": {},
   "outputs": [
    {
     "name": "stdout",
     "output_type": "stream",
     "text": [
      "'Positive'\n"
     ]
    }
   ],
   "source": [
    "def Sentiment_provider(text):\n",
    "    response = requests.post(\n",
    "            url=\"https://openrouter.ai/api/v1/chat/completions\",\n",
    "            headers={\n",
    "                \"Authorization\": f\"Bearer {api}\",\n",
    "            },\n",
    "            data=json.dumps({\n",
    "                \"model\": \"openai/gpt-3.5-turbo\",\n",
    "                \"messages\": [\n",
    "                 {\n",
    "                \"role\":\"system\",\n",
    "                \"content\":\"You are a sentiment analyser who outputs the sentiment of review\"\n",
    "            },\n",
    "            {\n",
    "                \"role\": \"user\",\n",
    "                \"content\": f\"\"\"\n",
    "                            'The room was good'. the output is : 'Positive',\n",
    "                            'Food is cold. Price is too much'. The output is: 'Negative',\n",
    "                            {text}. The output is:\n",
    "                            \"\"\",\n",
    "            }\n",
    "                ]\n",
    "            })\n",
    "            )\n",
    "    return (response.json()['choices'][0]['message']['content'])\n",
    "\n",
    "text = \"beautiful accomodations stayed hotel santa maria novella night wished stayed entirety days florence simply gorgeous accomodations\"\n",
    "print(Sentiment_provider(text))"
   ]
  },
  {
   "cell_type": "code",
   "execution_count": 27,
   "metadata": {},
   "outputs": [
    {
     "name": "stdout",
     "output_type": "stream",
     "text": [
      "{\"Sentiment\": \"Positive\", \"Areas\": [\"Accommodations\", \"Hotel\", \"Santa Maria Novella\", \"Shopping\", \"Trattorias\", \"Sightseeing\"]}\n"
     ]
    }
   ],
   "source": [
    "def Sentiment_provider(text):\n",
    "    response = requests.post(\n",
    "            url=\"https://openrouter.ai/api/v1/chat/completions\",\n",
    "            headers={\n",
    "                \"Authorization\": f\"Bearer {api}\",\n",
    "            },\n",
    "            data=json.dumps({\n",
    "                \"model\": \"openai/gpt-3.5-turbo\",\n",
    "                \"messages\": [\n",
    "                 {\n",
    "                \"role\":\"system\",\n",
    "                \"content\":\"You are a sentiment analyser who outputs the sentiment and the departments/areas mentioned in review in JSON.\"\n",
    "                f\"The JSON object must use the schema : {json.dumps({'Sentiment':'Positive/Negative', \"Areas\":[]})}\"\n",
    "            },\n",
    "            {\n",
    "                \"role\": \"user\",\n",
    "                \"content\": f\"\"\"\n",
    "                            'The room was good'. the output is : {json.dumps({'Sentiment':'Positive', 'Areas':['Room']})},\n",
    "                            'Food is cold. Price is too much'. The output is: {json.dumps({'Sentiment':'Negative', 'Areas':['Resturant', 'Pricing']})},\n",
    "                            {text}. The output is:\n",
    "                            \"\"\",\n",
    "            }\n",
    "\n",
    "                ]\n",
    "            })\n",
    "            )\n",
    "    return (response.json()['choices'][0]['message']['content'])\n",
    "\n",
    "text = \"\"\"beautiful accomodations stayed hotel santa maria novella night wished stayed entirety days florence simply gorgeous accomodations\n",
    "        close upscale shopping lots trattorias, nice oasis hectic sightseeing florence highly recommed hotel hotels higher ranked website\"\"\"\n",
    "print(Sentiment_provider(text))"
   ]
  },
  {
   "cell_type": "code",
   "execution_count": null,
   "metadata": {},
   "outputs": [],
   "source": []
  },
  {
   "cell_type": "code",
   "execution_count": null,
   "metadata": {},
   "outputs": [],
   "source": []
  },
  {
   "cell_type": "code",
   "execution_count": 42,
   "metadata": {},
   "outputs": [
    {
     "data": {
      "text/html": [
       "<div>\n",
       "<style scoped>\n",
       "    .dataframe tbody tr th:only-of-type {\n",
       "        vertical-align: middle;\n",
       "    }\n",
       "\n",
       "    .dataframe tbody tr th {\n",
       "        vertical-align: top;\n",
       "    }\n",
       "\n",
       "    .dataframe thead th {\n",
       "        text-align: right;\n",
       "    }\n",
       "</style>\n",
       "<table border=\"1\" class=\"dataframe\">\n",
       "  <thead>\n",
       "    <tr style=\"text-align: right;\">\n",
       "      <th></th>\n",
       "      <th>User_Id</th>\n",
       "      <th>Cust_name</th>\n",
       "      <th>Cust_email</th>\n",
       "      <th>Feedback</th>\n",
       "      <th>Date</th>\n",
       "      <th>Care_Taker</th>\n",
       "      <th>Emp_id</th>\n",
       "      <th>Age</th>\n",
       "      <th>Contact</th>\n",
       "      <th>Department</th>\n",
       "      <th>Customer Stay Duration (hrs)</th>\n",
       "      <th>Customer_N_visit</th>\n",
       "      <th>Cust amount to be paid</th>\n",
       "      <th>Nps</th>\n",
       "      <th>Dining</th>\n",
       "      <th>Room Preference</th>\n",
       "      <th>Sport Activities</th>\n",
       "      <th>Wellness</th>\n",
       "      <th>Pricing</th>\n",
       "    </tr>\n",
       "  </thead>\n",
       "  <tbody>\n",
       "    <tr>\n",
       "      <th>0</th>\n",
       "      <td>User_01</td>\n",
       "      <td>Jared</td>\n",
       "      <td>jared3020@example.com</td>\n",
       "      <td>beautiful accomodations stayed hotel santa mar...</td>\n",
       "      <td>2004-01-03</td>\n",
       "      <td>Jarvis</td>\n",
       "      <td>EMP1029</td>\n",
       "      <td>29</td>\n",
       "      <td>9373413477</td>\n",
       "      <td>Laundry</td>\n",
       "      <td>8.9</td>\n",
       "      <td>8</td>\n",
       "      <td>42.70</td>\n",
       "      <td>-85</td>\n",
       "      <td>Vegetaion</td>\n",
       "      <td>King</td>\n",
       "      <td>Aerobics</td>\n",
       "      <td>Fitness Classes</td>\n",
       "      <td>Weekly discount</td>\n",
       "    </tr>\n",
       "    <tr>\n",
       "      <th>1</th>\n",
       "      <td>User_02</td>\n",
       "      <td>Marie</td>\n",
       "      <td>marie3752@example.com</td>\n",
       "      <td>great hotel great location hotel located la ra...</td>\n",
       "      <td>2024-01-21</td>\n",
       "      <td>Malone</td>\n",
       "      <td>EMP2189</td>\n",
       "      <td>67</td>\n",
       "      <td>8659403021</td>\n",
       "      <td>Entertainment</td>\n",
       "      <td>9.2</td>\n",
       "      <td>10</td>\n",
       "      <td>237.41</td>\n",
       "      <td>48</td>\n",
       "      <td>Vegan</td>\n",
       "      <td>Double</td>\n",
       "      <td>Runnin</td>\n",
       "      <td>Spa Treatment</td>\n",
       "      <td>Package deals</td>\n",
       "    </tr>\n",
       "    <tr>\n",
       "      <th>2</th>\n",
       "      <td>User_03</td>\n",
       "      <td>Elijah</td>\n",
       "      <td>elijah8826@example.com</td>\n",
       "      <td>beautiful hotel great location like beautifull...</td>\n",
       "      <td>2006-01-27</td>\n",
       "      <td>Barrera</td>\n",
       "      <td>EMP2375</td>\n",
       "      <td>80</td>\n",
       "      <td>9687107606</td>\n",
       "      <td>E-commerce</td>\n",
       "      <td>7.2</td>\n",
       "      <td>2</td>\n",
       "      <td>272.77</td>\n",
       "      <td>93</td>\n",
       "      <td>Vegetaion</td>\n",
       "      <td>Single</td>\n",
       "      <td>Swimming</td>\n",
       "      <td>Body Scrubs</td>\n",
       "      <td>Last-minute deals</td>\n",
       "    </tr>\n",
       "    <tr>\n",
       "      <th>3</th>\n",
       "      <td>User_04</td>\n",
       "      <td>Sheryl</td>\n",
       "      <td>sheryl5774@example.com</td>\n",
       "      <td>great deal waikiki trip hawaii outrigger luana...</td>\n",
       "      <td>2023-12-21</td>\n",
       "      <td>Montgomery</td>\n",
       "      <td>EMP1904</td>\n",
       "      <td>90</td>\n",
       "      <td>6609849066</td>\n",
       "      <td>Laundry</td>\n",
       "      <td>8.5</td>\n",
       "      <td>2</td>\n",
       "      <td>483.68</td>\n",
       "      <td>24</td>\n",
       "      <td>Vegan</td>\n",
       "      <td>Twin</td>\n",
       "      <td>Runnin</td>\n",
       "      <td>Meditation Classes</td>\n",
       "      <td>All-inclusive</td>\n",
       "    </tr>\n",
       "    <tr>\n",
       "      <th>4</th>\n",
       "      <td>User_05</td>\n",
       "      <td>Jeremy</td>\n",
       "      <td>jeremy8767@example.com</td>\n",
       "      <td>choose airport hotel busy triparound australia...</td>\n",
       "      <td>2006-03-07</td>\n",
       "      <td>Houston</td>\n",
       "      <td>EMP1448</td>\n",
       "      <td>39</td>\n",
       "      <td>655389336</td>\n",
       "      <td>E-commerce</td>\n",
       "      <td>6.7</td>\n",
       "      <td>4</td>\n",
       "      <td>338.33</td>\n",
       "      <td>-5</td>\n",
       "      <td>Vegan</td>\n",
       "      <td>Twin</td>\n",
       "      <td>Aerobics</td>\n",
       "      <td>Sauna</td>\n",
       "      <td>Member-exclusive rates</td>\n",
       "    </tr>\n",
       "  </tbody>\n",
       "</table>\n",
       "</div>"
      ],
      "text/plain": [
       "   User_Id Cust_name              Cust_email  \\\n",
       "0  User_01     Jared   jared3020@example.com   \n",
       "1  User_02     Marie   marie3752@example.com   \n",
       "2  User_03    Elijah  elijah8826@example.com   \n",
       "3  User_04    Sheryl  sheryl5774@example.com   \n",
       "4  User_05    Jeremy  jeremy8767@example.com   \n",
       "\n",
       "                                            Feedback        Date  Care_Taker  \\\n",
       "0  beautiful accomodations stayed hotel santa mar...  2004-01-03      Jarvis   \n",
       "1  great hotel great location hotel located la ra...  2024-01-21      Malone   \n",
       "2  beautiful hotel great location like beautifull...  2006-01-27     Barrera   \n",
       "3  great deal waikiki trip hawaii outrigger luana...  2023-12-21  Montgomery   \n",
       "4  choose airport hotel busy triparound australia...  2006-03-07     Houston   \n",
       "\n",
       "    Emp_id  Age     Contact     Department  Customer Stay Duration (hrs)  \\\n",
       "0  EMP1029   29  9373413477        Laundry                           8.9   \n",
       "1  EMP2189   67  8659403021  Entertainment                           9.2   \n",
       "2  EMP2375   80  9687107606     E-commerce                           7.2   \n",
       "3  EMP1904   90  6609849066        Laundry                           8.5   \n",
       "4  EMP1448   39   655389336     E-commerce                           6.7   \n",
       "\n",
       "   Customer_N_visit  Cust amount to be paid  Nps     Dining Room Preference  \\\n",
       "0                 8                   42.70  -85  Vegetaion            King   \n",
       "1                10                  237.41   48      Vegan          Double   \n",
       "2                 2                  272.77   93  Vegetaion          Single   \n",
       "3                 2                  483.68   24      Vegan            Twin   \n",
       "4                 4                  338.33   -5      Vegan            Twin   \n",
       "\n",
       "  Sport Activities            Wellness                 Pricing  \n",
       "0         Aerobics     Fitness Classes         Weekly discount  \n",
       "1           Runnin       Spa Treatment           Package deals  \n",
       "2         Swimming         Body Scrubs       Last-minute deals  \n",
       "3           Runnin  Meditation Classes           All-inclusive  \n",
       "4         Aerobics               Sauna  Member-exclusive rates  "
      ]
     },
     "execution_count": 42,
     "metadata": {},
     "output_type": "execute_result"
    }
   ],
   "source": [
    "import pandas as pd\n",
    "\n",
    "df = pd.read_csv(r\"D:\\Projects\\SpringBoard_Internship\\LLM_Internship\\Notebook\\Sentiment_data.csv\")\n",
    "df.head()"
   ]
  },
  {
   "cell_type": "code",
   "execution_count": 43,
   "metadata": {},
   "outputs": [
    {
     "data": {
      "text/plain": [
       "array(['beautiful accomodations stayed hotel santa maria novella night wished stayed entirety days florence simply gorgeous accomodations, room stayed cheapest rate available assuming simplest abode offer beautiful hardwood floors bed linens comfortable mattress difficult italy drapes fantastic marble bathroom, nicer expecting especially price, location not central 10-minute walk sights close train station away noise bustle busier locations, close upscale shopping lots trattorias, nice oasis hectic sightseeing florence highly recommed hotel hotels higher ranked website,  ',\n",
       "       'great hotel great location hotel located la rambla city centre close access shops tour buses.the room immaculate 42 plasma screen screen bathroom.there nice blue ambient lighting room good amenities.the bathroom large equipped.concierge staff overall friendly helpful recommended lot restaurants night spots visit absolutely wonderful.there business centre use free open 24 hours.the thing disliked face in-room safe bit small did not fit laptop.i definitely recommend hotel,  ',\n",
       "       \"beautiful hotel great location like beautifully appointed room furniture linens lighting wo n't disappointed, stayed nights oct. 2004. got idea hotel faced sea does gothic quarter does n't, room sea view great room small window faces light, no views gothic quarter quite disappointed, room lovely dark faced light, smaller expected gorgeous attention furniture linens lighting bath amenities, location nice just steps away gothic quarter ramblas free use hotel internet connection great checking email,  \",\n",
       "       'great deal waikiki trip hawaii outrigger luana great hotel/condo, booked city view kitchenette, kitchen amenities ask, nice pool cabanas sun gets, barbeque area feel like getting fresh fish market highly recommended, staff friendly accommodating allowing access garage shower room 8 hours checked, 18/day parking little steep want explore life waikiki great hotel beginning main strip, tour desk not open probably went season desk touch tour desks outriggers waikiki happy make arrangements, beach minute walk away pay upwards 100/night right beach,  ',\n",
       "       'choose airport hotel busy triparound australia arrived place rudest receptionist, corridors room looked like bombsite no warning room mid decoration.very expensive room service no mini bar.laundry crazy prices.no air gym.room key failed 6 times.airport shuttle driver 2 near misses dropped wrong terminal,  ',\n",
       "       \"best hotel stayed picked hotel casablanca based recommendations tripadvisor not disappointed, location good staff extremely friendly helpful rooms reasonable size clean equipped peaceful spite bustling location breakfast delicious continental better normally come expect term, best feeling tranquility busy day town return oasis calm enjoy delicious hazelnut coffee buns head room freshen coming later cheese prosecco sound piano music background.ok n't exactly cheap, new york, stayed expensive luxury hotels felt mightily ripped, not time- definitely casablanca,  \",\n",
       "       'returning just returned staying property business trip, used outstanding service premier hotels hong kong mandarin oriental impressed cream crop, normally stay ritz carlton imminent closing jan 31 opted stay refurbished mandarin, rooms particularly outstanding service attention detail/customer satisfaction reproach, returning hong kong months vacation just canceled reservation seasons re-booked instead mandarin, impressive venue,  ',\n",
       "       'perfect choice perfect location hotel not choice booked website nh caransa just opposite square switched schiller.we lucky.. upgraded stayed renewed room floor quiet large confort need.the location hotel perfect city center looking quiet place better choose different place rembrandtplain restaurants bars intense night life staff kind 3 nights fantastic.enjoy amsterdam,  ',\n",
       "       'fantastic, just returned home weekend intercontinental berlin felt need write immediate review, absolutely loved hotel nothing didn t like, vitality club fantastic really good facilities thoroughly enjoyed afternoon swim sauna, food la cafe excellent particularly chinese food, room lovely beds extremely comfortable, hotel great location close main thorougfares able sightseeing tour city, definitely recommend hotel looking special weekend berlin, definitely book hotel,  ',\n",
       "       'just, harbour plaza 10 nights holiday trip.the hotel beautiful lobby not really big impressive.concierge ceck-in valet service best.the food restaurant fantastic, stayed superior room garden wiev big really clean furnished, size rooms not usual size chinese hotel room, big beds comfortables, housekeeping helpful efficent, entire hotel really really clean, inside bathroom ok cleanliness furniture shower complimentary bath set, floor 21.st floor deck pool not big faboulous wiev magnificent victoria harbour, food served pool bar fine maybe little bit expensive, pool wall glass able open eyes water unbelievable skyline hong kong, fitness center equipped breathtaking wiev pool, waiting, harbour plaza,  ',\n",
       "       \"excellent spent 3 nights beginning august, hotel excellenty situated good value got great rate independent website, despite spg card earned upgrade, rooms furnished bathroom featured double sinks, rate included breakfast good plenty choice good quality, beware hotel bar expensive n't unexpected plenty options nearby tired hot afternoon, definitely recommended base short break visit,  \",\n",
       "       \"let know hate americans minute entered hotel sinking feeling, check confusing tedious 40 group think happy large party, rooms scattered complex, filthy smelled mold growing walls towels, room razor blade floating toilet bugs, rooms not morning no clean towels left, social staff downright rude belly man, ignored lewd comments girls.it clear hated americans, no offered help really 1 place eat buffet seating reservation partially buffet, food worst tasted prior departure assumption eat riu restaurants did n't tell cost 40.00 extra person, 70 style foul smelling disco extra charge, day arrived member party slipped wet floor no not drink arm went glass table requiring 30 stiches, hotel cab way fare paid pay 600, hospital treated positive tour bus drivers nice beach beautiful beaches cancun st thomas st maarten like,  \",\n",
       "       \"let year trip punta cana husband planning trip peoples reviews quite helpful, october went grand flamenco honeymoon, dissapointed general service terrible mean terrible, breakfast did n't server approach offer tea/coffee week, dinner slight improvement server come maybe twice meal, past worked food/drink industry appreciate good service really ca n't stand bad service, food average overall buffet lot things, highlight breakfast omelet area pick ingredients cooked right spot, nice, went mexican la carte.. big mistake n't, sat seriously 45 minutes approached server.. 15-20 minutes drinks came table, main course came maybe 45 minutes later time husband hungry feeling sick food presentation poor totally unappetizing, took bite entrees got left, terrible.in general service worst men women resort reps waiting outside buffet breakfast everyday attack try sell times shares resort.. day, annoying uncomfortable.on bavaro beach beautiful, absolutely breath taking, spent lot time beach n't problem finding lounger, beach volleyball fun food beach restaurant pretty good, rained times clear 30 minutes later, went snorkelling day amazing, time snorkelling loved, snorkel guide great really friendly helpful.our room nice right near beach, complaint room bathroom, dirty looking paint chipping, bathtub ran completely shallow cover half body, not mention water pressure terrible took 30-40 minutes run bath.i definitely return punta cana not grand flamenco, not impressed,  \",\n",
       "       \"dream just returned glorious week grand palladium bavaro, admittedly little hesitant reading hit miss reviews site amazing week amazing time resort, mention not time travellers time dominican republic.first say frustrations just couple ignorance pace life dominican, toronto used hustle bustle big city, not dominican, time really saw truly hustling toronto style porters airport, little understanding little patience new respect dominicans remember not world moves lifestyle pace, frustrating experience desk check-in little slower expected, careful consideration check-in process took maybe 5 minutes instead 2 minutes took stride.after experience desk little wary honesty uphill there.here summary positives agree past reviews jr. suite beautiful clean great water pressure temperature great jacuzzi tub working mini-fridge re-stocked 2nd day fine, left 10.00 beginning trip service outstanding.- beaches wonderful picture perfect early want palapa busy sections resort, undiscovered treasure palapas east end bavaro resort free day, sure saw people save spots not use n't bothered it.- pool beautiful hot great service early grass, grounds immaculate, constantly upkept staff husband say groundskeeper washing walkway soap water, service no issues service staff friendly helpful supply drinks table little waiting hint table buffet waiter usually 2-3 minutes order drink buffet voila, staff not speak lot english prepared, thought charm wanted learn speak little spanish, certainly not expect visitors canada know entire language nor expect learn 10 languages communicate visitors canada, family resort kids honesty bonus wanted relax, not, hit miss stick restaurants bavaro review.la cathedral buffet bavaro excellent, lots variety excellent quality.la arriciefe lunch buffet excellent, lots variety excellent quality.sports bar not good hey went dominican try new food think north american burgers hot dogs dominican think, resort definiately not hamburgers hot dogs crowd, la cartela quixote seasoned palate, highly recommend grouper main dish outstanding, easily best meal week, restaurant went bavaro la carte.la uva dominican specialties, good spanish night not good meal good.mare nostrum italian food, good, recommendation small portions salad bar portions enormous, great time, sensitive stomach husband got sick nor did hear getting sick.my husband chef quite worried not like food, loved, rate food hot fresh lots variety flavour.ok negatives it- not people looking lot interaction vacationers resort n't lot mingling guests part- resort not people looking party night disco resort people looking relax unwind.we planning trip year definiately return resort,  \",\n",
       "       \"days el conquistador lovely resort things, days days resort dine restaurants spend hours private island play casino relax pools.excellent friendly service check, allowed check early getting rooms closely located requested deluxe ocean view, room rates extremely overpriced book online paying just room rate, checkout slapped room tax resort fee likely room charges drinks meals eating/drinking resort overpriced prices, feel like staying resort compound location resort limits access fajardo area unless rental car, avis counter rent car day day trip el yunque n't miss rainforest venture luquillo beach lunch.palomino island fun food/drink options limited amenity not resorts, pack snacks water not stuck paying high prices.one thing useful amenity self-serve laundry, way n't pay 50 items laundry overall nice resort n't restrict caribbean vacation miss beautiful island,  \",\n",
       "       \"wonderful hotel hotel vintage park boutique hotel kimpton hotels group known lovely eco-friendly, stayed hotels town far nicest serveral reasons, not big fan big chain hotels stay occasions, prefer personable places remember come, joined club arrived kimpton hotel treated regular, special gifts room just ordered, orgainc fruits sparkling water chocolates daughters myself.when showed hotel sick, n't sleeping keeping family night coughing, spoke desk maybe getting room floor easily accommodated despite fact hotel pretty, moved higher floor rooms hall, elevator right room heard noise coming hall elevators rooms me.i later sister paul newman stayed hotel week arrived, n't normally rub shoulders rich famous taste eco-friendly places par, n't expensive, great agree parking garage expensive protected, free overnight parking streets 6pm 7 8 parking permit plan stay longer, personally doing morning prefered spending couple extra dollars worth extra hour sleep.wonderful morning coffee teas, saw food mornings, missed wine hour did n't chance eat restaurant eating family time tourists.i certainly stay kimpton hotels town,  \",\n",
       "       'lovely hotel just come amsterdam brilliant time.we stayed hotel 3 nights thought lovely not saw day night.i reccomend sure,  ',\n",
       "       'fabulous night florence able check early no problems checking late day got delayed, fairly average hotel rome excited saw room really modern, girl desk absolutely lovely gave heaps info, felt comfortable having nice relaxing bath room clean, breakfast morning unbelievable think hubby went nuts totally overate, absolutely loved florence hotel extra special, really close train easy walking distance sites shops restaurants,  ',\n",
       "       'great stay stayed cambridge suites sept 29-oct 3 thought wonderful, none understood bad reviews, standard suite larger normal hotel room probably cheaper, free breakfast good comparable not better conferences, free bottled water extra plus, staff helpful pleasant, great location near subway path, restaurant pricey cheaper places close, definitely stay,  ',\n",
       "       \"ideal way, wife 49 more-or-less grown children 14 25 descended bahia principe punta cana second week august 2006 celebrate milestone lives, all-inclusive thing observations considered not rank novice light admitted cynicism people manage connoisseurs sort holiday, broad elements experience perfect beach postcard perfect design resort elegant practical people friendly food drinks copious appealing spotless no lineups, short resort life quite unlike regular lives familiar idle luxury amused variations facade i__Ç_é\\x96 not sure stand especially airport shuttle hurries neighbourhoods hot crowded concrete sheds feet highway, thankfully taste grand luxury pure leisure lots comedy, perfection turns probably tedious.i suppose definition resort experience elaborately contrived leisure so-called la carte restaurants theatrics lurch high gear, good north americans developed healthy suspicion organization obviously coached minimum wage staff exceptionally obsequious fawning n't long trading glances ministrations required multiple waiters wine stewards busboys maitre d chef-like fellows swooping stand-alone eateries serving complex variations food available buffet, clearly la carte experience crafted appeal visitors want feel pampered regardless actual fare, despite great ceremony wine standards laughably bad desserts fashionably drizzled chocolate syrup quite recently-thawed quality favourite japanese restaurant unspoken motto gon na know difference, embraced desperately, twenty-somethings early 80 wife spent years teaching japan fact actually did know difference, example walls decorated seemingly authentic calligraphy able identify characters scroll reading, similarly tempura great sushi just nice loblaws bento cook batch rice-a-roni scratch right eyes, fried rice consistency quaker harvest crunch novelty no japanese recognize let cook daughter enjoyed, followed standard pre-grocery-trip stir fry prepared great flourish friendly cook repeatedly tapped haircut bits cleaver, let repeat aside wine none bad unenjoyable, vaguely oriental griddle mix concoctions dubious authenticity restaurants prepared earnestness pleasure eat waiters/actors bless souls delivered head office mandate admirable dedication, especially staff far home buffet atmosphere relaxed food honest hospitality dominican, buffet quite simply best array food experimented sampled recklessly no ill-effect, forever crave called, 18 year old day visit pointed small green lizard building wall look tayoda, similar reduced spread food available conveniently beach just well-thought-out amenities, line-ups, trolley space loungers shade beach arrived, fact blight beach suspect labouring heat luggage variously greased sunburned highly conspicuous topless sand nymphs europe, dieu les canadiens, n't let set camp, say ventured tended stand bit regular clientele largely european typically indulge pleasures elegant simplicity half bathing suit book word searches good, oddly absent mix guests americans gay couples, sad reason felt wise discreetly radar, unspoken foreign voice beach beseeching discretion overfed guy faux-tilley hat, weather perfect came huge surprise, wife 18 year old obsessive weather junkies routine times tracking disturbances comparing stats weeks departure, best told expect sweltering humidity daily drizzle caribbean, august, people mental, house meteorologists sagely concurred escape confinement sort disaster relief facility considered major success, turned rain fell week spectacular cloudburst visiting santo domingo safely discount rum shop 6 minute duration, day sunny comfortable 30 32 degrees steady gentle breeze sea encampment sand positively temperate infinitely better record heat wave roasted ontario july, lucked, unfortunately dominicans did n't foresight stage major events history close punta cana resort strip long bus ride santo domingo, agreed interesting lengthy day served extra purpose provided relief leisure, unlikely phenomenon certainly complain came point day 5 think notion dragging butts unrelenting perfection beach losing charm, add bobbing neck-deep swim-up bar doro monkey hand unlikely diminish charm wife danger discovering tepid bathtub beverage sunglasses later tonight afraid, maybe unlike roasted european seniors speedos maximum capacity leisure luxury day 7 rolled happily hung lobby bar wait bus drinking iced tea orange juice far sun possible.all ca n't imagine better, resort does need better introductory booklet issue room key explain all-inclusive features initial befuddled exploration fun,  \",\n",
       "       'great location beach definitely agree reviewer, great location beach good 15 minute walk main strip restaurants, bus best bet old san juan just 75 cents come 20-30 mins, cab 13-14.we reservation wind chimes like lot people got upgraded acacia opinion nicer, got free upgrade mind gorgeous balcony suite, zero parking street nor parking lot wind lot 10 day not worth imo, definitely advice felix desk acacia recommend eateries things avoid, definitely kasalta bakery breakfast 10 min walk opposite way old city, unlike previous post skip bebo cafe bebo not beso, dominican owned worst service, food wasnt worth, going old san juan eat lupi mexican restaurant good, thought rooms really nice stepped jacuzzi right room, pool wind access hotels sandwiches chips/salsa excellent bar, waterfall el yunque rent car 25 min ride, dont know cab, not far,  ',\n",
       "       'unbelievable, usually not write reviews site upset read reading trip el conquistador, went wife 2 kids age 3 5 open mind, spoken said place breathtaking got ta, read reviews did not really know think, just got night best vacation, views breathtaking, stayed oceanview room overlooking atlantic carribean, personally picky hotel rooms usually stay hilton embassy suites, room fine especially look outside balcony paradise, rooms little outdated clean extremely acceptable taste, beds comfortable worked great, resort like going paradise not stay rooms day, rooms morning breakfast night asleep, wife kids hung pool 1 day played golf, golf course outstanding manicured, shot 77 double bogey 18, pools clean blast, best time private island, spend everyday truly gilligans island, grass umbrellas horseback riding, absolutely best time, boat takes 20 minutes like 5 minutes, boats leave el island 30 minutes, want wind breeze right island boat, truly paradise did not want leave, got married jamaica place literally blows away, cont,  ',\n",
       "       'service snarl date november 14 2008i stayed mandarin oriental new york previously pleasant stay, time typified attitude maitre d cocktail lounge, asked seats told arrogant superior demeanor twenty-five minute wait, despite tables obviously vacant, told wait bar did, thirty minutes later maitre d having come approached told wait, tables open, finally hour later having heard maitre d left, noted tables lounge vacant, attitude staff lucky, prices economy continue attitude lucky,  ',\n",
       "       'brilliant, just 3 nights st christpohe loved, 3rd trip paris hotel location best far, close place monge metro market shops, walk saint germaine pantheon, staff really friendly helpful, room ok size paris little dated clean good bathroom, concern rooms little hot provide fan, nice weather not hot not sure enjoyed stay 25 degrees, apart great hotel struggle better value paris,  ',\n",
       "       \"good location average hotel not far center 20 minutes walk center minutes metro, asked wanted quiet room course said yes n't quiet looked brick wall close, color sky stick heads window look, breakfast buffet expensive 14___ saw limited no fresh fruit end spain, decided welcome curt tables dirty cups food unimaginative, said clean quiet no problems, fun outside hotel really just sleep,  \",\n",
       "       'bad vibrations short version air conditioning hotel builds harmonic modulating vibration ducts coming basement, room air returns coming 2 minute buildup release noise drove nuts, figured nicely moved room realize problem probably hear rooms loud did not drive nuts low level, liked open windows hotel right i-5 continuously traveled types vehicles quite loud windows open not.the normal level great marriott service pleasant not stay facility changes air,  ',\n",
       "       'excellent resort just got 5 days desert ridge, wonderful experience, booked hotelopia.com saved lot money, bargain got, service notch, rooms nice lot space big bathrooms, food pricey excellent spa quite relaxing, not pickiest people like nice new hotels high quality service, felt restaurants pricey location food quite small overall experience booking trip couple months, comfortable knowing hotel clean comfortable great place relax, dont pay 400 night, shop cheeper, enjoy sure did,  ',\n",
       "       'choose different hotel little traveler 25 yr old lady went hubby husbands opinion same.. i__Ç_é\\x96 pregnant didn__Ç_é_ drink bit better o punta cana places dr worst hotel far, great thing trip direct flight travel smooth beach amazing, waves fine food buffet terrible restaurants horrible, good thing food breakfast bread fruits ate pineapples watermelon apples not good, sit table table getting food, not organized, wait forever bring coffee/tea drink yourself.entertainment wasn__Ç_é_ bad nice club/disco property, certainly not recommend hotel friend,  ',\n",
       "       'wow fantastic place stayed april 12-april 19 2008about 51 hubby 63. totally beach people love just lay sun.flew punta cana miami, airport punta cana cutest little airport seen, better island airport, open clean, thatched hut roofs girls dressed costumes meet arrive picture, band playing, time got got cab hour not bad, immigration breeze wait little bit luggage tour rep headed resort.ride resort 25 minutes, moment drove awed kept beautiful place, gorgeous reception area fresh flowers place, asked travel agent request bldg 2000 3000 4000 room floor, emailed resort request left, deluxe ocean view, request granted room 2219 3rd floor, view gorgeous, room tub bathroom huge tub/shower combo nice, fresh flower petals tub sink towel animals towels, pretty, big king size bed, patio 2 chairs table, size sofa desk cabinet tv fridge, lower table, room nice size, loved, maid fabulous, took crayons/coloring books/pencils left tip day, resort simply gorgeous, grounds kept clean manicured, pool b/t bld 2000 3000 beautiful, loved david bartender pool bar, did not matter walked just saw gorgeous flowers shrubs, don__Ç_é_ know say perfect.food imo can__Ç_é_ eat issue, don__Ç_é_ eat meat chic no seafood plenty, hubby loved variety foods, liked buffets ate ala carte__Ç_é_ night did mexican really good, buffet liked el cathedral bavaro lobby best, presentation restaurants incredible night different theme laid look absolutely gorgeous, tons different things choose, wed/sat mornings serve mimosas breakfast buffets night gave tequila shots night kind liquor shots.beach oh god heaven, gorgeous gorgeous beach, play towel game, got 5:45 morning towels thatched huts gone, think people left overnight, really don__Ç_é_ issue people saving chairs irks day, just rude, towels went walk 8 stayed day, left couple snorkel trips took stuff freed chairs use, water sand beach just simply wonderful.things little want, animation team stuff going, don__Ç_é_ bug ask want participate say no leave, vendors not bug, walk books pictures, want like parasailing come talk, big selling push beach all.marketplace went couple times little marketplace outside resort, vendors not worse islands sure barter, pay asking, bought stuff little grocery, presidente lite cans 15 12 pack, no american beer, resort served presidente tap just not week, bought champagne little store 13 bottle mimosas beach.excursions parasailed fun, 85, did tropical storm snorkel trip great, think paid 168 including tax, did marinarium 160 okay not, make stay group snorkel just not like, fun try different time.overall perfect week planning 2 years, year booked st thomas week pc, spend years resort, fabulous,  ',\n",
       "       \"luxury convenience ca n't recommend hotel highly, location convenient potsdamerplatz near brandenburg gate reichstag tiergarten berlin philharmonic, room highest quality new looked like person stay, bar comfortable accommodating breakfast room light staffed, staff helpful courteous.i booked hotel basis previous good experiences marriott hotels not disappointed, berlin stay bothering scout hotels good.for purposes comparison paid eur159 night, breakfast eur24 felt bit high, cafe 100 yards away substitute visit.a great stay wish longer,  \"],\n",
       "      dtype=object)"
      ]
     },
     "execution_count": 43,
     "metadata": {},
     "output_type": "execute_result"
    }
   ],
   "source": [
    "data_batch = {i: df.Feedback[j:j+30].values for i,j in enumerate(range(0,len(df), 30))}\n",
    "data_batch[0]"
   ]
  },
  {
   "cell_type": "code",
   "execution_count": 49,
   "metadata": {},
   "outputs": [],
   "source": [
    "sents = []\n",
    "system_messege = f\"You are the sentiment analyser who takes the list containing review texts and provode corresponding sentiment output JSON,JSON schemaa is {json.dumps({'text starting word':'Sentiment'})}\"\n",
    "chat_completion = client.chat.completions.create(\n",
    "        messages=[\n",
    "            {\n",
    "                \"role\":\"system\",\n",
    "                \"content\":system_messege\n",
    "            },\n",
    "            {\n",
    "                \"role\": \"user\",\n",
    "                \"content\": f\"Provide the Sentiment of {data_batch[0]}\",\n",
    "            }\n",
    "        ],\n",
    "        model=\"llama3-8b-8192\",\n",
    "        response_format={\"type\": \"json_object\"}\n",
    "        \n",
    "    )\n",
    "x = chat_completion.choices[0].message.content\n",
    "\n",
    "\n"
   ]
  },
  {
   "cell_type": "code",
   "execution_count": 6,
   "metadata": {},
   "outputs": [],
   "source": [
    "def sentiment(text):\n",
    "    chat_completion = client.chat.completions.create(\n",
    "        messages=[\n",
    "            {\n",
    "                \"role\":\"system\",\n",
    "                \"content\":\"You are a sentiment analyser who outputs the sentiment of the review in JSON.\"\n",
    "                f\"The JSON object must use the schema : {json.dumps({'Sentiment':'Positive/Negative'})}\"\n",
    "            },\n",
    "            {\n",
    "                \"role\": \"user\",\n",
    "                \"content\": f\"Provide the Sentiment of {text}\",\n",
    "            }\n",
    "        ],\n",
    "        model=\"llama3-8b-8192\",\n",
    "        response_format={\"type\": \"json_object\"}\n",
    "    )\n",
    "    out = json.loads(chat_completion.choices[0].message.content)\n",
    "    return out['Sentiment']"
   ]
  },
  {
   "cell_type": "code",
   "execution_count": 44,
   "metadata": {},
   "outputs": [
    {
     "data": {
      "text/html": [
       "<div>\n",
       "<style scoped>\n",
       "    .dataframe tbody tr th:only-of-type {\n",
       "        vertical-align: middle;\n",
       "    }\n",
       "\n",
       "    .dataframe tbody tr th {\n",
       "        vertical-align: top;\n",
       "    }\n",
       "\n",
       "    .dataframe thead th {\n",
       "        text-align: right;\n",
       "    }\n",
       "</style>\n",
       "<table border=\"1\" class=\"dataframe\">\n",
       "  <thead>\n",
       "    <tr style=\"text-align: right;\">\n",
       "      <th></th>\n",
       "      <th>User_Id</th>\n",
       "      <th>Cust_name</th>\n",
       "      <th>Cust_email</th>\n",
       "      <th>Feedback</th>\n",
       "      <th>Date</th>\n",
       "      <th>Care_Taker</th>\n",
       "      <th>Emp_id</th>\n",
       "      <th>Age</th>\n",
       "      <th>Contact</th>\n",
       "      <th>Department</th>\n",
       "      <th>Customer Stay Duration (hrs)</th>\n",
       "      <th>Customer_N_visit</th>\n",
       "      <th>Cust amount to be paid</th>\n",
       "      <th>Nps</th>\n",
       "      <th>Dining</th>\n",
       "      <th>Room Preference</th>\n",
       "      <th>Sport Activities</th>\n",
       "      <th>Wellness</th>\n",
       "      <th>Pricing</th>\n",
       "    </tr>\n",
       "  </thead>\n",
       "  <tbody>\n",
       "    <tr>\n",
       "      <th>5128</th>\n",
       "      <td>User_05129</td>\n",
       "      <td>Ashlee</td>\n",
       "      <td>ashlee7565@example.com</td>\n",
       "      <td>not impressive stayed park inn end 2006 impres...</td>\n",
       "      <td>2021-02-01</td>\n",
       "      <td>Carey</td>\n",
       "      <td>EMP2459</td>\n",
       "      <td>47</td>\n",
       "      <td>7151171276</td>\n",
       "      <td>Accounting</td>\n",
       "      <td>5.3</td>\n",
       "      <td>9</td>\n",
       "      <td>380.82</td>\n",
       "      <td>-33</td>\n",
       "      <td>Vegan</td>\n",
       "      <td>Twin</td>\n",
       "      <td>Soccer</td>\n",
       "      <td>Body Scrubs</td>\n",
       "      <td>Mid-range</td>\n",
       "    </tr>\n",
       "    <tr>\n",
       "      <th>9798</th>\n",
       "      <td>User_09799</td>\n",
       "      <td>Nichole</td>\n",
       "      <td>nichole7683@example.com</td>\n",
       "      <td>wonderful hotel, sister stayed affinia enjoyed...</td>\n",
       "      <td>2007-05-06</td>\n",
       "      <td>Patel</td>\n",
       "      <td>EMP2356</td>\n",
       "      <td>56</td>\n",
       "      <td>8450434956</td>\n",
       "      <td>Banking</td>\n",
       "      <td>6.5</td>\n",
       "      <td>3</td>\n",
       "      <td>378.08</td>\n",
       "      <td>-4</td>\n",
       "      <td>Vegetaion</td>\n",
       "      <td>King</td>\n",
       "      <td>Runnin</td>\n",
       "      <td>Meditation Classes</td>\n",
       "      <td>Mid-range</td>\n",
       "    </tr>\n",
       "    <tr>\n",
       "      <th>788</th>\n",
       "      <td>User_0789</td>\n",
       "      <td>Kimberly</td>\n",
       "      <td>kimberly1142@example.com</td>\n",
       "      <td>derag hotel berlin booked hotel derag website,...</td>\n",
       "      <td>2022-10-13</td>\n",
       "      <td>Murillo</td>\n",
       "      <td>EMP1381</td>\n",
       "      <td>36</td>\n",
       "      <td>7308187463</td>\n",
       "      <td>E-commerce</td>\n",
       "      <td>9.6</td>\n",
       "      <td>2</td>\n",
       "      <td>140.76</td>\n",
       "      <td>-52</td>\n",
       "      <td>Vegetaion</td>\n",
       "      <td>Suite</td>\n",
       "      <td>Runnin</td>\n",
       "      <td>Spa Treatment</td>\n",
       "      <td>Mid-range</td>\n",
       "    </tr>\n",
       "    <tr>\n",
       "      <th>6939</th>\n",
       "      <td>User_06940</td>\n",
       "      <td>Julian</td>\n",
       "      <td>julian2606@example.com</td>\n",
       "      <td>fabulous, booking vacation 4 dismay realized p...</td>\n",
       "      <td>2025-01-28</td>\n",
       "      <td>Sims</td>\n",
       "      <td>EMP1512</td>\n",
       "      <td>29</td>\n",
       "      <td>7864757032</td>\n",
       "      <td>Maintenance</td>\n",
       "      <td>3.6</td>\n",
       "      <td>6</td>\n",
       "      <td>267.42</td>\n",
       "      <td>-60</td>\n",
       "      <td>Non-Vegetarion</td>\n",
       "      <td>Double</td>\n",
       "      <td>Volleyball</td>\n",
       "      <td>Herbal Baths</td>\n",
       "      <td>Seasonal pricing</td>\n",
       "    </tr>\n",
       "    <tr>\n",
       "      <th>7130</th>\n",
       "      <td>User_07131</td>\n",
       "      <td>Evan</td>\n",
       "      <td>evan7559@example.com</td>\n",
       "      <td>great time, stayed hotel late fantastic time, ...</td>\n",
       "      <td>2013-08-06</td>\n",
       "      <td>Li</td>\n",
       "      <td>EMP2779</td>\n",
       "      <td>21</td>\n",
       "      <td>6847401587</td>\n",
       "      <td>Photography</td>\n",
       "      <td>4.2</td>\n",
       "      <td>5</td>\n",
       "      <td>235.04</td>\n",
       "      <td>-68</td>\n",
       "      <td>Vegetaion</td>\n",
       "      <td>Double</td>\n",
       "      <td>Aerobics</td>\n",
       "      <td>Steam Room</td>\n",
       "      <td>Kids stay free</td>\n",
       "    </tr>\n",
       "    <tr>\n",
       "      <th>...</th>\n",
       "      <td>...</td>\n",
       "      <td>...</td>\n",
       "      <td>...</td>\n",
       "      <td>...</td>\n",
       "      <td>...</td>\n",
       "      <td>...</td>\n",
       "      <td>...</td>\n",
       "      <td>...</td>\n",
       "      <td>...</td>\n",
       "      <td>...</td>\n",
       "      <td>...</td>\n",
       "      <td>...</td>\n",
       "      <td>...</td>\n",
       "      <td>...</td>\n",
       "      <td>...</td>\n",
       "      <td>...</td>\n",
       "      <td>...</td>\n",
       "      <td>...</td>\n",
       "      <td>...</td>\n",
       "    </tr>\n",
       "    <tr>\n",
       "      <th>5363</th>\n",
       "      <td>User_05364</td>\n",
       "      <td>Drew</td>\n",
       "      <td>drew1187@example.com</td>\n",
       "      <td>great, booked hotel hotelconnect.co.uk best pr...</td>\n",
       "      <td>2024-11-14</td>\n",
       "      <td>Ball</td>\n",
       "      <td>EMP2116</td>\n",
       "      <td>61</td>\n",
       "      <td>6437445093</td>\n",
       "      <td>Entertainment</td>\n",
       "      <td>4.7</td>\n",
       "      <td>7</td>\n",
       "      <td>314.10</td>\n",
       "      <td>36</td>\n",
       "      <td>Vegan</td>\n",
       "      <td>Family</td>\n",
       "      <td>Golf</td>\n",
       "      <td>Personal Training</td>\n",
       "      <td>Package deals</td>\n",
       "    </tr>\n",
       "    <tr>\n",
       "      <th>8097</th>\n",
       "      <td>User_08098</td>\n",
       "      <td>Vicki</td>\n",
       "      <td>vicki2203@example.com</td>\n",
       "      <td>great location shame staff write sit room 9am ...</td>\n",
       "      <td>2011-03-24</td>\n",
       "      <td>Parks</td>\n",
       "      <td>EMP1516</td>\n",
       "      <td>53</td>\n",
       "      <td>6299245056</td>\n",
       "      <td>Banking</td>\n",
       "      <td>9.3</td>\n",
       "      <td>7</td>\n",
       "      <td>255.18</td>\n",
       "      <td>-71</td>\n",
       "      <td>Vegan</td>\n",
       "      <td>Double</td>\n",
       "      <td>Golf</td>\n",
       "      <td>Body Scrubs</td>\n",
       "      <td>Kids stay free</td>\n",
       "    </tr>\n",
       "    <tr>\n",
       "      <th>8394</th>\n",
       "      <td>User_08395</td>\n",
       "      <td>Ariel</td>\n",
       "      <td>ariel7817@example.com</td>\n",
       "      <td>excellent choice sofitel certainly royal venue...</td>\n",
       "      <td>2002-01-22</td>\n",
       "      <td>Wright</td>\n",
       "      <td>EMP2251</td>\n",
       "      <td>32</td>\n",
       "      <td>6424393219</td>\n",
       "      <td>HealthcareHelp Desk</td>\n",
       "      <td>6.9</td>\n",
       "      <td>9</td>\n",
       "      <td>463.94</td>\n",
       "      <td>-1</td>\n",
       "      <td>Vegan</td>\n",
       "      <td>King</td>\n",
       "      <td>Basketball</td>\n",
       "      <td>Steam Room</td>\n",
       "      <td>Member-exclusive rates</td>\n",
       "    </tr>\n",
       "    <tr>\n",
       "      <th>2600</th>\n",
       "      <td>User_02601</td>\n",
       "      <td>Tommy</td>\n",
       "      <td>tommy8422@example.com</td>\n",
       "      <td>fun weekend adams mark n't know definitely sta...</td>\n",
       "      <td>2007-11-10</td>\n",
       "      <td>Morse</td>\n",
       "      <td>EMP1022</td>\n",
       "      <td>77</td>\n",
       "      <td>9350438633</td>\n",
       "      <td>Advertising</td>\n",
       "      <td>1.3</td>\n",
       "      <td>6</td>\n",
       "      <td>196.10</td>\n",
       "      <td>50</td>\n",
       "      <td>Vegetaion</td>\n",
       "      <td>Double</td>\n",
       "      <td>Tennis</td>\n",
       "      <td>Facials</td>\n",
       "      <td>Member-exclusive rates</td>\n",
       "    </tr>\n",
       "    <tr>\n",
       "      <th>2795</th>\n",
       "      <td>User_02796</td>\n",
       "      <td>Austin</td>\n",
       "      <td>austin7195@example.com</td>\n",
       "      <td>great time, axel certainly not place stay budg...</td>\n",
       "      <td>2017-09-25</td>\n",
       "      <td>Morse</td>\n",
       "      <td>EMP1349</td>\n",
       "      <td>71</td>\n",
       "      <td>737119099</td>\n",
       "      <td>Customer Service</td>\n",
       "      <td>4.6</td>\n",
       "      <td>6</td>\n",
       "      <td>456.34</td>\n",
       "      <td>32</td>\n",
       "      <td>Non-Vegetarion</td>\n",
       "      <td>King</td>\n",
       "      <td>Basketball</td>\n",
       "      <td>Sauna</td>\n",
       "      <td>All-inclusive</td>\n",
       "    </tr>\n",
       "  </tbody>\n",
       "</table>\n",
       "<p>150 rows × 19 columns</p>\n",
       "</div>"
      ],
      "text/plain": [
       "         User_Id Cust_name                Cust_email  \\\n",
       "5128  User_05129    Ashlee    ashlee7565@example.com   \n",
       "9798  User_09799   Nichole   nichole7683@example.com   \n",
       "788    User_0789  Kimberly  kimberly1142@example.com   \n",
       "6939  User_06940    Julian    julian2606@example.com   \n",
       "7130  User_07131      Evan      evan7559@example.com   \n",
       "...          ...       ...                       ...   \n",
       "5363  User_05364      Drew      drew1187@example.com   \n",
       "8097  User_08098     Vicki     vicki2203@example.com   \n",
       "8394  User_08395     Ariel     ariel7817@example.com   \n",
       "2600  User_02601     Tommy     tommy8422@example.com   \n",
       "2795  User_02796    Austin    austin7195@example.com   \n",
       "\n",
       "                                               Feedback        Date  \\\n",
       "5128  not impressive stayed park inn end 2006 impres...  2021-02-01   \n",
       "9798  wonderful hotel, sister stayed affinia enjoyed...  2007-05-06   \n",
       "788   derag hotel berlin booked hotel derag website,...  2022-10-13   \n",
       "6939  fabulous, booking vacation 4 dismay realized p...  2025-01-28   \n",
       "7130  great time, stayed hotel late fantastic time, ...  2013-08-06   \n",
       "...                                                 ...         ...   \n",
       "5363  great, booked hotel hotelconnect.co.uk best pr...  2024-11-14   \n",
       "8097  great location shame staff write sit room 9am ...  2011-03-24   \n",
       "8394  excellent choice sofitel certainly royal venue...  2002-01-22   \n",
       "2600  fun weekend adams mark n't know definitely sta...  2007-11-10   \n",
       "2795  great time, axel certainly not place stay budg...  2017-09-25   \n",
       "\n",
       "     Care_Taker   Emp_id  Age     Contact           Department  \\\n",
       "5128      Carey  EMP2459   47  7151171276           Accounting   \n",
       "9798      Patel  EMP2356   56  8450434956              Banking   \n",
       "788     Murillo  EMP1381   36  7308187463           E-commerce   \n",
       "6939       Sims  EMP1512   29  7864757032          Maintenance   \n",
       "7130         Li  EMP2779   21  6847401587          Photography   \n",
       "...         ...      ...  ...         ...                  ...   \n",
       "5363       Ball  EMP2116   61  6437445093        Entertainment   \n",
       "8097      Parks  EMP1516   53  6299245056              Banking   \n",
       "8394     Wright  EMP2251   32  6424393219  HealthcareHelp Desk   \n",
       "2600      Morse  EMP1022   77  9350438633          Advertising   \n",
       "2795      Morse  EMP1349   71   737119099     Customer Service   \n",
       "\n",
       "      Customer Stay Duration (hrs)  Customer_N_visit  Cust amount to be paid  \\\n",
       "5128                           5.3                 9                  380.82   \n",
       "9798                           6.5                 3                  378.08   \n",
       "788                            9.6                 2                  140.76   \n",
       "6939                           3.6                 6                  267.42   \n",
       "7130                           4.2                 5                  235.04   \n",
       "...                            ...               ...                     ...   \n",
       "5363                           4.7                 7                  314.10   \n",
       "8097                           9.3                 7                  255.18   \n",
       "8394                           6.9                 9                  463.94   \n",
       "2600                           1.3                 6                  196.10   \n",
       "2795                           4.6                 6                  456.34   \n",
       "\n",
       "      Nps          Dining Room Preference Sport Activities  \\\n",
       "5128  -33           Vegan            Twin           Soccer   \n",
       "9798   -4       Vegetaion            King           Runnin   \n",
       "788   -52       Vegetaion           Suite           Runnin   \n",
       "6939  -60  Non-Vegetarion          Double       Volleyball   \n",
       "7130  -68       Vegetaion          Double         Aerobics   \n",
       "...   ...             ...             ...              ...   \n",
       "5363   36           Vegan          Family             Golf   \n",
       "8097  -71           Vegan          Double             Golf   \n",
       "8394   -1           Vegan            King       Basketball   \n",
       "2600   50       Vegetaion          Double           Tennis   \n",
       "2795   32  Non-Vegetarion            King       Basketball   \n",
       "\n",
       "                Wellness                 Pricing  \n",
       "5128         Body Scrubs               Mid-range  \n",
       "9798  Meditation Classes               Mid-range  \n",
       "788        Spa Treatment               Mid-range  \n",
       "6939        Herbal Baths        Seasonal pricing  \n",
       "7130          Steam Room          Kids stay free  \n",
       "...                  ...                     ...  \n",
       "5363   Personal Training           Package deals  \n",
       "8097         Body Scrubs          Kids stay free  \n",
       "8394          Steam Room  Member-exclusive rates  \n",
       "2600             Facials  Member-exclusive rates  \n",
       "2795               Sauna           All-inclusive  \n",
       "\n",
       "[150 rows x 19 columns]"
      ]
     },
     "execution_count": 44,
     "metadata": {},
     "output_type": "execute_result"
    }
   ],
   "source": [
    "sample_df = df.sample(150)\n",
    "sample_df"
   ]
  },
  {
   "cell_type": "code",
   "execution_count": 12,
   "metadata": {},
   "outputs": [
    {
     "name": "stdout",
     "output_type": "stream",
     "text": [
      "0\n",
      "1\n",
      "2\n"
     ]
    }
   ],
   "source": [
    "size = 50\n",
    "batch_df = [sample_df.Feedback[i:i+size] for i in range(0,150, size)]\n",
    "sentiment_ls = []\n",
    "c = 0\n",
    "for batch in batch_df:\n",
    "    sent = [sentiment(i) for i in batch]\n",
    "    sentiment_ls.extend(sent)\n",
    "    print(c)\n",
    "    c+=1"
   ]
  },
  {
   "cell_type": "code",
   "execution_count": null,
   "metadata": {},
   "outputs": [
    {
     "ename": "KeyboardInterrupt",
     "evalue": "",
     "output_type": "error",
     "traceback": [
      "\u001b[31m---------------------------------------------------------------------------\u001b[39m",
      "\u001b[31mKeyboardInterrupt\u001b[39m                         Traceback (most recent call last)",
      "\u001b[36mCell\u001b[39m\u001b[36m \u001b[39m\u001b[32mIn[48]\u001b[39m\u001b[32m, line 6\u001b[39m\n\u001b[32m      1\u001b[39m sentiment_ls = []\n\u001b[32m      3\u001b[39m \u001b[38;5;28;01mfor\u001b[39;00m text \u001b[38;5;129;01min\u001b[39;00m sample_df.Feedback:\n\u001b[32m      4\u001b[39m     \u001b[38;5;66;03m# Using the get_gemini_response function to get sentiment analysis\u001b[39;00m\n\u001b[32m      5\u001b[39m     \u001b[38;5;66;03m# This is an alternative to using the OpenRouter API\u001b[39;00m\n\u001b[32m----> \u001b[39m\u001b[32m6\u001b[39m     response = \u001b[43mget_gemini_response\u001b[49m\u001b[43m(\u001b[49m\u001b[33;43mf\u001b[39;49m\u001b[33;43m\"\"\"\u001b[39;49m\u001b[33;43mAnalyse the Sentiment for given text.\u001b[39;49m\n\u001b[32m      7\u001b[39m \u001b[33;43m    Text = \u001b[39;49m\u001b[38;5;132;43;01m{\u001b[39;49;00m\u001b[43mtext\u001b[49m\u001b[38;5;132;43;01m}\u001b[39;49;00m\u001b[33;43m.\u001b[39;49m\n\u001b[32m      8\u001b[39m \u001b[33;43m    Return the response in JSON format with the structrue:\u001b[39;49m\n\u001b[32m      9\u001b[39m \u001b[33;43m    *  include key `Sentiment` with value as \u001b[39;49m\u001b[33;43m'\u001b[39;49m\u001b[33;43mPositive\u001b[39;49m\u001b[33;43m'\u001b[39;49m\u001b[33;43m or \u001b[39;49m\u001b[33;43m'\u001b[39;49m\u001b[33;43mNegative\u001b[39;49m\u001b[33;43m'\u001b[39;49m\u001b[33;43m.\u001b[39;49m\u001b[33;43m\"\"\"\u001b[39;49m\u001b[43m)\u001b[49m\n\u001b[32m     12\u001b[39m     sent = response.split(\u001b[33m\"\u001b[39m\u001b[33m```\u001b[39m\u001b[33m\"\u001b[39m)[-\u001b[32m2\u001b[39m].replace(\u001b[33m\"\u001b[39m\u001b[33mjson\u001b[39m\u001b[33m\"\u001b[39m, \u001b[33m\"\u001b[39m\u001b[33m\"\u001b[39m)\n\u001b[32m     13\u001b[39m     sentiment_ls.append([text, json.loads(sent)[\u001b[33m'\u001b[39m\u001b[33mSentiment\u001b[39m\u001b[33m'\u001b[39m]])\n",
      "\u001b[36mCell\u001b[39m\u001b[36m \u001b[39m\u001b[32mIn[6]\u001b[39m\u001b[32m, line 10\u001b[39m, in \u001b[36mget_gemini_response\u001b[39m\u001b[34m(user_prompt)\u001b[39m\n\u001b[32m      9\u001b[39m \u001b[38;5;28;01mdef\u001b[39;00m\u001b[38;5;250m \u001b[39m\u001b[34mget_gemini_response\u001b[39m(user_prompt):\n\u001b[32m---> \u001b[39m\u001b[32m10\u001b[39m     response = \u001b[43mgemini_model\u001b[49m\u001b[43m.\u001b[49m\u001b[43mgenerate_content\u001b[49m\u001b[43m(\u001b[49m\u001b[43muser_prompt\u001b[49m\u001b[43m)\u001b[49m\n\u001b[32m     11\u001b[39m     \u001b[38;5;28;01mreturn\u001b[39;00m response.text\n",
      "\u001b[36mFile \u001b[39m\u001b[32mc:\\ProgramDataanaconda3\\langchain\\Lib\\site-packages\\google\\generativeai\\generative_models.py:331\u001b[39m, in \u001b[36mGenerativeModel.generate_content\u001b[39m\u001b[34m(self, contents, generation_config, safety_settings, stream, tools, tool_config, request_options)\u001b[39m\n\u001b[32m    329\u001b[39m         \u001b[38;5;28;01mreturn\u001b[39;00m generation_types.GenerateContentResponse.from_iterator(iterator)\n\u001b[32m    330\u001b[39m     \u001b[38;5;28;01melse\u001b[39;00m:\n\u001b[32m--> \u001b[39m\u001b[32m331\u001b[39m         response = \u001b[38;5;28;43mself\u001b[39;49m\u001b[43m.\u001b[49m\u001b[43m_client\u001b[49m\u001b[43m.\u001b[49m\u001b[43mgenerate_content\u001b[49m\u001b[43m(\u001b[49m\n\u001b[32m    332\u001b[39m \u001b[43m            \u001b[49m\u001b[43mrequest\u001b[49m\u001b[43m,\u001b[49m\n\u001b[32m    333\u001b[39m \u001b[43m            \u001b[49m\u001b[43m*\u001b[49m\u001b[43m*\u001b[49m\u001b[43mrequest_options\u001b[49m\u001b[43m,\u001b[49m\n\u001b[32m    334\u001b[39m \u001b[43m        \u001b[49m\u001b[43m)\u001b[49m\n\u001b[32m    335\u001b[39m         \u001b[38;5;28;01mreturn\u001b[39;00m generation_types.GenerateContentResponse.from_response(response)\n\u001b[32m    336\u001b[39m \u001b[38;5;28;01mexcept\u001b[39;00m google.api_core.exceptions.InvalidArgument \u001b[38;5;28;01mas\u001b[39;00m e:\n",
      "\u001b[36mFile \u001b[39m\u001b[32mc:\\ProgramDataanaconda3\\langchain\\Lib\\site-packages\\google\\ai\\generativelanguage_v1beta\\services\\generative_service\\client.py:835\u001b[39m, in \u001b[36mGenerativeServiceClient.generate_content\u001b[39m\u001b[34m(self, request, model, contents, retry, timeout, metadata)\u001b[39m\n\u001b[32m    832\u001b[39m \u001b[38;5;28mself\u001b[39m._validate_universe_domain()\n\u001b[32m    834\u001b[39m \u001b[38;5;66;03m# Send the request.\u001b[39;00m\n\u001b[32m--> \u001b[39m\u001b[32m835\u001b[39m response = \u001b[43mrpc\u001b[49m\u001b[43m(\u001b[49m\n\u001b[32m    836\u001b[39m \u001b[43m    \u001b[49m\u001b[43mrequest\u001b[49m\u001b[43m,\u001b[49m\n\u001b[32m    837\u001b[39m \u001b[43m    \u001b[49m\u001b[43mretry\u001b[49m\u001b[43m=\u001b[49m\u001b[43mretry\u001b[49m\u001b[43m,\u001b[49m\n\u001b[32m    838\u001b[39m \u001b[43m    \u001b[49m\u001b[43mtimeout\u001b[49m\u001b[43m=\u001b[49m\u001b[43mtimeout\u001b[49m\u001b[43m,\u001b[49m\n\u001b[32m    839\u001b[39m \u001b[43m    \u001b[49m\u001b[43mmetadata\u001b[49m\u001b[43m=\u001b[49m\u001b[43mmetadata\u001b[49m\u001b[43m,\u001b[49m\n\u001b[32m    840\u001b[39m \u001b[43m\u001b[49m\u001b[43m)\u001b[49m\n\u001b[32m    842\u001b[39m \u001b[38;5;66;03m# Done; return the response.\u001b[39;00m\n\u001b[32m    843\u001b[39m \u001b[38;5;28;01mreturn\u001b[39;00m response\n",
      "\u001b[36mFile \u001b[39m\u001b[32mc:\\ProgramDataanaconda3\\langchain\\Lib\\site-packages\\google\\api_core\\gapic_v1\\method.py:131\u001b[39m, in \u001b[36m_GapicCallable.__call__\u001b[39m\u001b[34m(self, timeout, retry, compression, *args, **kwargs)\u001b[39m\n\u001b[32m    128\u001b[39m \u001b[38;5;28;01mif\u001b[39;00m \u001b[38;5;28mself\u001b[39m._compression \u001b[38;5;129;01mis\u001b[39;00m \u001b[38;5;129;01mnot\u001b[39;00m \u001b[38;5;28;01mNone\u001b[39;00m:\n\u001b[32m    129\u001b[39m     kwargs[\u001b[33m\"\u001b[39m\u001b[33mcompression\u001b[39m\u001b[33m\"\u001b[39m] = compression\n\u001b[32m--> \u001b[39m\u001b[32m131\u001b[39m \u001b[38;5;28;01mreturn\u001b[39;00m \u001b[43mwrapped_func\u001b[49m\u001b[43m(\u001b[49m\u001b[43m*\u001b[49m\u001b[43margs\u001b[49m\u001b[43m,\u001b[49m\u001b[43m \u001b[49m\u001b[43m*\u001b[49m\u001b[43m*\u001b[49m\u001b[43mkwargs\u001b[49m\u001b[43m)\u001b[49m\n",
      "\u001b[36mFile \u001b[39m\u001b[32mc:\\ProgramDataanaconda3\\langchain\\Lib\\site-packages\\google\\api_core\\retry\\retry_unary.py:293\u001b[39m, in \u001b[36mRetry.__call__.<locals>.retry_wrapped_func\u001b[39m\u001b[34m(*args, **kwargs)\u001b[39m\n\u001b[32m    289\u001b[39m target = functools.partial(func, *args, **kwargs)\n\u001b[32m    290\u001b[39m sleep_generator = exponential_sleep_generator(\n\u001b[32m    291\u001b[39m     \u001b[38;5;28mself\u001b[39m._initial, \u001b[38;5;28mself\u001b[39m._maximum, multiplier=\u001b[38;5;28mself\u001b[39m._multiplier\n\u001b[32m    292\u001b[39m )\n\u001b[32m--> \u001b[39m\u001b[32m293\u001b[39m \u001b[38;5;28;01mreturn\u001b[39;00m \u001b[43mretry_target\u001b[49m\u001b[43m(\u001b[49m\n\u001b[32m    294\u001b[39m \u001b[43m    \u001b[49m\u001b[43mtarget\u001b[49m\u001b[43m,\u001b[49m\n\u001b[32m    295\u001b[39m \u001b[43m    \u001b[49m\u001b[38;5;28;43mself\u001b[39;49m\u001b[43m.\u001b[49m\u001b[43m_predicate\u001b[49m\u001b[43m,\u001b[49m\n\u001b[32m    296\u001b[39m \u001b[43m    \u001b[49m\u001b[43msleep_generator\u001b[49m\u001b[43m,\u001b[49m\n\u001b[32m    297\u001b[39m \u001b[43m    \u001b[49m\u001b[43mtimeout\u001b[49m\u001b[43m=\u001b[49m\u001b[38;5;28;43mself\u001b[39;49m\u001b[43m.\u001b[49m\u001b[43m_timeout\u001b[49m\u001b[43m,\u001b[49m\n\u001b[32m    298\u001b[39m \u001b[43m    \u001b[49m\u001b[43mon_error\u001b[49m\u001b[43m=\u001b[49m\u001b[43mon_error\u001b[49m\u001b[43m,\u001b[49m\n\u001b[32m    299\u001b[39m \u001b[43m\u001b[49m\u001b[43m)\u001b[49m\n",
      "\u001b[36mFile \u001b[39m\u001b[32mc:\\ProgramDataanaconda3\\langchain\\Lib\\site-packages\\google\\api_core\\retry\\retry_unary.py:144\u001b[39m, in \u001b[36mretry_target\u001b[39m\u001b[34m(target, predicate, sleep_generator, timeout, on_error, exception_factory, **kwargs)\u001b[39m\n\u001b[32m    142\u001b[39m \u001b[38;5;28;01mfor\u001b[39;00m sleep \u001b[38;5;129;01min\u001b[39;00m sleep_generator:\n\u001b[32m    143\u001b[39m     \u001b[38;5;28;01mtry\u001b[39;00m:\n\u001b[32m--> \u001b[39m\u001b[32m144\u001b[39m         result = \u001b[43mtarget\u001b[49m\u001b[43m(\u001b[49m\u001b[43m)\u001b[49m\n\u001b[32m    145\u001b[39m         \u001b[38;5;28;01mif\u001b[39;00m inspect.isawaitable(result):\n\u001b[32m    146\u001b[39m             warnings.warn(_ASYNC_RETRY_WARNING)\n",
      "\u001b[36mFile \u001b[39m\u001b[32mc:\\ProgramDataanaconda3\\langchain\\Lib\\site-packages\\google\\api_core\\timeout.py:130\u001b[39m, in \u001b[36mTimeToDeadlineTimeout.__call__.<locals>.func_with_timeout\u001b[39m\u001b[34m(*args, **kwargs)\u001b[39m\n\u001b[32m    126\u001b[39m         remaining_timeout = \u001b[38;5;28mself\u001b[39m._timeout\n\u001b[32m    128\u001b[39m     kwargs[\u001b[33m\"\u001b[39m\u001b[33mtimeout\u001b[39m\u001b[33m\"\u001b[39m] = remaining_timeout\n\u001b[32m--> \u001b[39m\u001b[32m130\u001b[39m \u001b[38;5;28;01mreturn\u001b[39;00m \u001b[43mfunc\u001b[49m\u001b[43m(\u001b[49m\u001b[43m*\u001b[49m\u001b[43margs\u001b[49m\u001b[43m,\u001b[49m\u001b[43m \u001b[49m\u001b[43m*\u001b[49m\u001b[43m*\u001b[49m\u001b[43mkwargs\u001b[49m\u001b[43m)\u001b[49m\n",
      "\u001b[36mFile \u001b[39m\u001b[32mc:\\ProgramDataanaconda3\\langchain\\Lib\\site-packages\\google\\api_core\\grpc_helpers.py:76\u001b[39m, in \u001b[36m_wrap_unary_errors.<locals>.error_remapped_callable\u001b[39m\u001b[34m(*args, **kwargs)\u001b[39m\n\u001b[32m     73\u001b[39m \u001b[38;5;129m@functools\u001b[39m.wraps(callable_)\n\u001b[32m     74\u001b[39m \u001b[38;5;28;01mdef\u001b[39;00m\u001b[38;5;250m \u001b[39m\u001b[34merror_remapped_callable\u001b[39m(*args, **kwargs):\n\u001b[32m     75\u001b[39m     \u001b[38;5;28;01mtry\u001b[39;00m:\n\u001b[32m---> \u001b[39m\u001b[32m76\u001b[39m         \u001b[38;5;28;01mreturn\u001b[39;00m \u001b[43mcallable_\u001b[49m\u001b[43m(\u001b[49m\u001b[43m*\u001b[49m\u001b[43margs\u001b[49m\u001b[43m,\u001b[49m\u001b[43m \u001b[49m\u001b[43m*\u001b[49m\u001b[43m*\u001b[49m\u001b[43mkwargs\u001b[49m\u001b[43m)\u001b[49m\n\u001b[32m     77\u001b[39m     \u001b[38;5;28;01mexcept\u001b[39;00m grpc.RpcError \u001b[38;5;28;01mas\u001b[39;00m exc:\n\u001b[32m     78\u001b[39m         \u001b[38;5;28;01mraise\u001b[39;00m exceptions.from_grpc_error(exc) \u001b[38;5;28;01mfrom\u001b[39;00m\u001b[38;5;250m \u001b[39m\u001b[34;01mexc\u001b[39;00m\n",
      "\u001b[36mFile \u001b[39m\u001b[32mc:\\ProgramDataanaconda3\\langchain\\Lib\\site-packages\\grpc\\_interceptor.py:277\u001b[39m, in \u001b[36m_UnaryUnaryMultiCallable.__call__\u001b[39m\u001b[34m(self, request, timeout, metadata, credentials, wait_for_ready, compression)\u001b[39m\n\u001b[32m    268\u001b[39m \u001b[38;5;28;01mdef\u001b[39;00m\u001b[38;5;250m \u001b[39m\u001b[34m__call__\u001b[39m(\n\u001b[32m    269\u001b[39m     \u001b[38;5;28mself\u001b[39m,\n\u001b[32m    270\u001b[39m     request: Any,\n\u001b[32m   (...)\u001b[39m\u001b[32m    275\u001b[39m     compression: Optional[grpc.Compression] = \u001b[38;5;28;01mNone\u001b[39;00m,\n\u001b[32m    276\u001b[39m ) -> Any:\n\u001b[32m--> \u001b[39m\u001b[32m277\u001b[39m     response, ignored_call = \u001b[38;5;28;43mself\u001b[39;49m\u001b[43m.\u001b[49m\u001b[43m_with_call\u001b[49m\u001b[43m(\u001b[49m\n\u001b[32m    278\u001b[39m \u001b[43m        \u001b[49m\u001b[43mrequest\u001b[49m\u001b[43m,\u001b[49m\n\u001b[32m    279\u001b[39m \u001b[43m        \u001b[49m\u001b[43mtimeout\u001b[49m\u001b[43m=\u001b[49m\u001b[43mtimeout\u001b[49m\u001b[43m,\u001b[49m\n\u001b[32m    280\u001b[39m \u001b[43m        \u001b[49m\u001b[43mmetadata\u001b[49m\u001b[43m=\u001b[49m\u001b[43mmetadata\u001b[49m\u001b[43m,\u001b[49m\n\u001b[32m    281\u001b[39m \u001b[43m        \u001b[49m\u001b[43mcredentials\u001b[49m\u001b[43m=\u001b[49m\u001b[43mcredentials\u001b[49m\u001b[43m,\u001b[49m\n\u001b[32m    282\u001b[39m \u001b[43m        \u001b[49m\u001b[43mwait_for_ready\u001b[49m\u001b[43m=\u001b[49m\u001b[43mwait_for_ready\u001b[49m\u001b[43m,\u001b[49m\n\u001b[32m    283\u001b[39m \u001b[43m        \u001b[49m\u001b[43mcompression\u001b[49m\u001b[43m=\u001b[49m\u001b[43mcompression\u001b[49m\u001b[43m,\u001b[49m\n\u001b[32m    284\u001b[39m \u001b[43m    \u001b[49m\u001b[43m)\u001b[49m\n\u001b[32m    285\u001b[39m     \u001b[38;5;28;01mreturn\u001b[39;00m response\n",
      "\u001b[36mFile \u001b[39m\u001b[32mc:\\ProgramDataanaconda3\\langchain\\Lib\\site-packages\\grpc\\_interceptor.py:329\u001b[39m, in \u001b[36m_UnaryUnaryMultiCallable._with_call\u001b[39m\u001b[34m(self, request, timeout, metadata, credentials, wait_for_ready, compression)\u001b[39m\n\u001b[32m    326\u001b[39m     \u001b[38;5;28;01mexcept\u001b[39;00m \u001b[38;5;167;01mException\u001b[39;00m \u001b[38;5;28;01mas\u001b[39;00m exception:  \u001b[38;5;66;03m# pylint:disable=broad-except\u001b[39;00m\n\u001b[32m    327\u001b[39m         \u001b[38;5;28;01mreturn\u001b[39;00m _FailureOutcome(exception, sys.exc_info()[\u001b[32m2\u001b[39m])\n\u001b[32m--> \u001b[39m\u001b[32m329\u001b[39m call = \u001b[38;5;28;43mself\u001b[39;49m\u001b[43m.\u001b[49m\u001b[43m_interceptor\u001b[49m\u001b[43m.\u001b[49m\u001b[43mintercept_unary_unary\u001b[49m\u001b[43m(\u001b[49m\n\u001b[32m    330\u001b[39m \u001b[43m    \u001b[49m\u001b[43mcontinuation\u001b[49m\u001b[43m,\u001b[49m\u001b[43m \u001b[49m\u001b[43mclient_call_details\u001b[49m\u001b[43m,\u001b[49m\u001b[43m \u001b[49m\u001b[43mrequest\u001b[49m\n\u001b[32m    331\u001b[39m \u001b[43m\u001b[49m\u001b[43m)\u001b[49m\n\u001b[32m    332\u001b[39m \u001b[38;5;28;01mreturn\u001b[39;00m call.result(), call\n",
      "\u001b[36mFile \u001b[39m\u001b[32mc:\\ProgramDataanaconda3\\langchain\\Lib\\site-packages\\google\\ai\\generativelanguage_v1beta\\services\\generative_service\\transports\\grpc.py:79\u001b[39m, in \u001b[36m_LoggingClientInterceptor.intercept_unary_unary\u001b[39m\u001b[34m(self, continuation, client_call_details, request)\u001b[39m\n\u001b[32m     64\u001b[39m     grpc_request = {\n\u001b[32m     65\u001b[39m         \u001b[33m\"\u001b[39m\u001b[33mpayload\u001b[39m\u001b[33m\"\u001b[39m: request_payload,\n\u001b[32m     66\u001b[39m         \u001b[33m\"\u001b[39m\u001b[33mrequestMethod\u001b[39m\u001b[33m\"\u001b[39m: \u001b[33m\"\u001b[39m\u001b[33mgrpc\u001b[39m\u001b[33m\"\u001b[39m,\n\u001b[32m     67\u001b[39m         \u001b[33m\"\u001b[39m\u001b[33mmetadata\u001b[39m\u001b[33m\"\u001b[39m: \u001b[38;5;28mdict\u001b[39m(request_metadata),\n\u001b[32m     68\u001b[39m     }\n\u001b[32m     69\u001b[39m     _LOGGER.debug(\n\u001b[32m     70\u001b[39m         \u001b[33mf\u001b[39m\u001b[33m\"\u001b[39m\u001b[33mSending request for \u001b[39m\u001b[38;5;132;01m{\u001b[39;00mclient_call_details.method\u001b[38;5;132;01m}\u001b[39;00m\u001b[33m\"\u001b[39m,\n\u001b[32m     71\u001b[39m         extra={\n\u001b[32m   (...)\u001b[39m\u001b[32m     76\u001b[39m         },\n\u001b[32m     77\u001b[39m     )\n\u001b[32m---> \u001b[39m\u001b[32m79\u001b[39m response = \u001b[43mcontinuation\u001b[49m\u001b[43m(\u001b[49m\u001b[43mclient_call_details\u001b[49m\u001b[43m,\u001b[49m\u001b[43m \u001b[49m\u001b[43mrequest\u001b[49m\u001b[43m)\u001b[49m\n\u001b[32m     80\u001b[39m \u001b[38;5;28;01mif\u001b[39;00m logging_enabled:  \u001b[38;5;66;03m# pragma: NO COVER\u001b[39;00m\n\u001b[32m     81\u001b[39m     response_metadata = response.trailing_metadata()\n",
      "\u001b[36mFile \u001b[39m\u001b[32mc:\\ProgramDataanaconda3\\langchain\\Lib\\site-packages\\grpc\\_interceptor.py:315\u001b[39m, in \u001b[36m_UnaryUnaryMultiCallable._with_call.<locals>.continuation\u001b[39m\u001b[34m(new_details, request)\u001b[39m\n\u001b[32m    306\u001b[39m (\n\u001b[32m    307\u001b[39m     new_method,\n\u001b[32m    308\u001b[39m     new_timeout,\n\u001b[32m   (...)\u001b[39m\u001b[32m    312\u001b[39m     new_compression,\n\u001b[32m    313\u001b[39m ) = _unwrap_client_call_details(new_details, client_call_details)\n\u001b[32m    314\u001b[39m \u001b[38;5;28;01mtry\u001b[39;00m:\n\u001b[32m--> \u001b[39m\u001b[32m315\u001b[39m     response, call = \u001b[38;5;28;43mself\u001b[39;49m\u001b[43m.\u001b[49m\u001b[43m_thunk\u001b[49m\u001b[43m(\u001b[49m\u001b[43mnew_method\u001b[49m\u001b[43m)\u001b[49m\u001b[43m.\u001b[49m\u001b[43mwith_call\u001b[49m\u001b[43m(\u001b[49m\n\u001b[32m    316\u001b[39m \u001b[43m        \u001b[49m\u001b[43mrequest\u001b[49m\u001b[43m,\u001b[49m\n\u001b[32m    317\u001b[39m \u001b[43m        \u001b[49m\u001b[43mtimeout\u001b[49m\u001b[43m=\u001b[49m\u001b[43mnew_timeout\u001b[49m\u001b[43m,\u001b[49m\n\u001b[32m    318\u001b[39m \u001b[43m        \u001b[49m\u001b[43mmetadata\u001b[49m\u001b[43m=\u001b[49m\u001b[43mnew_metadata\u001b[49m\u001b[43m,\u001b[49m\n\u001b[32m    319\u001b[39m \u001b[43m        \u001b[49m\u001b[43mcredentials\u001b[49m\u001b[43m=\u001b[49m\u001b[43mnew_credentials\u001b[49m\u001b[43m,\u001b[49m\n\u001b[32m    320\u001b[39m \u001b[43m        \u001b[49m\u001b[43mwait_for_ready\u001b[49m\u001b[43m=\u001b[49m\u001b[43mnew_wait_for_ready\u001b[49m\u001b[43m,\u001b[49m\n\u001b[32m    321\u001b[39m \u001b[43m        \u001b[49m\u001b[43mcompression\u001b[49m\u001b[43m=\u001b[49m\u001b[43mnew_compression\u001b[49m\u001b[43m,\u001b[49m\n\u001b[32m    322\u001b[39m \u001b[43m    \u001b[49m\u001b[43m)\u001b[49m\n\u001b[32m    323\u001b[39m     \u001b[38;5;28;01mreturn\u001b[39;00m _UnaryOutcome(response, call)\n\u001b[32m    324\u001b[39m \u001b[38;5;28;01mexcept\u001b[39;00m grpc.RpcError \u001b[38;5;28;01mas\u001b[39;00m rpc_error:\n",
      "\u001b[36mFile \u001b[39m\u001b[32mc:\\ProgramDataanaconda3\\langchain\\Lib\\site-packages\\grpc\\_channel.py:1195\u001b[39m, in \u001b[36m_UnaryUnaryMultiCallable.with_call\u001b[39m\u001b[34m(self, request, timeout, metadata, credentials, wait_for_ready, compression)\u001b[39m\n\u001b[32m   1183\u001b[39m \u001b[38;5;28;01mdef\u001b[39;00m\u001b[38;5;250m \u001b[39m\u001b[34mwith_call\u001b[39m(\n\u001b[32m   1184\u001b[39m     \u001b[38;5;28mself\u001b[39m,\n\u001b[32m   1185\u001b[39m     request: Any,\n\u001b[32m   (...)\u001b[39m\u001b[32m   1190\u001b[39m     compression: Optional[grpc.Compression] = \u001b[38;5;28;01mNone\u001b[39;00m,\n\u001b[32m   1191\u001b[39m ) -> Tuple[Any, grpc.Call]:\n\u001b[32m   1192\u001b[39m     (\n\u001b[32m   1193\u001b[39m         state,\n\u001b[32m   1194\u001b[39m         call,\n\u001b[32m-> \u001b[39m\u001b[32m1195\u001b[39m     ) = \u001b[38;5;28;43mself\u001b[39;49m\u001b[43m.\u001b[49m\u001b[43m_blocking\u001b[49m\u001b[43m(\u001b[49m\n\u001b[32m   1196\u001b[39m \u001b[43m        \u001b[49m\u001b[43mrequest\u001b[49m\u001b[43m,\u001b[49m\u001b[43m \u001b[49m\u001b[43mtimeout\u001b[49m\u001b[43m,\u001b[49m\u001b[43m \u001b[49m\u001b[43mmetadata\u001b[49m\u001b[43m,\u001b[49m\u001b[43m \u001b[49m\u001b[43mcredentials\u001b[49m\u001b[43m,\u001b[49m\u001b[43m \u001b[49m\u001b[43mwait_for_ready\u001b[49m\u001b[43m,\u001b[49m\u001b[43m \u001b[49m\u001b[43mcompression\u001b[49m\n\u001b[32m   1197\u001b[39m \u001b[43m    \u001b[49m\u001b[43m)\u001b[49m\n\u001b[32m   1198\u001b[39m     \u001b[38;5;28;01mreturn\u001b[39;00m _end_unary_response_blocking(state, call, \u001b[38;5;28;01mTrue\u001b[39;00m, \u001b[38;5;28;01mNone\u001b[39;00m)\n",
      "\u001b[36mFile \u001b[39m\u001b[32mc:\\ProgramDataanaconda3\\langchain\\Lib\\site-packages\\grpc\\_channel.py:1162\u001b[39m, in \u001b[36m_UnaryUnaryMultiCallable._blocking\u001b[39m\u001b[34m(self, request, timeout, metadata, credentials, wait_for_ready, compression)\u001b[39m\n\u001b[32m   1145\u001b[39m state.target = _common.decode(\u001b[38;5;28mself\u001b[39m._target)\n\u001b[32m   1146\u001b[39m call = \u001b[38;5;28mself\u001b[39m._channel.segregated_call(\n\u001b[32m   1147\u001b[39m     cygrpc.PropagationConstants.GRPC_PROPAGATE_DEFAULTS,\n\u001b[32m   1148\u001b[39m     \u001b[38;5;28mself\u001b[39m._method,\n\u001b[32m   (...)\u001b[39m\u001b[32m   1160\u001b[39m     \u001b[38;5;28mself\u001b[39m._registered_call_handle,\n\u001b[32m   1161\u001b[39m )\n\u001b[32m-> \u001b[39m\u001b[32m1162\u001b[39m event = \u001b[43mcall\u001b[49m\u001b[43m.\u001b[49m\u001b[43mnext_event\u001b[49m\u001b[43m(\u001b[49m\u001b[43m)\u001b[49m\n\u001b[32m   1163\u001b[39m _handle_event(event, state, \u001b[38;5;28mself\u001b[39m._response_deserializer)\n\u001b[32m   1164\u001b[39m \u001b[38;5;28;01mreturn\u001b[39;00m state, call\n",
      "\u001b[36mFile \u001b[39m\u001b[32msrc\\\\python\\\\grpcio\\\\grpc\\\\_cython\\\\_cygrpc/channel.pyx.pxi:388\u001b[39m, in \u001b[36mgrpc._cython.cygrpc.SegregatedCall.next_event\u001b[39m\u001b[34m()\u001b[39m\n",
      "\u001b[36mFile \u001b[39m\u001b[32msrc\\\\python\\\\grpcio\\\\grpc\\\\_cython\\\\_cygrpc/channel.pyx.pxi:211\u001b[39m, in \u001b[36mgrpc._cython.cygrpc._next_call_event\u001b[39m\u001b[34m()\u001b[39m\n",
      "\u001b[36mFile \u001b[39m\u001b[32msrc\\\\python\\\\grpcio\\\\grpc\\\\_cython\\\\_cygrpc/channel.pyx.pxi:205\u001b[39m, in \u001b[36mgrpc._cython.cygrpc._next_call_event\u001b[39m\u001b[34m()\u001b[39m\n",
      "\u001b[36mFile \u001b[39m\u001b[32msrc\\\\python\\\\grpcio\\\\grpc\\\\_cython\\\\_cygrpc/completion_queue.pyx.pxi:78\u001b[39m, in \u001b[36mgrpc._cython.cygrpc._latent_event\u001b[39m\u001b[34m()\u001b[39m\n",
      "\u001b[36mFile \u001b[39m\u001b[32msrc\\\\python\\\\grpcio\\\\grpc\\\\_cython\\\\_cygrpc/completion_queue.pyx.pxi:61\u001b[39m, in \u001b[36mgrpc._cython.cygrpc._internal_latent_event\u001b[39m\u001b[34m()\u001b[39m\n",
      "\u001b[36mFile \u001b[39m\u001b[32msrc\\\\python\\\\grpcio\\\\grpc\\\\_cython\\\\_cygrpc/completion_queue.pyx.pxi:42\u001b[39m, in \u001b[36mgrpc._cython.cygrpc._next\u001b[39m\u001b[34m()\u001b[39m\n",
      "\u001b[31mKeyboardInterrupt\u001b[39m: "
     ]
    }
   ],
   "source": [
    "sentiment_ls = []\n",
    "i = 0\n",
    "for text in sample_df.Feedback:\n",
    "    # Using the get_gemini_response function to get sentiment analysis\n",
    "    # This is an alternative to using the OpenRouter API\n",
    "    response = get_gemini_response(f\"\"\"Analyse the Sentiment for given text.\n",
    "    Text = {text}.\n",
    "    Return the response in JSON format with the structrue:\n",
    "    *  include key `Sentiment` with any of the following values: 'Positive', 'Negative'.\"\"\")\n",
    "\n",
    "\n",
    "    sent = response.split(\"```\")[-2].replace(\"json\", \"\")\n",
    "    sentiment_ls.append([text, json.loads(sent)['Sentiment']])\n",
    "    \n",
    "sentiment_ls"
   ]
  },
  {
   "cell_type": "code",
   "execution_count": 49,
   "metadata": {},
   "outputs": [
    {
     "data": {
      "text/plain": [
       "[[\"not impressive stayed park inn end 2006 impressed reviewers, area convenient alexanderplatz railway station resembled building site morning woken early sounds construction, booked expedia room floors 26 35 paid extra 3 nights reservation did not confirm writing assigned room 14th floor refused upgrade grounds hotel unlikely views average, disappointed no tea coffee making facilities room, room rate did not include breakfast did not try hotel breakfast ate locally instead, room small stylish lots mirrors glass chrome marble comfortable wonderful beds cotton bedlinen, reviewers mentioned steam-jet showers n't room, expected rave reviews,  \",\n",
       "  'Negative'],\n",
       " ['wonderful hotel, sister stayed affinia enjoyed stay, stay anytime new york, rooms nice clean, staff friendly hotel close walk nearby attractions, great time,  ',\n",
       "  'Positive'],\n",
       " [\"derag hotel berlin booked hotel derag website, running summer special 55 euro night, reading previous reviews decided jump, lucky enter hotel struck beautiful lobby modern stylish hotel, booked double room nice especially loved art work, complaint room oppressively hot evening, know n't common germany hotels a/c hoped hotel newer exception, left windows open night sleep tolerable, impressed superior customer service hotel staff, day checked ask luggage late flight no problem accommodating, biggest plus hotel proximity u-bahn, hotel right outside markishe museum stop, close lot important monuments museums choose walk, purchased 3 day train pass berlin information center allows ride trains buses berlin, saved lot money doing purchasing 3 day museum pass allowed free access museums museum island museums.we definitely recommend hotel others.just note cheap, lol free walking tour takes important sites, thing asked tip tour guide end, wonderful tour starts brandenburg gate reichstag hitlers bunker berlin wall checkpoint charlie tour ends museum island,  \",\n",
       "  'Positive'],\n",
       " ['fabulous, booking vacation 4 dismay realized punta cana not mexico, frantically searched information possibly iberostar punta cana, tripadvisor helpful reading personal reviews experiences nervous wreck, apprehension arrived 12/5/03, arrival airport flights arriving time orderly fashion went quickly, check went wanted king sized beds none available till day, no problem, grounds absolutely beautifull maintained, entire resort practically spotless, people work hard cleaning areas resort, met unfriendly worker, bent backward accomodate reason course, food aplenty satisfy tastebuds, types activity spanish lessons dancing arobics, did nothing relax eat drink dance alittle night, no group got sick brushed teeth spigot water, believe moderation probably key, rooms clean no trouble whatsoever housekeeping, wonder people wrote negative remarks place stayed sameplace did, thing upset trip did not book weeks, heart beat,  ',\n",
       "  'Positive'],\n",
       " ['great time, stayed hotel late fantastic time, say booked online got rooms discounted price helped add enjoyment, expecting airport hotel, not read reviews pleasantly surprised, beach beautiful not crowded, pool open hours spent night sitting water, planes constantly fly overhead hear room area not best light sleepers.the food little overpriced reasonable hotel, service overall great, picante manager noticed husband not getting served quickly came unsolicited apologize correct, contrast dinner buffet salsa little disappointing, restaurant half-empty asked people party took minutes, not big deal little irritating tables wait, overall pleased,  ',\n",
       "  'Positive'],\n",
       " [\"great location, good value boston location hotel unbeatable, metro t brings doorstep airport, located opposite public library walking distance sights including boston common start freedom trail, good dining options hotel, booked single room slightly small compactly appointed extrememly stylish, bed comfortable sheets spotlesssly clean, large length mirror walls helped impression having larger room, tv amazing selection channels cd player/radio connected cery high quality sound included speakers bathroom, speaking bathroom comparatively large power shower excellent, particularly enjoyed long luxurious shower music mozart piped bathroom room did not view speak did n't bother, respect staff woujld say standard variable, arrival met really charming enthusiastic receptionist asked flight proceeded helpful brochures maps boston tips dine visit, subsequent days noticed receptionist occasionally distant somewhat aloof rude, breakfast ok. orange juice muffins bagels dunkin doughnuts fairly good coffee philadelphia cream cheese jam fruit instant oatmeal, days breakfast started little late n't gotten fresh supply bagels small point, bottled water complimentary.for price think good value boston given outstanding location quality rooms considering tat breakfast included, stay return boston,  \",\n",
       "  'Positive'],\n",
       " ['nice boutique hotel stayed 5 nights, rooms nice clean place pretty, location good central singapore,  ',\n",
       "  'Positive'],\n",
       " ['small quiet inn heart condado looking quite inn just walk away beach fine dining coral princess inn, san juan old san juan crazy lot traffic congestion, coral princess inn heart condado quite nice little court yard pool, staff friendly mailed phone charger states left,  ',\n",
       "  'Positive'],\n",
       " [\"surprising enjoyable stay, 3 hotels stayed trip seattle vancouver moore hotel expensive surprisingly best, room bare-bones comfortable, 7th floor room quiet windows open, immediate neighborhood devoid homeless beggers, guest wireless internet lobby, word advice sure lock deadbolt door leave room.like reviewer walked moore king street amtrak station, walking n't bad pretty far, mistake walking 1st walking virginia extremely steep hill, way hotel website misleading, picture shown moore theater not entrance hotel, hotel located 2nd ave middle stewart virginia, sign entrance hotel flat building not visible walking street, reached area 11 night totally confused hotel, maybe just tired.by way reviewers mention hotel couple blocks pike market, true extremely steep decline stewart virginia, save punishment knees walking 2nd ave pike street market, want good exercise walk uphill stewart hotel, majority market does n't start opening 10am takes 1/2 hour setup, 6pm pretty closed.i apologize mentioned coupon hotel,  \",\n",
       "  'Positive'],\n",
       " [\"pay o.k, goes, stayed bambu family, large party staff extremely helpful tending needs, rooms small kept, mini bar restocked day, complaint food selection not did just okay, tipping little bit went long way help, bring plenty singles, keeping mind pay place pretty nice, n't bothered local peddlers no thanks worked pretty, guests rude not care americans hey ca n't perfect, n't know 5 star like beach excellent setting surround good friends family blast did,  \",\n",
       "  'Positive'],\n",
       " ['bad experience not stay stayed week waikiki marriott horrible experience, noise terrible rooms really run, options waikiki not stay,  ',\n",
       "  'Negative'],\n",
       " [\"enjoyed stay affinia just returned 5 nights affinia hotel ny, chose hotel n't beaten price reviews trip advisor good, visited nybefore n't experienced hotels area say location brilliant, central attractions walking distance nearby tube bus stations want use, hotel room huge hardly hotel room, bathroom average kitchen average, view absolutely fantastic, air conditioning unit room noise did n't bother, 24th floor just hear traffic outside think hotel ny did n't bother, felt hotel rooms needed modernising apart definitely recommend, not recommend barking dog hotel restaurant, went night did n't return, food tasted processed ordered lasagne warmed middle freezing cold sour cream, mice running seating area outside going,  \",\n",
       "  'Negative'],\n",
       " [\"o.k, place price recently stayed oct. 2004 4 nights, trip seattle not familiar area hotel, price 70 night room fair improvements nice hotel.upon arriving noticed hallways funny smell rooms clean, bathroom small hard 2 people ready, no mirror dresser difficult ready room husband showered, needed extra towels set person provided extras dresser, pillows lumpy no iron board room arrived.front desk staff accomodating helpful, ate restaurant twice good food service slow, ordered long island iced tea strong, tried bartender fix handed sweet sour wash, did n't drink not charged commented not order kind drink ca n't handle liquor not say patron paying meals drinks.overall recommend short stay days nicer places located heart downtown want pay bit,  \",\n",
       "  'Positive'],\n",
       " ['excellent location large trendy comfortable hotel great location, enjoyed night stay esplanade harry cocktail bar not missed, draw air conditioning rooms meant hot stuffy environment sleep, staff not friendly efficient helpful impersonal manner, good price,  ',\n",
       "  'Mixed'],\n",
       " ['best decision stay whilst like noise crowds not, having stayed nyc twice time chose ritz battery park location popular tourist area, got 100 right, staff attentive, room appointed lovely size including bathroom, city view club room did not want ask harbour view husband wished photograph buildings night window, lucky able river buildings window no complaints, bed exceptionally comfortable, room service night whilst expensive prompt edible outstanding, restaurant ok servers bit snobbish little supercilious approach opposed husband.the club lounge brilliant noisy children felt kept quiet parents not play room, club concierge spoken adults asked preferred return room drinks upset, choice, did not spoil view club lounge breakfast choices lunch la carte late night nibblies plus free wi fi hit, club concierge sorted billing error, placed water mini bar fridge required moving items not fridge, charged 100 items fridge purely apparently person replenishes bar just opens looks items supposed bills accordingly, not good proven quite expensive, amounts reversed fuss.the location excellent subway journeyed town times ease, walked soho little italy going century 21 short walk away convenient early openings, night dined meat packing district 15 cab fare.the ability walk battery park gardens river early mornings little noise fuss cathartic, definitely stay,  ',\n",
       "  'Positive']]"
      ]
     },
     "execution_count": 49,
     "metadata": {},
     "output_type": "execute_result"
    }
   ],
   "source": [
    "sentiment_ls"
   ]
  },
  {
   "cell_type": "code",
   "execution_count": 13,
   "metadata": {},
   "outputs": [
    {
     "data": {
      "text/html": [
       "<div>\n",
       "<style scoped>\n",
       "    .dataframe tbody tr th:only-of-type {\n",
       "        vertical-align: middle;\n",
       "    }\n",
       "\n",
       "    .dataframe tbody tr th {\n",
       "        vertical-align: top;\n",
       "    }\n",
       "\n",
       "    .dataframe thead th {\n",
       "        text-align: right;\n",
       "    }\n",
       "</style>\n",
       "<table border=\"1\" class=\"dataframe\">\n",
       "  <thead>\n",
       "    <tr style=\"text-align: right;\">\n",
       "      <th></th>\n",
       "      <th>Feedback</th>\n",
       "      <th>Sentiment</th>\n",
       "    </tr>\n",
       "  </thead>\n",
       "  <tbody>\n",
       "    <tr>\n",
       "      <th>5065</th>\n",
       "      <td>stay stayed recently broadway manor inn oct. 2...</td>\n",
       "      <td>Positive</td>\n",
       "    </tr>\n",
       "    <tr>\n",
       "      <th>5245</th>\n",
       "      <td>great location friendly service ca n't tell co...</td>\n",
       "      <td>Positive</td>\n",
       "    </tr>\n",
       "    <tr>\n",
       "      <th>6408</th>\n",
       "      <td>simply wonderful wonderful 5 days beautiful ho...</td>\n",
       "      <td>Positive</td>\n",
       "    </tr>\n",
       "    <tr>\n",
       "      <th>7737</th>\n",
       "      <td>stay jianguo garden hotel beijing clean comfor...</td>\n",
       "      <td>Positive</td>\n",
       "    </tr>\n",
       "    <tr>\n",
       "      <th>1410</th>\n",
       "      <td>bad experience new york restaurant went ritz b...</td>\n",
       "      <td>Negative</td>\n",
       "    </tr>\n",
       "    <tr>\n",
       "      <th>...</th>\n",
       "      <td>...</td>\n",
       "      <td>...</td>\n",
       "    </tr>\n",
       "    <tr>\n",
       "      <th>4663</th>\n",
       "      <td>loved people resort wife vacationed secrets ex...</td>\n",
       "      <td>Positive</td>\n",
       "    </tr>\n",
       "    <tr>\n",
       "      <th>1450</th>\n",
       "      <td>n't stay, second time staying argonaut celebra...</td>\n",
       "      <td>Positive</td>\n",
       "    </tr>\n",
       "    <tr>\n",
       "      <th>9010</th>\n",
       "      <td>place stay london lovely charme victorian hote...</td>\n",
       "      <td>Positive</td>\n",
       "    </tr>\n",
       "    <tr>\n",
       "      <th>1769</th>\n",
       "      <td>hotel gem location owners staff cleanliness am...</td>\n",
       "      <td>Positive</td>\n",
       "    </tr>\n",
       "    <tr>\n",
       "      <th>6520</th>\n",
       "      <td>watch spent single night westin seattle left f...</td>\n",
       "      <td>Negative</td>\n",
       "    </tr>\n",
       "  </tbody>\n",
       "</table>\n",
       "<p>150 rows × 2 columns</p>\n",
       "</div>"
      ],
      "text/plain": [
       "                                               Feedback Sentiment\n",
       "5065  stay stayed recently broadway manor inn oct. 2...  Positive\n",
       "5245  great location friendly service ca n't tell co...  Positive\n",
       "6408  simply wonderful wonderful 5 days beautiful ho...  Positive\n",
       "7737  stay jianguo garden hotel beijing clean comfor...  Positive\n",
       "1410  bad experience new york restaurant went ritz b...  Negative\n",
       "...                                                 ...       ...\n",
       "4663  loved people resort wife vacationed secrets ex...  Positive\n",
       "1450  n't stay, second time staying argonaut celebra...  Positive\n",
       "9010  place stay london lovely charme victorian hote...  Positive\n",
       "1769  hotel gem location owners staff cleanliness am...  Positive\n",
       "6520  watch spent single night westin seattle left f...  Negative\n",
       "\n",
       "[150 rows x 2 columns]"
      ]
     },
     "execution_count": 13,
     "metadata": {},
     "output_type": "execute_result"
    }
   ],
   "source": [
    "feed_df = pd.DataFrame({'Feedback':sample_df.Feedback,\n",
    "                        'Sentiment':sentiment_ls})\n",
    "feed_df"
   ]
  },
  {
   "cell_type": "code",
   "execution_count": 14,
   "metadata": {},
   "outputs": [],
   "source": [
    "feed_df.to_csv(\"sample.csv\")"
   ]
  },
  {
   "cell_type": "code",
   "execution_count": null,
   "metadata": {},
   "outputs": [],
   "source": []
  },
  {
   "cell_type": "code",
   "execution_count": null,
   "metadata": {},
   "outputs": [],
   "source": []
  },
  {
   "cell_type": "code",
   "execution_count": null,
   "metadata": {},
   "outputs": [],
   "source": []
  },
  {
   "cell_type": "code",
   "execution_count": null,
   "metadata": {},
   "outputs": [],
   "source": []
  }
 ],
 "metadata": {
  "kernelspec": {
   "display_name": "langchain",
   "language": "python",
   "name": "python3"
  },
  "language_info": {
   "codemirror_mode": {
    "name": "ipython",
    "version": 3
   },
   "file_extension": ".py",
   "mimetype": "text/x-python",
   "name": "python",
   "nbconvert_exporter": "python",
   "pygments_lexer": "ipython3",
   "version": "3.11.11"
  }
 },
 "nbformat": 4,
 "nbformat_minor": 2
}
