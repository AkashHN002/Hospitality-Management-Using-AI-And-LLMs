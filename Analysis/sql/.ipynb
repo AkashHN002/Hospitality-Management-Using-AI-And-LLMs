{
 "cells": [
  {
   "cell_type": "code",
   "execution_count": 1,
   "metadata": {},
   "outputs": [
    {
     "data": {
      "text/plain": [
       "'d:\\\\Projects\\\\SpringBoard_Internship\\\\LLM_Internship\\\\Analysis\\\\sql'"
      ]
     },
     "execution_count": 1,
     "metadata": {},
     "output_type": "execute_result"
    }
   ],
   "source": [
    "%pwd"
   ]
  },
  {
   "cell_type": "code",
   "execution_count": 2,
   "metadata": {},
   "outputs": [],
   "source": [
    "import os\n",
    "os.chdir(\"../..\")"
   ]
  },
  {
   "cell_type": "code",
   "execution_count": 3,
   "metadata": {},
   "outputs": [
    {
     "data": {
      "text/plain": [
       "'d:\\\\Projects\\\\SpringBoard_Internship\\\\LLM_Internship'"
      ]
     },
     "execution_count": 3,
     "metadata": {},
     "output_type": "execute_result"
    }
   ],
   "source": [
    "%pwd"
   ]
  },
  {
   "cell_type": "code",
   "execution_count": 11,
   "metadata": {},
   "outputs": [],
   "source": [
    "import MySQLdb"
   ]
  },
  {
   "cell_type": "markdown",
   "metadata": {},
   "source": [
    "# Connection to database"
   ]
  },
  {
   "cell_type": "code",
   "execution_count": 13,
   "metadata": {},
   "outputs": [],
   "source": [
    "db = MySQLdb.connect(\n",
    "    host = 'localhost',\n",
    "    user = 'root',\n",
    "    database = 'mydemo'      # Name of the database\n",
    ")\n"
   ]
  },
  {
   "cell_type": "markdown",
   "metadata": {},
   "source": []
  },
  {
   "cell_type": "code",
   "execution_count": 14,
   "metadata": {},
   "outputs": [],
   "source": [
    "cursor = db.cursor()"
   ]
  },
  {
   "cell_type": "markdown",
   "metadata": {},
   "source": [
    "# Executing First code"
   ]
  },
  {
   "cell_type": "code",
   "execution_count": 16,
   "metadata": {},
   "outputs": [
    {
     "name": "stdout",
     "output_type": "stream",
     "text": [
      "('acc',)\n",
      "('account',)\n",
      "('branch',)\n",
      "('cust',)\n",
      "('customer',)\n",
      "('man',)\n",
      "('resturant',)\n",
      "('student',)\n",
      "('student2',)\n"
     ]
    }
   ],
   "source": [
    "cursor.execute('show tables')\n",
    "for x in cursor:\n",
    "    print(x)"
   ]
  },
  {
   "cell_type": "code",
   "execution_count": null,
   "metadata": {},
   "outputs": [
    {
     "data": {
      "text/plain": [
       "0"
      ]
     },
     "execution_count": 9,
     "metadata": {},
     "output_type": "execute_result"
    }
   ],
   "source": [
    "#cursor.execute(\"drop table student2\")"
   ]
  },
  {
   "cell_type": "code",
   "execution_count": 11,
   "metadata": {},
   "outputs": [
    {
     "name": "stdout",
     "output_type": "stream",
     "text": [
      "('customer_id', 'varchar(6)', 'NO', 'PRI', None, '')\n",
      "('fname', 'varchar(30)', 'YES', '', None, '')\n",
      "('mname', 'varchar(30)', 'YES', '', None, '')\n",
      "('ltname', 'varchar(30)', 'YES', '', None, '')\n",
      "('city', 'varchar(15)', 'YES', '', None, '')\n",
      "('age', 'int(10)', 'YES', '', None, '')\n",
      "('mobilenum', 'varchar(10)', 'YES', '', None, '')\n",
      "('occupation', 'varchar(20)', 'YES', '', None, '')\n",
      "('dob', 'date', 'YES', '', None, '')\n"
     ]
    }
   ],
   "source": [
    "cursor.execute('desc customer')\n",
    "for x in cursor:\n",
    "    print(x)"
   ]
  },
  {
   "cell_type": "code",
   "execution_count": 12,
   "metadata": {},
   "outputs": [
    {
     "name": "stdout",
     "output_type": "stream",
     "text": [
      "('1001', 'Rakesh', 'Chandra', 'Sharma', 'Bangalore', 21, '9563147865', 'service', datetime.date(1998, 12, 6))\n",
      "('1002', 'Ramesh', 'Chandra', 'Shah', 'Mumbai', 30, '8569325417', 'service', datetime.date(1998, 10, 6))\n",
      "('1003', 'Akash', 'Guptha', 'Sharma', 'pune', 25, '8653214578', 'student', datetime.date(1999, 1, 6))\n",
      "('1004', 'Rahul', None, 'Sharma', 'Hassan', 18, '865321457', 'student', datetime.date(1999, 1, 6))\n",
      "('1005', 'Princia', None, 'Fernsndis', 'DK', 22, '8521479630', 'student', datetime.date(2002, 1, 13))\n",
      "('1006', 'Prinson', None, 'Fernsndis', 'DK', 20, '9514753685', 'servce', datetime.date(2001, 3, 2))\n"
     ]
    }
   ],
   "source": [
    "cursor.execute('select * from customer')\n",
    "for x in cursor:\n",
    "    print(x)"
   ]
  },
  {
   "cell_type": "code",
   "execution_count": null,
   "metadata": {},
   "outputs": [],
   "source": [
    "# DDL - Data Defination Language => Create, Alter, drop\n",
    "# DML - Data Manipulation Language => Insert, Update, Select, Delete"
   ]
  },
  {
   "cell_type": "markdown",
   "metadata": {},
   "source": [
    "# Create"
   ]
  },
  {
   "cell_type": "code",
   "execution_count": 19,
   "metadata": {},
   "outputs": [
    {
     "data": {
      "text/plain": [
       "0"
      ]
     },
     "execution_count": 19,
     "metadata": {},
     "output_type": "execute_result"
    }
   ],
   "source": [
    "cursor.execute(\"drop table student2\")"
   ]
  },
  {
   "cell_type": "code",
   "execution_count": 20,
   "metadata": {},
   "outputs": [
    {
     "data": {
      "text/plain": [
       "0"
      ]
     },
     "execution_count": 20,
     "metadata": {},
     "output_type": "execute_result"
    }
   ],
   "source": [
    "cursor.execute(\"CREATE TABLE student2(std_id int(5) primary key, name varchar(20))\")"
   ]
  },
  {
   "cell_type": "markdown",
   "metadata": {},
   "source": [
    "# Alter"
   ]
  },
  {
   "cell_type": "code",
   "execution_count": 21,
   "metadata": {},
   "outputs": [
    {
     "data": {
      "text/plain": [
       "0"
      ]
     },
     "execution_count": 21,
     "metadata": {},
     "output_type": "execute_result"
    }
   ],
   "source": [
    "cursor.execute(\"Alter table student2 add (Preferance varchar(50))\")"
   ]
  },
  {
   "cell_type": "code",
   "execution_count": 22,
   "metadata": {},
   "outputs": [
    {
     "name": "stdout",
     "output_type": "stream",
     "text": [
      "('std_id', 'int(5)', 'NO', 'PRI', None, '')\n",
      "('name', 'varchar(20)', 'YES', '', None, '')\n",
      "('Preferance', 'varchar(50)', 'YES', '', None, '')\n"
     ]
    }
   ],
   "source": [
    "cursor.execute(\"desc student2\")\n",
    "for i in cursor:\n",
    "    print(i)"
   ]
  },
  {
   "cell_type": "code",
   "execution_count": 16,
   "metadata": {},
   "outputs": [
    {
     "name": "stdout",
     "output_type": "stream",
     "text": [
      "('acc',)\n",
      "('account',)\n",
      "('branch',)\n",
      "('cust',)\n",
      "('customer',)\n",
      "('man',)\n",
      "('student',)\n",
      "('student2',)\n"
     ]
    }
   ],
   "source": [
    "cursor.execute(\"show tables\")\n",
    "for x in cursor:\n",
    "    print(x)"
   ]
  },
  {
   "cell_type": "markdown",
   "metadata": {},
   "source": [
    "# Insert"
   ]
  },
  {
   "cell_type": "code",
   "execution_count": 23,
   "metadata": {},
   "outputs": [
    {
     "name": "stdout",
     "output_type": "stream",
     "text": [
      "1\n"
     ]
    }
   ],
   "source": [
    "cursor.execute(\"insert into student2 values(123, 'xxx','games')\")\n",
    "print(cursor.rowcount)"
   ]
  },
  {
   "cell_type": "code",
   "execution_count": 24,
   "metadata": {},
   "outputs": [
    {
     "name": "stdout",
     "output_type": "stream",
     "text": [
      "1\n"
     ]
    }
   ],
   "source": [
    "cursor.execute(\"insert into student2 values(12, 'yyy','Sports')\")\n",
    "print(cursor.rowcount)"
   ]
  },
  {
   "cell_type": "code",
   "execution_count": 26,
   "metadata": {},
   "outputs": [
    {
     "name": "stdout",
     "output_type": "stream",
     "text": [
      "1  Row Inserted\n"
     ]
    }
   ],
   "source": [
    "cursor.execute(\"insert into student2 values(121, 'zz','Games')\")\n",
    "print(cursor.rowcount, \" Row Inserted\")"
   ]
  },
  {
   "cell_type": "markdown",
   "metadata": {},
   "source": [
    "# Select"
   ]
  },
  {
   "cell_type": "code",
   "execution_count": 27,
   "metadata": {},
   "outputs": [
    {
     "data": {
      "text/plain": [
       "3"
      ]
     },
     "execution_count": 27,
     "metadata": {},
     "output_type": "execute_result"
    }
   ],
   "source": [
    "cursor.execute(\"select * from student2\")\n"
   ]
  },
  {
   "cell_type": "code",
   "execution_count": null,
   "metadata": {},
   "outputs": [],
   "source": []
  },
  {
   "cell_type": "code",
   "execution_count": 28,
   "metadata": {},
   "outputs": [
    {
     "name": "stdout",
     "output_type": "stream",
     "text": [
      "(12, 'yyy', 'Sports')\n",
      "(121, 'zz', 'Games')\n",
      "(123, 'xxx', 'games')\n"
     ]
    }
   ],
   "source": [
    "cursor.execute(\"select * from student2\")\n",
    "for row in cursor:\n",
    "    print(row)"
   ]
  },
  {
   "cell_type": "code",
   "execution_count": 30,
   "metadata": {},
   "outputs": [
    {
     "name": "stdout",
     "output_type": "stream",
     "text": [
      "('games', 'xxx')\n"
     ]
    }
   ],
   "source": [
    "\n",
    "user = 123\n",
    "cursor.execute(f\"select Preferance, name  from student2 where std_id = %s\",(user, ))\n",
    "for i in cursor:\n",
    "    print(i)\n"
   ]
  },
  {
   "cell_type": "markdown",
   "metadata": {},
   "source": [
    "# update"
   ]
  },
  {
   "cell_type": "code",
   "execution_count": 31,
   "metadata": {},
   "outputs": [
    {
     "data": {
      "text/plain": [
       "1"
      ]
     },
     "execution_count": 31,
     "metadata": {},
     "output_type": "execute_result"
    }
   ],
   "source": [
    "cursor.execute(\"Update student2 set Preferance = 'Gym' where std_id = 12\")"
   ]
  },
  {
   "cell_type": "code",
   "execution_count": 32,
   "metadata": {},
   "outputs": [
    {
     "name": "stdout",
     "output_type": "stream",
     "text": [
      "(12, 'yyy', 'Gym')\n",
      "(121, 'zz', 'Games')\n",
      "(123, 'xxx', 'games')\n"
     ]
    }
   ],
   "source": [
    "cursor.execute(\"select * from student2\")\n",
    "for row in cursor:\n",
    "    print(row)"
   ]
  },
  {
   "cell_type": "code",
   "execution_count": null,
   "metadata": {},
   "outputs": [],
   "source": []
  },
  {
   "cell_type": "markdown",
   "metadata": {},
   "source": [
    "# Delete"
   ]
  },
  {
   "cell_type": "code",
   "execution_count": 34,
   "metadata": {},
   "outputs": [
    {
     "data": {
      "text/plain": [
       "1"
      ]
     },
     "execution_count": 34,
     "metadata": {},
     "output_type": "execute_result"
    }
   ],
   "source": [
    "cursor.execute(\"insert into student2 values(125,'kkk', 'Swimming')\")\n",
    "cursor.execute(\"insert into student2 values(126, 'lll','Cricket')\")\n",
    "cursor.execute(\"insert into student2 values(127, 'hhh','Games')\")\n"
   ]
  },
  {
   "cell_type": "code",
   "execution_count": 35,
   "metadata": {},
   "outputs": [
    {
     "name": "stdout",
     "output_type": "stream",
     "text": [
      "(12, 'yyy', 'Gym')\n",
      "(121, 'zz', 'Games')\n",
      "(123, 'xxx', 'games')\n",
      "(125, 'kkk', 'Swimming')\n",
      "(126, 'lll', 'Cricket')\n",
      "(127, 'hhh', 'Games')\n"
     ]
    }
   ],
   "source": [
    "cursor.execute(\"select * from student2\")\n",
    "for row in cursor:\n",
    "    print(row)"
   ]
  },
  {
   "cell_type": "code",
   "execution_count": 36,
   "metadata": {},
   "outputs": [
    {
     "name": "stdout",
     "output_type": "stream",
     "text": [
      "(121, 'zz', 'Games')\n",
      "(123, 'xxx', 'games')\n",
      "(125, 'kkk', 'Swimming')\n",
      "(126, 'lll', 'Cricket')\n",
      "(127, 'hhh', 'Games')\n"
     ]
    }
   ],
   "source": [
    "cursor.execute(\"Delete from student2 where std_id = 12\")\n",
    "cursor.execute(\"select * from student2\")\n",
    "for row in cursor:\n",
    "    print(row)"
   ]
  },
  {
   "cell_type": "code",
   "execution_count": 37,
   "metadata": {},
   "outputs": [
    {
     "name": "stdout",
     "output_type": "stream",
     "text": [
      "(125, 'kkk', 'Swimming')\n",
      "(126, 'lll', 'Cricket')\n"
     ]
    }
   ],
   "source": [
    "cursor.execute(\"Delete from student2 where Preferance = 'games'\")\n",
    "cursor.execute(\"select * from student2\")\n",
    "for row in cursor:\n",
    "    print(row)"
   ]
  },
  {
   "cell_type": "code",
   "execution_count": 38,
   "metadata": {},
   "outputs": [],
   "source": [
    "db.commit()"
   ]
  },
  {
   "cell_type": "markdown",
   "metadata": {},
   "source": [
    "## Task: Accept the user ID and Preferance, Check for the existance of the user data, if exists add the preferance else create a new record"
   ]
  },
  {
   "cell_type": "code",
   "execution_count": 46,
   "metadata": {},
   "outputs": [],
   "source": [
    "user = 125\n",
    "name = 'jjj'\n",
    "pref = 'Party'"
   ]
  },
  {
   "cell_type": "code",
   "execution_count": 53,
   "metadata": {},
   "outputs": [],
   "source": [
    "\n",
    "is_exists = cursor.execute(\"SELECT * FROM student2 WHERE std_id = %s\", (user,))"
   ]
  },
  {
   "cell_type": "code",
   "execution_count": 44,
   "metadata": {},
   "outputs": [
    {
     "data": {
      "text/plain": [
       "0"
      ]
     },
     "execution_count": 44,
     "metadata": {},
     "output_type": "execute_result"
    }
   ],
   "source": [
    "is_exists"
   ]
  },
  {
   "cell_type": "code",
   "execution_count": 47,
   "metadata": {},
   "outputs": [],
   "source": [
    "cursor.execute(\"select Preferance from student2 where std_id = %s\",(user,))\n",
    "st = cursor.fetchone()[0]\n",
    "pref_ls = st.split(\", \")"
   ]
  },
  {
   "cell_type": "code",
   "execution_count": 48,
   "metadata": {},
   "outputs": [
    {
     "data": {
      "text/plain": [
       "{'Swimming'}"
      ]
     },
     "execution_count": 48,
     "metadata": {},
     "output_type": "execute_result"
    }
   ],
   "source": [
    "set(pref_ls)\n"
   ]
  },
  {
   "cell_type": "code",
   "execution_count": 144,
   "metadata": {},
   "outputs": [
    {
     "data": {
      "text/plain": [
       "'Party'"
      ]
     },
     "execution_count": 144,
     "metadata": {},
     "output_type": "execute_result"
    }
   ],
   "source": [
    "pref"
   ]
  },
  {
   "cell_type": "code",
   "execution_count": 54,
   "metadata": {},
   "outputs": [],
   "source": [
    "\n",
    "if is_exists:\n",
    "\n",
    "    cursor.execute(\"select Preferance from student2 where std_id = %s\",(user,))\n",
    "    current_prefs = cursor.fetchone()[0]\n",
    "    st = current_prefs + ', ' + pref\n",
    "    cursor.execute(\"UPDATE student2 SET Preferance = %s WHERE std_id = %s\", (st, user))\n",
    "\n",
    "else :\n",
    "\n",
    "    cursor.execute(\"Insert into student2 values(%s, %s,%s)\", (user,name, pref))"
   ]
  },
  {
   "cell_type": "code",
   "execution_count": 55,
   "metadata": {},
   "outputs": [
    {
     "name": "stdout",
     "output_type": "stream",
     "text": [
      "(125, 'kkk', 'Swimming, Party')\n",
      "(126, 'lll', 'Cricket')\n"
     ]
    }
   ],
   "source": [
    "cursor.execute(\"select * from student2\")\n",
    "for row in cursor:\n",
    "    print(row)"
   ]
  },
  {
   "cell_type": "code",
   "execution_count": 57,
   "metadata": {},
   "outputs": [
    {
     "data": {
      "text/plain": [
       "1"
      ]
     },
     "execution_count": 57,
     "metadata": {},
     "output_type": "execute_result"
    }
   ],
   "source": [
    "cursor.execute(\"select Preferance from student2 where std_id = %s\",(125,))"
   ]
  },
  {
   "cell_type": "code",
   "execution_count": 58,
   "metadata": {},
   "outputs": [
    {
     "name": "stdout",
     "output_type": "stream",
     "text": [
      "(125, 'kkk', 'Swimming, Party')\n",
      "(126, 'lll', 'Cricket')\n"
     ]
    }
   ],
   "source": [
    "cursor.execute(\"Select * from student2\")\n",
    "for i in cursor:\n",
    "    print(i)"
   ]
  },
  {
   "cell_type": "markdown",
   "metadata": {},
   "source": [
    "# To Pandas Datframe"
   ]
  },
  {
   "cell_type": "code",
   "execution_count": 152,
   "metadata": {},
   "outputs": [
    {
     "data": {
      "text/html": [
       "<div>\n",
       "<style scoped>\n",
       "    .dataframe tbody tr th:only-of-type {\n",
       "        vertical-align: middle;\n",
       "    }\n",
       "\n",
       "    .dataframe tbody tr th {\n",
       "        vertical-align: top;\n",
       "    }\n",
       "\n",
       "    .dataframe thead th {\n",
       "        text-align: right;\n",
       "    }\n",
       "</style>\n",
       "<table border=\"1\" class=\"dataframe\">\n",
       "  <thead>\n",
       "    <tr style=\"text-align: right;\">\n",
       "      <th></th>\n",
       "      <th>Std Id</th>\n",
       "      <th>Preferance</th>\n",
       "    </tr>\n",
       "  </thead>\n",
       "  <tbody>\n",
       "    <tr>\n",
       "      <th>0</th>\n",
       "      <td>125</td>\n",
       "      <td>Swimming, swim, swim, Party</td>\n",
       "    </tr>\n",
       "    <tr>\n",
       "      <th>1</th>\n",
       "      <td>126</td>\n",
       "      <td>Cricket</td>\n",
       "    </tr>\n",
       "  </tbody>\n",
       "</table>\n",
       "</div>"
      ],
      "text/plain": [
       "   Std Id                   Preferance\n",
       "0     125  Swimming, swim, swim, Party\n",
       "1     126                      Cricket"
      ]
     },
     "execution_count": 152,
     "metadata": {},
     "output_type": "execute_result"
    }
   ],
   "source": [
    "import pandas as pd\n",
    "cursor.execute(\"Select * from student2\")\n",
    "pd.DataFrame(cursor, columns=['Std Id', \"Preferance\"])"
   ]
  },
  {
   "cell_type": "code",
   "execution_count": 1,
   "metadata": {},
   "outputs": [
    {
     "ename": "NameError",
     "evalue": "name 'db' is not defined",
     "output_type": "error",
     "traceback": [
      "\u001b[1;31m---------------------------------------------------------------------------\u001b[0m",
      "\u001b[1;31mNameError\u001b[0m                                 Traceback (most recent call last)",
      "Cell \u001b[1;32mIn[1], line 1\u001b[0m\n\u001b[1;32m----> 1\u001b[0m db\u001b[38;5;241m.\u001b[39mcommit()\n",
      "\u001b[1;31mNameError\u001b[0m: name 'db' is not defined"
     ]
    }
   ],
   "source": [
    "db.commit()"
   ]
  },
  {
   "cell_type": "code",
   "execution_count": null,
   "metadata": {},
   "outputs": [],
   "source": []
  },
  {
   "cell_type": "code",
   "execution_count": 79,
   "metadata": {},
   "outputs": [
    {
     "data": {
      "text/html": [
       "<div>\n",
       "<style scoped>\n",
       "    .dataframe tbody tr th:only-of-type {\n",
       "        vertical-align: middle;\n",
       "    }\n",
       "\n",
       "    .dataframe tbody tr th {\n",
       "        vertical-align: top;\n",
       "    }\n",
       "\n",
       "    .dataframe thead th {\n",
       "        text-align: right;\n",
       "    }\n",
       "</style>\n",
       "<table border=\"1\" class=\"dataframe\">\n",
       "  <thead>\n",
       "    <tr style=\"text-align: right;\">\n",
       "      <th></th>\n",
       "      <th>Unnamed: 0</th>\n",
       "      <th>Feedback</th>\n",
       "      <th>Sentiment</th>\n",
       "    </tr>\n",
       "  </thead>\n",
       "  <tbody>\n",
       "    <tr>\n",
       "      <th>0</th>\n",
       "      <td>5065</td>\n",
       "      <td>stay stayed recently broadway manor inn oct. 2...</td>\n",
       "      <td>Positive</td>\n",
       "    </tr>\n",
       "    <tr>\n",
       "      <th>1</th>\n",
       "      <td>5245</td>\n",
       "      <td>great location friendly service ca n't tell co...</td>\n",
       "      <td>Positive</td>\n",
       "    </tr>\n",
       "    <tr>\n",
       "      <th>2</th>\n",
       "      <td>6408</td>\n",
       "      <td>simply wonderful wonderful 5 days beautiful ho...</td>\n",
       "      <td>Positive</td>\n",
       "    </tr>\n",
       "    <tr>\n",
       "      <th>3</th>\n",
       "      <td>7737</td>\n",
       "      <td>stay jianguo garden hotel beijing clean comfor...</td>\n",
       "      <td>Positive</td>\n",
       "    </tr>\n",
       "    <tr>\n",
       "      <th>4</th>\n",
       "      <td>1410</td>\n",
       "      <td>bad experience new york restaurant went ritz b...</td>\n",
       "      <td>Negative</td>\n",
       "    </tr>\n",
       "    <tr>\n",
       "      <th>...</th>\n",
       "      <td>...</td>\n",
       "      <td>...</td>\n",
       "      <td>...</td>\n",
       "    </tr>\n",
       "    <tr>\n",
       "      <th>145</th>\n",
       "      <td>4663</td>\n",
       "      <td>loved people resort wife vacationed secrets ex...</td>\n",
       "      <td>Positive</td>\n",
       "    </tr>\n",
       "    <tr>\n",
       "      <th>146</th>\n",
       "      <td>1450</td>\n",
       "      <td>n't stay, second time staying argonaut celebra...</td>\n",
       "      <td>Positive</td>\n",
       "    </tr>\n",
       "    <tr>\n",
       "      <th>147</th>\n",
       "      <td>9010</td>\n",
       "      <td>place stay london lovely charme victorian hote...</td>\n",
       "      <td>Positive</td>\n",
       "    </tr>\n",
       "    <tr>\n",
       "      <th>148</th>\n",
       "      <td>1769</td>\n",
       "      <td>hotel gem location owners staff cleanliness am...</td>\n",
       "      <td>Positive</td>\n",
       "    </tr>\n",
       "    <tr>\n",
       "      <th>149</th>\n",
       "      <td>6520</td>\n",
       "      <td>watch spent single night westin seattle left f...</td>\n",
       "      <td>Negative</td>\n",
       "    </tr>\n",
       "  </tbody>\n",
       "</table>\n",
       "<p>150 rows × 3 columns</p>\n",
       "</div>"
      ],
      "text/plain": [
       "     Unnamed: 0                                           Feedback Sentiment\n",
       "0          5065  stay stayed recently broadway manor inn oct. 2...  Positive\n",
       "1          5245  great location friendly service ca n't tell co...  Positive\n",
       "2          6408  simply wonderful wonderful 5 days beautiful ho...  Positive\n",
       "3          7737  stay jianguo garden hotel beijing clean comfor...  Positive\n",
       "4          1410  bad experience new york restaurant went ritz b...  Negative\n",
       "..          ...                                                ...       ...\n",
       "145        4663  loved people resort wife vacationed secrets ex...  Positive\n",
       "146        1450  n't stay, second time staying argonaut celebra...  Positive\n",
       "147        9010  place stay london lovely charme victorian hote...  Positive\n",
       "148        1769  hotel gem location owners staff cleanliness am...  Positive\n",
       "149        6520  watch spent single night westin seattle left f...  Negative\n",
       "\n",
       "[150 rows x 3 columns]"
      ]
     },
     "execution_count": 79,
     "metadata": {},
     "output_type": "execute_result"
    }
   ],
   "source": [
    "import pandas as pd\n",
    "df = pd.read_csv(r\"Notebook\\sample.csv\")\n",
    "df"
   ]
  },
  {
   "cell_type": "code",
   "execution_count": 85,
   "metadata": {},
   "outputs": [
    {
     "name": "stdout",
     "output_type": "stream",
     "text": [
      "(5065, 'stay stayed recently broadway manor inn oct. 22-26,2007. thestaff helpfull, room 4th floor, 403 nice roomy, king bed micro fridge coffee maker, nice thing 4th floor rooms floor, no worry alot foot traffic going forth, nit-pick room water pressure shower low flow set, not fitted sheet sheet, just sheet used sheet.everything room new, bed self bit soft not unbearable.the immeadiate neighborhood great, just stone throw away unbelievable sushi restaurant called wasabi ginger, try, alsojust bit great coffee place internet availability 12 cents/minute, great coffee.the rate room fantastic, reccomend staying duringthe week versus weekend, like big cities rates higher weekends.all good expearience, yes stay, thing try restaurant property peter d great breakfast,  ', 'Positive')\n",
      "\n",
      "(5245, \"great location friendly service ca n't tell convenient location, close major attraction tapa bars couple blocks away puerta del sol center huge construction going right, adviced book hotel away puerta del sol area yes rooms located hotel looks pretty streets noisy, room located hotel no problem noise, room clean mini bar, bathroom really tiny clean, desk people eager help questions,  \", 'Positive')\n",
      "\n",
      "(6408, 'simply wonderful wonderful 5 days beautiful hotel, great location centre alongside quiet canal, relaxing place no pressure like home nothing fun, owner friendly welcoming, no critisisms simply wonderful, claire deb,  ', 'Positive')\n",
      "\n",
      "(7737, 'stay jianguo garden hotel beijing clean comfortable room, great breakfast including western chinese food, good location walking distance golden street tiannamen, nice stay,  ', 'Positive')\n",
      "\n",
      "(1410, 'bad experience new york restaurant went ritz breakfast near hotel, choices 45 buffet light menu husband wanted buffet wanted light menu, lots discussion not having buffet sit little cove like snack table not dining room, levels corporate governance later finally decreed sit dining room cold, salad truly terrible glass iced tea, decided swap iced tea hot tea course charged both..added 12 tea, honestly did not feel like hassling just paid decided happened level service expect 60 breakfast, bad experience new york weekend,  ', 'Negative')\n",
      "\n",
      "(8464, \"perfect getaway caribe husband couple just returned day stay melia caribe punta cana, jan 12-16. read mixed reviews hotel trip advisor decided listen positive reviews.when arrived hotelthe staff friendly ready assist, greeted desk waitress giving welcome cocktail.the map resort gave german-we got good laugh decided fun not waste time trying, staff bartenders housekeeping maintenance men did not speak english, employyes desk tour desk fluent english willing help, day stay realized room not locking, called desk fixed hour, room beautiful, everday housekeeping clean fresh flowers grounds bathroom, grounds lush kept clean, flamingos peacocks exotic birds walking garden, peacock right terrace, resort big trolly parts resort, run 15 minutes, did walk n't bad, staff sees walking stop pick golfcart drop need, careful arms legs trolly trolly did collide troll going way, road just wide trains fit, train situation did n't upset long nobody hurt coco locos amused, trains fast hours 6:30-11:00 p.m. lot people going dinner reservations, sure make reservations day la carte restaraunts require reservations book fast, food buffet o.k.-not bad just different, wide variety la carte restaraunts, chinese japanese italian steakhouse seafood mexican, japanese restaraunt popular booked fastest, pool clean kept beach clean not crowded, grass hut catch shade avaliable chair catch sun, everynight music entertainment-it fun watch entertaining, casino pretty big-although did not win did people winning slots, pretty rained night wich worked, careful-the cobblestone walk way gets slippery wet.in conclusion seeking sun relaxation good service immpecable grounds place, afterall vacation-save complaining home, good luck enjoy,  \", 'Positive')\n",
      "\n",
      "(2047, 'great location-great room 10 year old daughter stayed 1brm harbour view suite 4 days, fantastic, not sure location circular quay bettered, quay grand fab, sydney virtually doorstep takes 1 minute ferries trains buses, travel pass did 95 week adult child buses trains ferries plus airport train ways venture opportunity, got ferries places wouldnt normally like watsons bay, arrived 9 able check room straight away.the apartment rm 702 perfect, quite high nice view harbour bridge, no view opera house right door, no noticeable noise ferrries trains balcony door shut just pleasant sound people going business open, nice place sit people watch, room service great quick, pool nice, lots cafes right door great movie theatre door shows art house sort movies, issue appliances not working kitchen fuse blown resolved quickly, staff friendly showed doing, loved cant wait stay, nicer little cheaper return,  ', 'Positive')\n",
      "\n",
      "(317, 'great food beautiful rooms grounds date july 24 29 2006experience overall nicepros great food great rooms beautiful grounds nice staff 80 speak english, 25 minute neck message given evreryone checks hotel.cons arrived 3pm did not room unitl 6:30 p.m. took 3 1/2 hourws check needless say ruined entire day, restaurant not buffet breakfast lunch buffet fine wouldl ike sit dinner, trolleys run minutes room.power outage happened thursday staff did not communicate happen guests power did not come seven hours waiting getting dark approached desk told no lights water government shut half hour guest refugee camp problem resolved, entertainment great spoke spanish did not offer english shows marketing strictly spanish audience, delivery luggage rooms slow taking 45 minutes, not having children constantly surrounded kids no place just sit relax byt pool enjoy nice swim good book, swim bar nore kids sitting no room adults, resort use area adults, jacuzzis make adult experience,  ', 'Negative')\n",
      "\n",
      "(1230, 'nice hotel pleasantly surprised experience quaint hotel located quiet residential area, airport shuttle dropped right convenient, staff desk amiable room spacious, hotel walking distance eateries convenience store, breakfast good felt paid worth, definitely stay,  ', 'Positive')\n",
      "\n",
      "(6292, 'great hotel great hotel center barcelona excellent staff service come hotel contemporary rooms good restaurant german important big breakfast, just recomand,  ', 'Positive')\n",
      "\n",
      "(9184, 'lovely hotel husband just returned today staying el convento, lovely hotel middle old san juan, hotel beautifully decorated street cathedral, history just permeates place, lots extra stereo room magnifying mirror bathroom turn service wine cheese 6 7 friendly staff aim, recommend hotel, old san juan nice days,  ', 'Positive')\n",
      "\n",
      "(3628, \"great stay just terrific stay w. time staying ca n't wait stay w property, trendy hip just great experience.it close canal shops street mother harrah not far warehouse district, probably minute walk french quarter, staff accommodating wish stayed longer.the bed just awesome, room bliss products good, really love w cds room, good stay,  \", 'Positive')\n",
      "\n",
      "(2538, 'worthwhile surprised nice hotel given horrible experience hotel amsterdam star rating, really nice, rooms large european standards bathrooms heated floors, service great hotel clean definitely stay,  ', 'Positive')\n",
      "\n",
      "(2263, \"friend attacked hotel friends booked week inclusive trip conquest vacations stay grand palladium punta cana resort spa, hotel minimal security saftey guests not priorities, night resort friend attacked guest hotel property, hotel security did nothing retrain attacker calling help did little respond cries, friend suffered large cut head blows head chipped teeth badly bruised nose, spent nights hospital hotel management subsequently did nothing repremand guests attacked friend, simply taken hotel rooms able finish vacation planned.in addition night attack asking hotel police like press charges, hotel management lied told friend jail did refused police police dominican republic respond hotel calls, needless say hotel does not want police resort result bad publicity them.as result vacation completely ruined lack hotel security grand palladium refusal responsibility saftey guests, hotel manager told explicitly 8,000 guests ca n't responsible safety person, guess just unlucky individuals hotel not protect, warn potential guests caution.furthermore hotel lacking following ways:1. not beach towels guests exchange towel 9am stuck dirty wet towel rest day.2, days sent regular towels hotel entire resort clean towels bathe with.3, requested rooms beds unable accomdate request brought cot infested bed mites, evidenced bites bodies morning 4. morning electrical shortage running water a/c unable flush toilets hours running water apparently connected electricity punta cana 5. no hot water hotel cold showers around.i return palladium fiesta group resort,  \", 'Negative')\n",
      "\n",
      "(3023, 'great hotel beautiful beach relaxing atmosphere admit nervous expect hotel arrival bad reviews read online leaving, wanted time share great experience people not wrong idea hotel, begin address reviews say weaknesses food rooms.we spent 5 nights hotel eat buffet dinner, got la carte reservations night normal eating hours 7 8:30, nobody party got sick, chronic stomach problem worried geting sick having read reviews food really good, dinner steakhouse italian ate twice places good service just fine meal taking 1- 1 1/2 hours time sat, recommend getting pasta italian restaurant, restaurants not air conditioned, ate japanese restaurant twice, restaurant air conditioned service great, did not try extra cost places options provided great food.lunch- grilled chicken beach great, better make grill home.breakfast- not big breakfast eater looked like pleanty options, stuck toast jam thats home.rooms- room fine, yes rooms use touching paint long not expecting 1000 thread count seasons atmosphere not think upset, people mention terrible odor, scent room not bad essentially impossible no scent tropical humid environment, allergies no problems room, lots hot water shower great water pressure believe hate bad water pressure did not platinum felt no need, staff attentive no complaints service, pool nice grounds just immaculate, beach hotel nicest streatch beach nice big sandy beach little seaweed.hope helpful, definately consider returning hotel suggest great location visit,  ', 'Positive')\n",
      "\n",
      "(9137, 'ask better girls vacation, fun, girlfriend stayed ifa week january__Çî__he resort beautiful construction going majority complete definitely didn__Ç_é_ disrupt stay, animation team great various beach activites nightly entertainment- missed beat, joined willing disco lot fun way, suggested club mangoo exceptional partied nights food great good eat, la carte restaurants excellent especially japanesebeach spectacular, water crystal clear white sandy beaches comparable ones varaderorooms didn__Ç_é_ stay villas little far away action, stayed pool prefect__Çî_ölways clean staff friendlysay hello henri animation staff they__Ç_éÈe tons fun, excellent vacation year, questions feel free contact,  ', 'Positive')\n",
      "\n",
      "(6588, \"visit new york just returned weeks stay casablanca, located corner times square not expecting oasis entrance lobby, difficult add reviews written hotel hoped, room comfortable needed downside noisy air-conditioning did'nt want turn, got used service excellent needed doctor appointment sightseeing hour.we recommend tony door excellent food service especially busy day, deliver room real plus dont want, refreshments offer day nice touch cheese wine early evening, lovely relaxing stay great location.we love return enjoy visit,  \", 'Positive')\n",
      "\n",
      "(7902, \"no need look further-hotel ungherese, husband enjoyed stay hotel ungherese ca n't imagine staying florence, extended stay, special trip sabina leonardo proprietors special, celebrated big 50 birthday florence italy, sabina arrangements david visit uffizi way spend birthday, returned room evening balloons beautiful bouquet fresh flowers, humbled kindness, room perfect view spectacular, frankly glad stayed did, best worlds, great italian neighborhood night downtown town day, walked italian neighborhood evening stopping pastry shop just closed, happy home oklahoma city ok everyday memories stay hotel ungherese new friends sabina leonardo beautiful firenze, thank heart sabina leonardo making trip special, spoiled best cappuccino morning, thank sweet sweet husband making trip perfect, lorry cates,  \", 'Positive')\n",
      "\n",
      "(6794, 'best hotel, hotel gorgeous, beautiful clean spacious room fantastic view city delicious breakfast excellent service,  ', 'Positive')\n",
      "\n",
      "(4710, 'big rooms good service noisy stayed nights july 2006. night stayed suite 21th floor, consisted badroom livingroom soffas lavatory bathroom, suite minibars widescreen tvs espresso machine, overall nice, view city spectacular corner room outside traffic bit noisy hotels airconditioning.on second night stayed executive room 22th floor, consisted big room big bathroom, nice bit noisy outside traffic ac.in opion hotel spend money just make sure room high building, bit far main tourist attractions barcelona beaches,  ', 'Positive')\n",
      "\n",
      "(807, 'honeymooner haven cool calm charming library hotel perfect manhattan base leg honeymoon, friendly knowledgable staff feel home, knock complimentary cheese wine kick-started pretty evening stay, love room worth extra cost thanks small balcony reminds exciting cities world, great rooftop cocktails, loved,  ', 'Positive')\n",
      "\n",
      "(1870, 'fantastic weekend birthday year husband surprised trip san francisco stay omni hotel, second arrived return hotel staff faultless, arrived early hoping able drop bags room ready delighted told not room ready upgraded suite, room beautiful loads space chill relax, returning evening day sightseeing surprised laid cake champagne birthday, omni certainly know pamper girl, day felt thoroughly relaxed sleeping comfortable beds, breakfasts fantastic truly excellent service, husband booked champagne strawberries package delivered evening presentation execution impeccable, rose petals bed extra special touch, highly recommend omni hotel wonderful staff look forward returning future,  ', 'Positive')\n",
      "\n",
      "(9672, 'modern comfortable hotel great location modern hotel built old post office sydney, located martin place downtown short walk harbor main attractions, rooms modern clean, service good,  ', 'Positive')\n",
      "\n",
      "(9140, \"great location good value, just stayed victoria court fantastic time, place lot charm character owners n't friendly helpful, lovely quiet room enjoyed stay thoroughly, location good near quiet good restaurants vicinity, just opposite called mezzaluna amazing dinner, entering overwhelmed gorgeous views city skyline food sublime service attentive, enjoyable stay recommendable,  \", 'Positive')\n",
      "\n",
      "(2434, \"petite auberge getaway excellent, nov 2007my husband stayed petite auberge time, wonderful hideaway city love visit san francisco, moment arrived felt welcomed departure 3 days later, worked smile face asked us.in fast paced city french country inn charming romantic atmosphere, located nob hill union square accessible shopping restaurants transportation systems bart cable car buses gourmet breakfast served morning hors d'oeuvres wine served evening, little work vacation free wireless internet available.i suggest booking petite auberge suite fabulous, jacuzzi tub fireplace lot amenities, dan nancy giallombardo,  \", 'Positive')\n",
      "\n",
      "(6033, \"old-fashioned charm centrally located stayed hb nights, hotel centrally located allows stops day drop shopping use facilities feet, style hotel well-appointed old-fashioned european, common rooms feel bit like grandmother house need sit straight not feet rest.the bedrooms not overly ample not cramped, average sized queen-sized bed sitting chairs desk drawers small-ish closets, traveling, person bathroom time quite tight, used help conceirge prior arriving arrange museum tickets dinner reservations, hotel added surcharge tickets expected, handy avoid surcharge purchase tickets right online, recommendations meals helpful.the breakfast buffet bit standard meats cheeses muffins/cakes canned fruts, hoped imagination diversity 3 mornings, cost 25 euros not included room rate consider bit off'.everyone works hb quite welcoming, know address surname, mistakes overcharged tickets purchsed original email tickets price quoted roomrate misquoted mistake corrected, like think honest mistakes given hotel reputation service, errors remind email quotes confirmations,  \", 'Negative')\n",
      "\n",
      "(5499, \"n't believe read experience booking trip reading negative reviews approached departure little trepidation, end result trip great time, quickly rundown experience.rooms small nice strong ac, small leak bathroom took maintenance days address, room oriented requests towels water extra pillows answered quickly, pleasant cooperative housekeeping staff.food not picky eater, lot dominican dishes, bear mind resort caters americans british germans hispanics canadians predominantly tries offer wide spectrum foods, plenty eat good quality, ate italian japanese french mexican restaurants good good service, night ate alcazar buffet restaurant, dominican night food great, ate european night satisfaction, breakfast lunches served alcazar marlin grill, 24 hour bar grill el sombrero partiers, arrival pre-booked 3 specialty restaurants, choose change reservations add bookings desk 9am, read reviews stating desk 6am spot line, did n't experience all.pool- spent time beach pool beautiful, maintained clean, swim bar expanded accommodate guests.beach- beautiful, bars no watered drinks no complaints, presidente beer available.we spent time beach taking relaxing vacation, activity participated banana ride inflatable tube pulled boat, just wanted clarify, lot fun free, plenty decided just lay low.overall not 4 5 star high 3., mind going world country things not opulent want, high standtards expectations n't, looking fun place decent food rooms beautiful beach try, not dump apathetic unfriendly employees bad food reviews suggest, open mind, 8 year old wants good sign,  \", 'Positive')\n",
      "\n",
      "(2931, \"nice family vacation casitas beutifully sited pools lush landscaping, 2-bdrm roomy family 4 spectacular ocean views upgraded golf course view treat, bad days pools quiet changed crowded pools poor housekeeping did n't come day, newer casita complementary breakfast long hike older casitas hot items 18 pp, hot chocolate n't free charged 4, use gym golden door spa 25/day 5 star resort include, free gym marina 10 min walk/ride funicular limited old equipment, good having use el facilities big plus lots kids, 24-hr butlers helpful setup great kayaking trip nearby bioluminescent bay scuba dive, want luxury quiet action teens group 5 place, kids head palamino island beach day parents enjoyed pools, food offsite restaurants great reasonable lolitas mexican metropol- fajardo, hotel japanese rest, fun 400+, rent car save money getting groceries especially kids, kitchen well-equiped w/ big fridge, stay ritz wanted comparable luxury family vacation, despite issues feel got las casitas,  \", 'Positive')\n",
      "\n",
      "(9668, 'nice property nice rooms nice management waikiki 7 times 10 years, hotel best, fresh clean room amenities thoughtful, dest offers cold bottled water register, fruit coffee local newspapers lobby, staff friendly responsive, not good hotel kids partyers excellent else.a really good 24 hour coffee shop downstairs corner, convienent busses taxi walkable shopping beach.please note- nonsmoking property cigarettes not allowed balconies parking garage.there little bench ashtray away lobby hawaii non smoking enjoyed able light balcony.a recommended hotel,  ', 'Positive')\n",
      "\n",
      "(6338, \"conflicted okay-first need start saying not book ticket apple vacation, got airport check apples booked flights wrong day, packet apple sent correct airlines showed booked wrong, say freaked, husband way married iberostar guest flying problem, arrived immediately got transportation resort 20 min, wonderful, arrived greeted nothing short warm smiles helpful service, asked room upgrade got free, customer service resort amazing, got room nice floors gritty like sand dont sweep, room hot n't figure a.c. work properly, going issue entire trip, desk times stay looked, guest problems did n't running a.c. little bugs room looked like tiny baby spiders, not sure disgusting, room cleaners come did n't floors, felt like wanted wash feet.outside room resort beautiful, grounds kept daily beauty landscaping sight, flamingo peacocks chickens running freely property, ocean crystal blue sand like powder, amazing food different u.s. buffets opened different times sure know closes not walking enormous grounds open, restaurants n't know, huge disappointment husband guests self, tell make reservations eat fine, n't tell book reservations week prior stay booked, basically ate buffets time, excursions wonderful strongly recommend going safari excursion, day worth want dr really, views breathtaking learn, conclusion hard rate experience overall people resort grounds beautiful rooms travel agency horrible food okay,  \", 'Negative')\n",
      "\n",
      "(1888, \"hotel le suck agree rest poor reviews hotel received, told shuttle airport hotel, n't, staff young not knowlegable, room small dirty smelled smoke, nonsmoking rooms ashtrays, carpets mattress sheets old stained, sheet n't fitted end sleeping dirty mattress, hotel basically worn smells mold mildew, having water leaks recent rain, changed rooms night rooms east building bit cleaner, overall value poor, hotels new orleans know large conventions going town, receive print number rooms needed really soak shortage rooms.warning, watch hidden charges internet hookup safe use, kick ass checking pressed time receive extra 7 dollars day, fairness small sign corner mentions extra charges.i not stay, buyer beware,  \", 'Negative')\n",
      "\n",
      "(9094, \"nightmare pleasant husband friends 2 couples booked dreams 6 weeks advance, arrived airport taken beat looking van booked ahead time small 6 grown persons 2 6 plus, pulling ask driver said spoke no english long dreams, said hour half knew problem right away, said told aproximately 1 hour stopped van pulled parking space called person charge, person charge appolgizes says free massages inconvenience, look puzzled tells day moved dreams, unbelievable going hotel telling, person pretty held hostage van not door nor tell drive dreams regardless wanted, turns dreams overbooked glich no rooms, make long story shorter pretty told 45 minutes sitting hot van heck way tell driver dreams speak manager dreams, trip hell airport dreams finally arrived hungry annoyed mad hell, hours late, friends scotland waiting n't information desk did n't reservations, dreams tried tell no rooms hour finally gave room luggage, relentless hounding tracking manager night finally rooms 10:00 p.m. day shot, turns not ones predicament, couples/families ordeal did, manager did work hard rooms probably n't leave, think afraid camp lobby, did free massages best way supposedly credit night stay fighting, day pool heavenly couples actually got engaged day, great food night, japanese habachi fabulous, want fun laughter entertainment good food recommend it.be careful beach, beach beautiful friend scotland went ocean ended stepping sharp coral getting cut needing stitches, medical attention excellent say.everyone friendly sammy sosa, got horrendous day rest stay nice, 4 days n't, especially day wash time cool not punta cana probably try different resort, majority people n't severe problems checkin etc. did just remember does happen, thought happen me.if people food drinks wonderful pool, went great friends ordeal worth,  \", 'Negative')\n",
      "\n",
      "(4948, 'ok location not best cosmo hotel not located particularly close mtr station making not convenient hong kong hotels, meant shuttle bus available gave waiting 20 minutes scheduled time caught regular bus cheap easy doorstep.the room smaller similarly priced rooms previously stayed hong kong reasonably nicely furnished, shower design poor flooding bathroom used.the included breakfast selection average hong kong hotels.the staff generally helpful hotel similar sister hotel corner cosmopolitan important luggage delivery delayed hours, whilst not strictly hotel fault surprising cosmopolitan accepted delivery guest staying cosmo failed tell them.the chic bar hong kong claim bit stretch truth overall good value money worth spending extra closer mtr save travel time depending reason staying hk,  ', 'Neutral')\n",
      "\n",
      "(3066, \"loved sofitel stayed august peak season wonderful time, initially booked 4 nights stayed 3 came night tript o ubud days, checkin welcoming room fine bit dark not spending time, staff friendly welcoming requests ice/extra towels speedy, loved pool problem sunbeds reserved early morning not just best ones, 10am 42 saved beds towels no people sit, dealt pool staff later leisure manager apologetic ca n't agree comments buffet, maybe buffet different peak summer months better buffet, huge range fresh fruits dried fruits crystalised fruit poached fruit muesli cereals seeds nuts homemade yoghurt, freshly baked breads best croissants outside france pastries cake cheeses cold meats lots asian hot food yes got freshly squeezed juice included endless freshly squeezed buffet, coffee excellent freshly espresso coffee unlike lot breakfast buffets lukewarm filter coffee, separate cooked breakfast a-la-carte menu meant eggs french toast bacon freshly cooked order insted usual overcooked buffet style, buffet changes season returning highly recommend sofitel great international style hotel not particularly balinese style beautiful gardens great relaxing pool.the restaurants relatively expensive compared local eateries great food especially thai restaurant,  \", 'Positive')\n",
      "\n",
      "(3677, \"n't waste money unfortunate experience staying hotel 2 days flight delayed.our holiday wedding riu bambu excellent comparison barcelo no league.we arrived barcelo allocated ground floor room block 6 quite walk cases porters help, reception staff relay message, room small dated fine delay shattered patio did not lock quite obvioulsy forced open previously fixed.being ground floor great worry husband wedge door chair clothes airer.the morning ventured restaurant.after spoiled bambu hot fresh food immaculately clean restaurant disgusted flies restaurant careful stick porridge rolls covered n't sealed flies landing, snack bar pool area too.in book flies means dirty cleanliness.and spending 2 weeks bambu not remember bothered flies wonder food preperation areas like problem bad, issues hotel queues christmas day spent 20 mins queuing plate pasta pasta bar thing dared eat cooked fresh waited.also queues bars worse guests rude trying push, does not make relaxing atmosphere combined fact husband got bar no water sprite coke pouring glasses ice got mouthfull pop, queues worse fact food not filled soon ran time filled people waiting ran, annoyance fact staff bambu brilliant checking running low.the hotel looks wonderful distance close cracks, meant literally pool area lovely not looked missing tiles dotted pool centre area grout tiles holding place.in mind small things like make difference hotel definately lacked finishing touches.also look wet floor signs ceiling leaks think trip room counted, not come hotel want relax not relax dinner flies wanting share food not relax night fear room broken not relax getting drink queue jumpers.an awful hotel no idea got stars,  \", 'Negative')\n",
      "\n",
      "(1933, 'best hotel ubud brilliant hotel, swimming pool amazing service perfect view amazing enjoy, 1 tip book restaurant mozaique good gastronomic,  ', 'Positive')\n",
      "\n",
      "(1255, 'great experience altamont girlfriend recently spent week altamont, spending weeks camper-van thrilled brilliant shower comfortable bed, pleasantly surprised friendliness staff, alan sam helpful choosing restaurants giving advice activities showed genuine comfort wellbeing, hotel gives personal experience larger corporate, location quite convenient near kings cross station, not hesitate recommend hotel like positive lodging experience not cost arm leg,  ', 'Positive')\n",
      "\n",
      "(6269, \"check luggages, good stay good service problem luggages managing.when checked-in did n't want carry ourself luggages waited luggage room luggage came, went reception 1000 feet rooms happening luggage hall room tag label tear n't know, finally got luggage couple hours after.when checked luggage clerck came room luggage small truck gone reception, walked reception did checkout desk tried luggage luggage disappeared, tried hotel luggages clerck apparently luggage wrong bus direction santo domingo.i came home luggage princess hotel waisted vacations,  \", 'Negative')\n",
      "\n",
      "(8994, 'fabulous hotel just returned stay easter weekend, fantastic hotel, room 8th floor spacious, bed comfortable slept, hotel clean couldn t faulted, choice food breakfast tremendous tastes catered, fruit juices cereals fresh fruit salads hot buffet selection breads spreads, waiting staff friendly help.the location hotel great, potsdamer platz happening place far nicer thought comparison areas berlin, plenty restaurants eat reasonable priced, u-bahn s-bahn located minutes hotel main attraction sites walking distance, berlin flat walking attractions does allow feel area, 30 min walk tv tower alexanderplatz, jewish museum just marriott checkpoint charlie, brandenburg gate reichstag 15 minute walk away, plenty time attractions, queued hour tv tower reichstag.all great stay berlin highly recommended,  ', 'Positive')\n",
      "\n",
      "(1341, 'excellent service value money hotel tripadvisor agreed overall tone previous reviewers, high quality hotel class service stunning views city, spacious bedroom bathroom big half dozen people ready wash basins toilet bidet vast shower cubicle bath shower, lucky 12th floor room view guests admire barcelona skyline breakfast floor restaurant, exceptionally high quality price paid, ideally hotel located main tourist area just ramblas convenient subway stops main attractions, highly recommended,  ', 'Positive')\n",
      "\n",
      "(668, 'best place stay amsterdam, time husband visited amsterdam did not stay dylan did eat dinner beautiful meal, thought time returned amsterdam like stay dylan given great location cool vibe discovered food fabulous, return amsterdam did november stayed dylan, reading reviews negative mixed good ones bit hesitant pricier hotels, happy decided stay dylan, stayed amazing room facing canal staff not nicer, anniversary hotel gave gorgeous bottle red wine celebrate, room hotel wonderful bearly left room huge bright airy zen-like, sightseeing time amsterdam just wanted relax spend time trip, highly recommend dylan hotel restaurant,  ', 'Positive')\n",
      "\n",
      "(1884, 'great location great stay husband began four-week tour eastern europe september staying nights berlin marriott, wonderful stay, location hotel superb, right potsdamer platz metro station sony center just small street, lots places eat minute walk want meet berlin knows location, did days walking tours berlin walks wonderful guide sarah, highly recommend company tourists, hotel room 8th floor looking bears exhibit good views city, room standard room plenty spacious room early morning early evening, clean adequate amenities bathroom, desk concierge friendly helpful, cafe served wonderful steak salad dinner night berlin hours airplanes terminals breakfast morning menu buffet tasty, checking checking problems, tried walking miles day use gym pool facilities looked quite nice, highly recommend hotel visiting berlin definitely stay berlin,  ', 'Positive')\n",
      "\n",
      "(390, 'fun w mexico city stayed w mexico city business, nice contrast stuffy work life lead, rooms intense contrast color red innovative twist hammock shower, thought property showing wear bar restaurants lovely massage spa excellent, close professional district fun alive,  ', 'Positive')\n",
      "\n",
      "(6345, \"aware conditions, family just returned sixteen long days mentioned resort, grounds beautiful reason rate resort instead far worst vacation indured, started arrival concerned selling time share long day travelling just getting room, finally got room musty refridgerator did not work, day noticed missing carry bags porters arrived resort, immediately notified numerous people lobby seamed just telling story people spoke little english no results, later day eating lunch spending time pool year old son said did not feel went room started, 8:00 called desk doctor duty just kept getting switched people did not speak english, finally reached medical doctor come room immediately hooked iv dehydrated vomiting, days recovered thank god turn, sick days n't maybe just did n't want eat drink, way food horrible tastes loaded grease flies eat outside mess halls, not drink water ice cubes juices lettuce ect, water used process water bacteria poor filtration sewer inhabitation, people talked sixteen day period estimate close fifty percent experienced degree illness, strongly recommend planning trip area contact doctor ahead time prepared, aspects trip weather fairly nice 85 degrees occasional showers, beaches alright alot seaweed, conditions not leave resort did manage shopping day hour, unless really enjoy bartering hassle ripped, end not wait leave offered free ticket, resort lacks want vacation mainly relaxation good food service, instead got aggrevation sick lost bag quickly got tired ordeal,  \", 'Negative')\n",
      "\n",
      "(832, \"better el san juan nice hotel, definitely lot offer price include perks guests, husband stayed sept. 19th 23rd 10 couples, impression hotel looked exactly like website, lobby beautiful does n't match decor guest rooms kind odd, guest rooms little modern miami vice-ish left desired, true walls paper hear phone ringing rooms hear conversations hallways, glad n't right elevator sure hear ding, beds definitely soft great like couple days husbands hurting, bathrooms n't small impression got reviews husband able shower time hassle, suggest grout shower stall darker grout, kind dingy dirty looking course going happen white tile white grout, guests unsanitary, pleather furniture rooms uncomfortable, no wants sit going stick feel like going slide, ate 2 service restaurants hotel yamato benihana type restaurant good sushi prices comparable states, second restaurant dined palm, service exceptional, private room couples group waitstaff wonderful, food excellent biggest problem leftovers, hotel does not provide refrigerator use, items mini bar 10 service fee used personal use, ridiculous, husband spent 150 dinner leftovers went complete waste did n't store incurring additional fee, understand not wanting outside food drink hotel guests patronize restaurants, definitely kept mind eating making sure did n't order eat seating, bit tropical storm stay hotel lobby disaster area probably hazard appeared, water literally poured ceiling certain areas dripped, flooding 3rd floor inch 2 hallway wing guests moved parts hotel, seeing leaks really question workmanship hotel, tropical area hurricanes tropical storms not unusual did n't prepared structurally, definitely good thing rained 2 days did n't turn hurricane hate looked like, overall hotel beautiful like work progress definitely room improvement, staff courteous efficient, puerto rico probably pick hotel intercontinental door appeared nice believe n't expensive,  \", 'Negative')\n",
      "\n",
      "(76, \"ca n't meet obligations singaporean, reservations 4 guests 2 rooms hotel 1929 arrived singapore 7 nov early morning, reservation confirmed directly hotel reservation staff guests arrived hotel told 1 room left, unsatisfied fuming mad way hotel staff handled matter, rooms not easily available past 1 week 2 rooms robinson hotel balestier road not convenient 2 nights, search high low accommodation, hotel 1929 did n't offer arrange transportation send 4 guests alternative accommodation, guests took cab robinson hotel.one couple honeymoon, enjoyed maldives throwm heaven hell, felt sorry guests.so wants stay hotel newly opened hotel known new majestic hotel prepared left lurch risks having stay street not friends singapore, hope unhappy incident happen innocent soul equally mad unhappy incident happen foreign land, reflected singapore tourism board stb acts postbox deliver message hotel 1929. stb able nothing n't expect, compliments summer view hotel, summer view probably 3 star hotel service good staff offer pack breakfast guests need leave hotel 5.30am catch flight, kind gesture, ii uncle/security guard think 60s working carpark hotel highlighted exit door carpark shut 11pm leave door, wonderful service appreciated,  \", 'Negative')\n",
      "\n",
      "(3379, \"highly recommend friendly rooms spotlessly clean confortable, staff friendly julie proprietor wonderful 3 women, location great close metro street market rue mouffetard, great air conditioning, stayed 5 nights went south france came hotel night leaving states, ca n't wait come husband,  \", 'Positive')\n",
      "\n",
      "(6128, \"july 25-aug 1 awesome, family family friends stayed ocean blue pampered like queens kings princes princesses, complained place ultra picky just likes complain, recommend getting upgrade dollars family extra perks like corner villa ocean walk pool sure villas just beautiful, complaint seven loose bowels, just frank, people wonderful friendly lanuguage rarely issue willing try communicate remember coming country try speak english try communicate, think key adventure going country, n't want try new foods speak does n't know language stay country, words advice insulated mug, got wal-mart 5.97 34 oz bubba kegs, bartenders want add liquor tell lid keeps sand drinks spilling stay cold longer having small dixie sized cups, remember tip bartender service staff, n't huge white smile firm hug handshake small tip worth, night best service home, itallian restaurant does n't matter people work different places morning noon night different locations, wonderful service left waiter 20.00. came running restaurant thanking warm smile huge hugs handshakes, states, think trip make, friend got involved daily activities pool staff got know, lovingly began refer jumpy greet daily, beach games water games just listen renaldo invite participate, teenagers encourage meet kids makes trip memorable hang kids age disco theatre hang pool play game volleyball, grounds secure guards posted entrance beach night, felt like not safe, unless ocean blue bracelet wear trip n't, reviews mentioned flea market, start 165.00 able necklace bracelet earrings pendant small shell necklace daughter 20 usd, pieces flea market not nearly quality jewelry store not nearly price, venders willing negotiate not, nearly pieces stands just walk away, problem time, hotel does bring group vendors friday night, got great deals nicer going beach, remember want money aggressive n't let bother just fun, place, just loved, questions feel free e-mail, happy answer, starkkiss adelphia.net,  \", 'Positive')\n",
      "\n",
      "(1857, \"enjoyable stay stayed swissotel berlin night girlfriend, overall really impressed hotel, superb location right ku'damm shopping street close zoologischer garten railway station, impressive interiors lobby friendly helpful staff, room nicely presented modern trendy design, highlights lavazza coffee machine produces good coffee, disadvantage coffee machine stuck selection coffee tea provided no option produce just hot water want use tea coffee, minor point hotel class expected flat screen tv bulky crt, bathroom immaculately presented bath tub separate walk-in shower cabin, bed comfortable common germany mattresses wooden base, gives quite annoying gap middle probably main reason n't hotel rating,  \", 'Positive')\n",
      "\n",
      "(5427, 'excellent location good staff good service stayed travelodge sydney 15-24 july 2005. having read reviews website expecting told wait 2:00 pm room considering 14 hour straight flight disappointing, nice young lady reception said room second floor right away 9:00, promised change room 13th floor day exactly did, reception exactly reminiscent production line guests getting wait 5 minutes, plenty people tours chinese student groups american no problem.rooms clean not clean described reviews read, concerned things like small food particles floor stains floor bathroom usually reception let know want cleaned, disappointing thing rooms absence internet access, phone socket wall use internet card 56k, asked staff booking said internet access available rooms, remedy great internet cafe close 3 minute walk liverpool street, electronic facility think, speed not impressive acceptable, hotel location superb, literally need 15 minute walk hotel, used walk darling harbour everyday enjoyed path vibrant clean area, george street good example street great fast food included, good experience hotel stay remember practically no internet access rooms specific room cleaned ignore,  ', 'Negative')\n",
      "\n",
      "(904, \"not paid money trip won day/two night trip bavarro princess june took trip past weekend nov 21-23 2003. thank goodness did not pay trip fighting money, princess bills 4 star inclusive resort, gets maybe 1 1/2 stars best, time step plane looking handout, baggage guys transfer operators bell men sell dive trip 20 disposal camera, grounds pretty lot construction going lot rooms lots creepy construction workers places consider private places paying guests, arrived 5pm told check able eat main buffet evening not having reservations 4 resturaunts, no big deal, bell man insisted taking bag hotel, fact tried wheel away followed took telling 10 minutes arrive room, asked resort included tips/gratuities, desk clerk said want tip, pay like, offered polite smile, arrived room strong smell mold live puerto rico not new plus raining quite bit past week turned air conditioner humidity, fully stocked mini bar consists bottles sprite coke bottles water bottles beer, did mention refrigerator n't plugged, articles warm no way ice treking way entry bar, 10 minute walk, took bell man 35 minutes bring small bag sharing room, husband return curb rain order speed process retreiving bag, wanted change clothes, walked rain dinner umbrella provided room way covered black mold, hispanola buffet okay, read reviews web site avoided fish chinese food, think ate weight bread cheese, red wine chilled guess european thing, good not great, dessert table left little desired, dishes not recognizable fruit sitting mess flies passed dessert, no clocks rooms book people twin beds shoved, good thing n't honeymoon, small flat pillow bed ceiling fan looked like used guillotine point past, deluxe star resort towel person no wash cloths, bathroom not clean showed residue urine seat, okay night sleep air clicking random, woke went breakfast coffee good juice not world sort orange juice tang mixture selection varied fruit covered flies bread stale, ordered omlettes omlette line did not received omlettes got, servers quick plate not quick bring refill beverages, returning room hung not disturb sign door did not want room service days weekend, valuables room did not want disturbed, coming beach day room completely cleaned, furious, addressed desk language barrier understand problem, beach saving grace resort, beautiful beach good service bars lots booze bottled water snack bar/hamburger stand gets 5 stars, guy working cooks mean chicken burger fries, ate food tolerable, strangest thing resort beautiful beaches lack natural wild life, no birds swooping stray morsel beach no fish lovely shallow clean water thankfully no bugs, thought things strange, dinner reservations based desk recommendations el gaucho, arrived 7pm reservation glass chilled red wine ordered menu, ordered cesaer salad, way anchovies yuck, argentinean appetizer husband beef stew, appetizer consisted small slices bread shrimp dirty black vein tiny slices sausage mystery meat type blood sausage, kidding, beef stew clear yellow broth no hint salt flavor, sent salads appetizers, ordered fillet dinner, arrived joke, big hunk meat charred burned asked medium rare not fillet mignon tough nasty hunk meat probably not beef, got left resturaunt plates table asked wrong told waitor food horrible, went buffet instead, saw entertainment table horrible went room, days sun checked met transfer operator curb, aimed way motorcycles vans pick people traveling airport hotels, point bus operator gave board speech thanking traveling dom rep arrived airport required stay bus doors closed offloaded luggage, spoke uneasy, checking flights world passengers asked touched luggage not know, told tourinter person not comfortable stranger handling bag forced stay bus, n't worry wont steal, told n't afraid taken bag, wrote letter transportation safety administration regarding scam airport, force protection issue not allowed continue, unload bag want tip, took bag walked, conclusion 4 star resort flop, mexico puerto rico instead check real service caribbean, princess female frog disguise,  \", 'Negative')\n",
      "\n",
      "(6975, 'perfect little hideaway, super little place quiet neighbourhood easy access useful u-bahn lines, little beaten track easy pretty, cab tegal costs just 0 0 funky areas mitte coming late, room beautifully furnished peaceful airy tasteful spotless en-suite shower room, highlight breakfast, ate lovely bright airy dining room days trot serve breakfast 11 weekends, stunning selection bread rolls cooked meats smoked salmon lovely array cheese, fresh coffee quality juice choices abound, definitely stay,  ', 'Positive')\n",
      "\n",
      "(9270, 'charming old hotel stayed nights july 26th 27th.went open mind knowing hotel old, loved courtyard look exterior buildings.showed room 4 pm told wait 25 minutes room not cleaned, did not room hour later.found strong odour oil not cooking refined room, major oil spill mississippi river days previously odour not air outside smell oil room coming, noticed cobwebs hanging ceiling ceiling fan, fitted sheets used bed sheets used, pillows definitely need replaced, night ask extra set towels washclothes room given towel washcloth despite having double beds room.as poster pointed continental breakfast consisted croissants pastry butter jam coffee orange juice water,  ', 'Negative')\n",
      "\n",
      "(4181, 'nice styng hotel ares beeen paris vacation paris little jewel rooms spacious nice.the lobby breakfast room wonderful, really adress reccomend friends,  ', 'Positive')\n",
      "\n",
      "(2772, \"wonderful hotel great location stayed jurys 17 yo daughter 4 nights feb/08 loved hotel, room extremely comfortable little small bathroom quite spacious, beds luxurious sheets towels heated towel rack l'occitane toiletries feel pampered, best thing jurys location, blocks newbury street easy walking distance copley place bay public garden downtown crossing jurys ideal hotel, public transportation not easier 2 blocks arlington station green line 4 blocks south station orange line bay stop amtrack, hertz rental car facility couple blocks away near park plaza hotel, short wonderful base explore boston area, location fairly quiet evening jurys hotel bar quite popular filled revelry night, asked quiet room heard peep crowds bar, n't day discovered spacious comfortable sitting area hotel lobby, separate left check-in area,  \", 'Positive')\n",
      "\n",
      "(1911, \"fantastic resort fantastic resort, come heartbeat, firstclass way attention stunning, tell stayed september week went october stayed colonial majestic, favor pay 400.00 person paradisus palma real, wedid not royal service reasons 1 better food better quality better presentation overall better dining experience majestic, 2.much nicer rooms better view maid service notch turn service like fresh towels morning, majestic everyday maid did n't leave fresh towels clean coffeecups did n't restock mini bar did n't leave coffee n't turn service, left dead cockroach shower days, left 2-3 dollar tip everyday locations, tipping majestic did n't better service tiped majestic worst got.3.if want relax poolside nap enjoy book float pool constant poolside activities blasting loud spanish rap music playing 8:00 6:00pm stay paradisus, music piped variety music american dominican, entertainment day not constant, 4. shelf liquor blender drinks blender not premade mix rum poured, beer available keg cans, majestic choice beer presidente keg beers charge, 5. overall property paradisus palma real smaller resort great attention, staff wonderful happy greeted hola, 6. parasailing speedboats snorkling easy book majestic reef rely resorts book activities, did n't 4 people unable favor spend extra money stay paradisus palma real, new shopping mall 5 min, away free shuddle service, mall clean air conditioned stores restaurants, not happy crappy souvenirs shops.we went slow time year resort not close booked, problem finding bali bed lounge pool area beach reading reviews read needed 6.00am save spot, reservations restaurents problem, ca n't wait paradisus palma real.chantell crewspismo beach ca,  \", 'Negative')\n",
      "\n",
      "(1597, \"phenomenal, wow, excellent trip, thoroughly impressed hotel staff, started process looking hotels barcelona relied heavily trip advisor paid, location hotel excellent, right harbor directly aquarium close barceloneta district born district gothic quarter, read reviews sprung external balcony room 5th floor totally worth upgrade, views sunrise morning breathtaking, not metropolitan area balcony rooms definitely exposed traffice noise nothing awake, balcony doors actually pretty sound-proof, used city noise nothing ordinary, room quite large european standards bed did n't crease middle common europe, bathroom spacious clean, reviews said no doors shower, fact showers modern partial shield showerhead moveable handheld massage head n't worry getting water place.the rooftop veranda wonderful, tiny dunking pool clean little cold weatherwise partake, offers amazing views harbor great place sip glass rioja read, imagine summer phenomenal place catch sun.the staff amazingly friendly accomodating, room not ready arrived early hotel off-season immediately moved ready room shower unpack long flight, gave great recommendations restaurants tapas places, great telling just history hotel getting transportation needed it.on un-hotel-related note sure check basque tapas places-the frommers streetwise guides n't tell specifically, tapas places order menu plate particular dish, basque place usually standing 20 dishes long counter, want, just ask plate grab toothpick toothpick, waiters count number used toothpicks charge item, tapas plus glass cava hit spot, great place tapas sit-down meal art near santa maria del mar, long sure check wine bar el vinyo del senyor directly church, excellent especially night sit outside people watch.we did not eat breakfast hotel ca n't comment, n't want pay 14 euro buffet want local experience try public markets, 6 euro apiece bocatas breakfast sandwiches eggs bacon fresh oj, excellent, plus locals spectacular.all absolutely fabulous trip, sure book hotel vacation, definitely stay non-hotel note careful booking flights expedia, booked air france paris connecting barcelona, air france issues 4 flights left late missed connections coming going, air france expedia booked connections 50 minute layover physically impossible make charles degaulle airport given passport validation security gate bus plane, called expedia return trip try switch later connecting flight air france current expedia booking likely result missed transfer, phone expedia international 45 minutes 7 did actually speak person, asked switch time connection wanted charge 200 apiece rebook, asked pay short layover times mistake expedia travel business n't know 50 minutes impossible airport, response accountable, refused pay n't help, predicted missed connecting flight barcelona flight landed late paris, guess accountable sense foolish trust expedia book properly place, lesson learned make sure 90 minutes connections going charles degaulle n't let expedia tell differently,  \", 'Positive')\n",
      "\n",
      "(5890, \"left hand does n't know right doing desk clerks not helpful getting type room booked 4 month advance.the maids baggage handlers courteous helpful.ricky desk clerk know doing.the pool closed nights promises open soon.double room did not book nicer queen bed room did book,  \", 'Negative')\n",
      "\n",
      "(2712, \"overall good experience hotel fine business stay berlin staff kind professional lobby quite impressive location great potsdamer platz home theatres clubs malls services need.on hand nothing really distinctive not charming, known vox bar nothing special prices low nothing really exciting new going on.the rooms warmly furnished quite new, shower room great did n't really like position closet room inside bathroom, plus hotel really complete freshly prepared, standard 5* hotel did not level service,  \", 'Positive')\n",
      "\n",
      "(482, \"style content just returned 5-night stay vincci soho superb surface scratch little deeper soon clear n't 4-star business-led hotel purports be.the rooms really ultra clean guess people want time spent sightseeing working, end great remember miner lamp, trendy uplighters spots nice look photogenic rooms exactly website used fashion shoots stay able bonus, lack windows dark deco motion-sensor lights make place feel airless particularly day.in summary rooms clean comfortable stylish dark limited storage space n't clothes, bar area really nice clean furniture straight local ikea.i say staff polite helpful did n't translate positive action, days stay room internet connections not ideal need work, despite assurances come fix 10 minutes no-one arrived staff sympathetic problem problem resolved instead tried sell wireless token additional 15 euros works ground floor, thought entirely reasonable.likewise problems bath room went unfixed did hotel problems entire satellite network storm night, package asked reception courier sat desk day too.that said aspects nothing short brilliant, breakfast example good delicious fresh fruits traditional omlette highlight, ok not cheap 15 euros feeling lazy ideal.try eat evenings restauarant evening painfully souless experience, better visiting excellent tapas bars minute walk away.and eat late, not atmosphere great wo n't wink sleep 4am, read trip advisor reviews stay asked quiet room despite booking weeks stay got trump card floor entrance lift, previous reviews spot spanish really loud language best times believe sound binmen stupid clock really carries.but location thing wo n't wrong, anton martin metro station minutes walk away not need, madrid n't big city especially like things different angles really comfortable enjoyable walk.all vincci soho clean comfortable prefer practicality fancy wallpaper not place,  \", 'Mixed')\n",
      "\n",
      "(6411, 'great hotel perfect location spend week paris october innova hotel best options low budget hotels, perfect location just cross street pasteur metro station, near restaurants boulangeries shops half mile eiffel tour, rooms small comfortable clean, perfect rest sleep not spend time inside not paris stay room, breakfast perfect 3 types bread juice yogurt butter best eat drink want, staff nice prestative,  ', 'Positive')\n",
      "\n",
      "(8054, \"great stay, pleased stay rincon beach resort, setting great somewhat isolated close town restaurants, actually really fun pool hall street blast, pool area beach great really liked open-air lobby, note make careful selecting room type, chose queen sofa bed room actually ended having queen sofa bed words no real bed, room really nice kitchen dining room living room bathroom just no bedroom, apparently adjoining room bedroom rent addition example great family just did n't know ahead time, ended not big deal b/c pull-out couch pretty comfy, plus nicely decorated room ocean views windows n't upset, aside ate breakfast restaurant food really good reasonably priced, great stay,  \", 'Positive')\n",
      "\n",
      "(1871, 'globalia global disaster, absolute worst vacation life, let start saying bad beginning end, desk service person hurry way checked, entered room ants bathroom sink, tub dingy housekeepers hesitant clean, acted bothering entire weekend, service restaurants awful, hardly spoke english felt isolated understand needs requests, food restaurants prison slop, everyday went buffet saw leftovers previous day, actually saw hair french toast morning employees attitude told, beach not clean seaweed sand philthy.the resort nice spa entertainment, presented michael jackson impersonator excellent,  ', 'Negative')\n",
      "\n",
      "(1273, 'dreadful, stay, phone did not work, air conditioner did not work, tv remote did not work, smoking room, bartender exceptionally rude, waited hour room service, food nasty, drunk woman passed hallway not making, nicole desk unconcerned completely indifferent, bright spot john concierge desk, timely assistance great sense humor maid stay tolerable,  ', 'Negative')\n",
      "\n",
      "(5654, \"specatacular views just returned 3 nights 4 days el, place amazing, lived 5 star rating, grounds spreadout no complaints walking views specatcular complain, looking lavish luxury place, looking real puerto rico venture west island n't stay truly relaxation luxury.the thing liked resort nothing set stone, needed accomodate, possible make happen, heard word no needed asked, things loved, room great decor spacious, i-home dressers great prop i-pod getting ready just lounging balcony sunrise sunset, service staff, helpful friendly, arrived 11am let check early awesome, recommend stay main building eliminate longer walks central, amazing pools, check infinity pool las casitas not small waterpark, infinity pool beautiful view seen, pool las casitas open guests, tropical drinks, try el conquistador, room, views resort located cliff, steady 85 degrees day sprinkles day nothing lasted longer 15 minutes better restaurants, way, saving tips*** ride town amigo grocery store buy bottle water desani use away towing bottled water palomino island, saved 100, away main building check cheaper things, example walked way marina bottles water cheaper, eat breakfast marina 18, beat 30 breakfast quality excellent. rent jet skiis palomino island having slow day jet ski rental come price, just ask, ordering drinks rum tend weak, just ask add,  \", 'Positive')\n",
      "\n",
      "(6488, 'good stay stayed clarion pulitzer mother weekend not recommend, hotel quick placa cataluna aerobus stopped, easy trip tourist bus foot, yes rooms bit small did not barcelona spend time room, thing clean staff friendly helpful, rooftop terrace lovely late evening unwind glass wine, breakfast excellent breakfast waitress lovely did awkward customers deal morning coped smile face, evening meal night arrival prepared fresh tasting, say good base stay barcelona,  ', 'Positive')\n",
      "\n",
      "(3634, 'beware, husband booked stay hotel new year period 2004/5, checking-in asked pay room advance not shown room paid invoice, finally entered room gutted, room way small double bed no wardrobes live suitcases no storage space suitcases jump drains bathroom smelt really bad bathroom door not able open fully hitting bed, room not clean, looked curtains cobwebs windows dead insects bed decoration shabby, tried refund told entitled 50 money able re-rent room 20 neddless say didnt 20 refunded, did decide leave checked holiday inn rocks syd amazing view nye fireworks tad expensive worth going visit sydney,  ', 'Negative')\n",
      "\n",
      "(914, 'awful hotel, no way 4.5 star hotel like 1 star, room big dirty walls horrible lighting, noisy uninformed staff, completely not want stay radisson hotel,  ', 'Negative')\n",
      "\n",
      "(511, 'excellent value money just returned hotel, literally days ago, location excellent, arrived pisa airport took extremely cheap return fare bus florence railway/bus station walked 3 minutes, staff helpful rooms clean bed changed times night stay shower good, breakfast good, no bad comment make, main road no noise stayed saturday evening, excellent restaurants road hotel, excellent value money found.it pleasing able short walk bus station book sightseeing bus, excellent service value money rate not missedyou lot worse stay hotel, florence beautiful, love,  ', 'Positive')\n",
      "\n",
      "(6963, \"nice hotel far city center stayed hotel days combined business/sightseeing trip, attending conference held hotel probably not booked far city center.however hotel excellent choice, property beautiful amenities expected good five-star hotel pool spa shopping gym tennis bowling, excellent restaurants on-site good not area, restaurants generally pricey beijing standards cheaper used did n't mind, rooms spacious immaculately clean well-decorated, bathrooms large lovely furnishings, free bottled water provided rooms tap water n't safe drink, in-room internet access available cost pay logged online frequently total cost stay negligible.we paid reasonable 650 yuan night including buffet breakfast extensive excellent quality, course cheaper hotels beijing good price five-star hotel.the location main downside does time center, simple inexpensive five-minute taxi longze station 12 yuan time followed line 13 train line 2 subway 5 yuan total, took hour quite simple, note not really possible walk hotel highway close,  \", 'Positive')\n",
      "\n",
      "(5947, \"great 4 star hotel honeymoon stayed july 05 honeymoon, stayed executive room worth extra money, weather great n't really sunbathe 4.30 little disappointing just headed bar instead, pool area completely shade want sunbathe need head beach.the staff friendly super efficient, food good 2 weeks inclusive boring, really jazzing menu, food delicious no real complaints, better hotel 1 al la carte restaurant good, recommend lobster, tried little unsure actually like, serve delicicious spice, delicious, hotel no real entertainment make effort local dancing etc.we really enjoyed stay recommend,  \", 'Positive')\n",
      "\n",
      "(5349, \"mediocre experience nice resort just returned 5 day stay palma real, took couple husband largest customer friends, having just stayed d.r, secrets march loved island decided return trying palma travel agent suggestion, great time thought resort lovely ways royal service n't splurge n't compare experience, weather perfect 85 sunny slightly breezy rained like bat hell just evening, resort pretty maintained decor formal impersonal feeling tastes, marble art deco accents long distance different sections property like dime-a-dozen been-here-done-that no-personal-touch 4 star resort, does advantage spread felt crowded thanksgiving tourists began arrive, room beautiful large nice amenities, nice garden view floor, got cleaned 3 4 p.m. no big deal n't inside then.royal service got led believe n't bali beds amenities enjoyed secrets unless did not true, best ameneity free internet contact home, butler delightful did n't come 4 5 requests like baileys liquor room right pillows menu dinner requests 600 dinner beach birthday, royal service pool nice beach section no nicer rest resort, not worth meals so-so, vento enjoyable best quality, sushi pretty good, hibachi grill decent took 3 hours missed wanted, hostess useless unfriendly wait staff aloof downright pained having help guests, wine list not inspiring ask list pay wine drinker.bars best royal service bartenders beach/pool waiters, ahmed wander great, drinks plenty alcohol, swim bar got busy fun afternoon large main pool got used.beach lovely, little seaweed surf close cares, nothing better beautiful day beach little snooze bed long walks, cute souvenir shops right sellers not nearly pushy secrets selection better.horseback nice guys decent horses longer bumpy ride site told hour horseride, beach rode gorgeous, not worth 3-4 hours ended gone.spa terrific massage nice facility.service general 2 5. just not friendly eager accomodate speak fluent spanish, gems secrets employee charming n't wait try help out.i not return palma real, secrets hesitation,  \", 'Negative')\n",
      "\n",
      "(5203, 'great value money spotlessly clean provide queen sized bed single room, nicely decorated, chic new, breakfast offers not great variety good quality, convenient location, malls nearby, airport bus does not serve hotel serves large hotel right just min away connected walkway, no need roll luggage roads,  ', 'Positive')\n",
      "\n",
      "(1108, 'super hip hot bar, loved bar, white hot, great location business shopping, cool rooms hip staff know,  ', 'Positive')\n",
      "\n",
      "(2453, \"ok not 4 star rating time hawaii based hotel accomodations reviews tripadvisor, fiance spent 5 nites waikiki parc no way awed got 4 star rating, reserved room 149/nite good deal considering location far ammenities went, room partial ocean view, balcony barely fit 2 standing, room clean reviews stated, bathroom tiny reminded motel 6 bathroom 20+ years ago, n't forget ask room high construction noise loud, overall room average vacation excellent hardly spent anytime room,  \", 'Negative')\n",
      "\n",
      "(4733, \"hotel residence foch takes lot impress middle aged english couple live spain hotel residence foch managed just that.i wo n't repeat said, brief quality rooms genuine friendliness staff quiet location smart area make shortcomings hotel small size.if paris appreciate quality service unusual degree tranquility city suggest stay charming hotel,  \", 'Positive')\n",
      "\n",
      "(8943, \"disappointed honeymooners course estatic 1st trip dominican honeymoon boot, best enjoyed despite problems encountered, arrived room right constuction area mean right, contacted desk said no oceanview rooms available day days, assured not problem noise, explanations false, moved room plagued hammering drilling sawing entire trip, day arrived 4pm time restaurants closed 6:30pm, starved ended having order pizza room hold dinner, enjoyed dinner meals disappointed food, n't big drinkers drinks fine got buzz wine dinner, problem restaurants limited times open restuarant open closed, schedule unpredictable, difficult scheduling activities wanted tried arrange 1st day events booked stay, available activities ones pay additional costs, horseback riding tour half hour long wanted pay, biggest problems rafts use mosquitos despite using repellant continuously legs riddled itchy bites bed like slab concrete, complained things trip received excuses no compensation, lastly supposedly included honeymoon package hoax fruit plate 2 apples kiwi champagne bottle not chilled no rose petals bathrobes special dinner ends mexican restaurant room honeymooners disappointing meal ca n't choose broad menu, secrets resort,  \", 'Negative')\n",
      "\n",
      "(8234, \"disappointing sent hotel thay overbooked, sceptical hotel not central originally booked, 4 star hotel agreed thought nice hotel.we wrong, not say terrible certainly not 4 stars, stayed nicer 1 star hotels catalonia, room looked worn refridgerator minibar locked did n't key, staff generally unhelpful not want stay maybe booked price cheaper hotel,  \", 'Negative')\n",
      "\n",
      "(6914, \"place okay stayed diamond hotel 3 nights seeing reviews really did n't know think gave shot room 125.00 night, elevator slow especially day, parking cost 10.00 dollars day, great location close, trying sleep late forget maids loud, room kept clean clean towels, stay,  \", 'Negative')\n",
      "\n",
      "(3467, \"great hotel touring nyc husband stayed affinia 50 june 2007. hotel calling hotels.com finding hotels looked booked exorbitant price, pleased hotel location, nyc rooms large contained small kitchen, lobby smelled like sun tan lotion odd reason hotel perfect needs n't asked better location.we particularly enjoyed pillow menu choose different pillows brought room, great view room nyc hotel located vip hotspot paparazzi standing night trying photos whichever celebrities inside.we definitely recommend hotel friends family going nyc,  \", 'Positive')\n",
      "\n",
      "(772, \"brilliant hotel, stayed 4 nights absolutely loved, staff friendly reception staff maids, superior double room city views 6th floor, beds really comfortable room heavily lined curtains room dark no sunshine waking morning, modern decor great bathroom lots supplies including toothbrushes paste shaving razor, did n't hear noise considering la rambla ideal location.the roof terrace great day sight seeing great sunbeds towels supplied, better spa pool basement.could n't recommend hotel telling,  \", 'Positive')\n",
      "\n",
      "(6343, \"book hotel ca n't else., huge disappoinment, good point location.my husband travel quite extensivley honestly 5 star hotel think better hotels, room average, hotel lobby looked somewhat tacky.staff overall unhelpful really not interested, change rooms dirty bathroom loud buzz ac vent noisy sound constant water running wall, fairness offered different room late night opted morning.changed rooms noisy ac fan surprise surprise closet door not close meant light not turn, grill bathroom door lose kept falling loud bang everytime opened closed door.service technican did come fan fixed closet door somewhat fixed grill fixed, 2 days n't bothered anymore, hotel really needs rated better rooms better service friendlier staff 3 star hotel no way hotel deserves rated 5 star,  \", 'Negative')\n",
      "\n",
      "(7471, \"hurricane katrina husband sat 8/27/05 8/28/05, hotel staff including hotel manager kind understanding, helped evacuate limo memphis tenn. just 10 hours chaos broke, hope safe thier homes n't destroyed, pray daily scarred, god bless big easy, beautiful hotel wonderful art work, great customer skills compassion, day,  \", 'Positive')\n",
      "\n",
      "(5578, 'great experience, boyfriend early 30s stayed 4 days trip barcelona thought great especially compared hotel stayed madrid, taxi ride 20 euro airport, staff really friendly check-in immediately gave map directions getting main tourist areas, hotel lobby bar area really nice modern decor, room decent size pretty comfy bed, air conditioning worked heard lady complaining desk ac not working immediately gave different room, location hotel good especially metro just minutes away walking, want close las ramblas not hotel 20 min, metro ride las ramblas opinion las ramblas nice break really busy area, great shopping restaurants directions exiting hotel agree reviewer si senor restaurant located right outside hotel great, great experience hotel definitely stay,  ', 'Positive')\n",
      "\n",
      "(9322, \"smiles covent garden decided book basis really friendly helpful reaction phone having considered st martins lane hotel went evening asia cuba glad did n't stay, smiley receptionist checked got room obviously upgraded best suites loft suite totally unexpected fantastic split level room bathrooms loads space.lunch bistro style smiley efficient.great location shopping generally chilling out.breakfast day not quite slow busy sunday smiley staff ok food.they serve real loose leaf tea real pleasure days.we definately stay small hotel really charm,  \", 'Positive')\n",
      "\n",
      "(3296, \"loved stay place d'armes like recommend place d'armes hotel new orleans, recently spent 3 days group friends, double room opened courtyard group spent time organizing day drinking coffee just enjoying day, staff helpful times, hotel convenient french quarter able walk, definitely stay,  \", 'Positive')\n",
      "\n",
      "(1936, \"need tender loving care recently stayed biltmore boyfriend corporate retreat, grounds expansive little confusing, actually got lost time way hotel room amenities, enjoyed services spa fine tennis great try jas best instructor golf course great, disappointed rooms service.our room original cottages, little things annoying scuffed walls peeling paint ceiling shower biggest problem bugs, 2 big cockroaches unidentified bug 2 days, thre gap door, moved new suite wastebasket littered dirty q-tips arrived, n't company paying n't complain upset stayed dime, esp 9 conferences/groups meeting, having big loud parties,  \", 'Negative')\n",
      "\n",
      "(1798, \"magnificent resort ages just returned week dreams resort originally sunscape beach stayed year, fantastic time year better time year, impressed service provided staff members especially hard-working cheerful entertainment/sports staff, active senior traveling overwhelmed friendliness staff members guests, traveling young children teens resort super staff provides types fun/learning activities day evening, children teens kept occupied away adult guests, activities provided adults make possible leave resort easy make arrangements tours, horse-back riding added plus, restaurants provide variety menus no need make reservations restaurants, no lines meals, did n't chance try spa raved, ca n't wait return year,  \", 'Positive')\n",
      "\n",
      "(1979, 'forgive strayed, visited punta canna princess days nights room nice concierge service confusing abrasive, dealt short patience non accomodating service trying hotel dinner information day arrival make reservations thought needed remainder stay impossible booked booked booked able dinner bookings second visit help desk concierge desk felt intrusive staff, pressure tip strong thou inclusive no, no,  ', 'Negative')\n",
      "\n",
      "(7634, 'fantastic hotel, fantastic hotel just returned weekend hotel great, ideally placed, closest metro alma marceau, having stayed george v crillon previously hotel best definitely staying time paris,  ', 'Positive')\n",
      "\n",
      "(5672, 'incredible vacation ive just got iberostar bavaro dr lastnight 02-18-05 ive shaking head laughing day today great time crazy, ive al inclusive island matter nothing compare say paradise week, hotel grounds beach staff no complaints, left trip wreck read people taking maleria drugs not drinking water returning home dr terribly ill. glad did not cancel trip, did not single mosquito week did not ill point, better half drank water grounds water poured pitcher meal admit brushed teeth bathroom sink water, no problems maybe crypto virus 10 years ago did awesome immune dont know send friends heartbeat, just note did excursions person speed boat deal end big boat snorkel reef fun prepared spashed swallow salt water time suggest bringing goggles water really burns eyes hard going fast, dont try bringing nice camera excursion small digital camera lunch baggies tweed camera case small grocery bags tied nicely water got ate 500.00 camera expensive lession water camera good, did excursion swim nurse sharks sting rays marinarium, blast crew really goes way good time, bring video regular cameras protected large boat, dont touch sting rays sharks swim right, really cool, way ill end trip best ive, questions feel free respond,  ', 'Positive')\n",
      "\n",
      "(3885, 'good property great location wife year old son just returned night stay madrid, senator gran perfectly located base touring foot walking distance sites.notwithstanding request quiet room higher floor allocated room second floor overlooking busy street hotel, having arrived late looking forward settling questioned oversight, hindsight little difference, double glazed windows additional wooden shutter blocked virtually street noise slept comfortable twin beds comforters, son pull bed adjacent space sliding doors dividing room, free mini bar welcome perk breakfast good.although staff pleasant little surprised lack definitive advice surrounding restaurants touring options, frank saying no opinions certain topics absence dedicated concierge service education matters guests helpful.there neat restaurant called pink sushiman corner left 100 metres, staff knew nothing sushi stir fry good food circulates conveyer belts booths scene right jetsons, year old loved property met expectations reviews read anticipation visit prepared properly good european hotel great location, written proximity red light area, think accurately described easy avoid offends pretty benign stuff, madrid heavy police presence tourist areas.a real madrid football game highlight recommend, took easy day trip atocha station toledo 30 minutes ave train recommend extra day like walk hills toledo sits large hill, cathedral stunning.we enjoyed stay recommend property,  ', 'Positive')\n",
      "\n",
      "(9860, \"like hot, just returned 3 night stay hotel special trip mother daughter booked confirmed 2 months advance, arrival told problem not room view, actually meant given superior room presumably willing pay higher rate booked no offer given compensation reduction superior rate standard rate asked arrived temperatures 100 degrees hotel refused air conditioning not summer, advertise air conditioning website n't say ca n't switched june frying beds, guests complaining staff/management just shrugged off.generally disappointing really lovely hotel let poor attitude staff/management heard customer service,  \", 'Negative')\n",
      "\n",
      "(8851, 'fabulous, stayed fairmont olympic nights loved, property beautiful service impeccable, health club best used hotel, person encountered affiliated fairmont olympic incredibly professional helpful-many thanks david bartender shuckers great restaurant tips mary concierge great help lots things, definately stay, chris lisa,  ', 'Positive')\n",
      "\n",
      "(2145, 'complete disappointment want short point, returned 4 day vacation 24 2004.1 not 5 star resort, 3 tops.2 hour trip resort airport3 45 minutes check in4 no bell hop available baggage5 not make restaurant reservations phone, person wait line 30 minutes so.6 no iron available bring own7 food terrible, survived bananas 4 days, like complete description food email jkellerfsu yahoo.com8 mind remote not restaurant make resort food.9 make sure getting good deal decide disregard post, paid 500 couple plane traveled distance.10 proper credit waitstaff, efficient friendly.good luck, recommend place,  ', 'Negative')\n",
      "\n",
      "(1750, 'peaceful oasis newly renovated nov 1 2007 hotel calm adn restful japanese decor, new lounge wonderful great sake food selections, safe place living japan town great experience, taxi available easily public transpotation did not use, staff friendly helpful,  ', 'Positive')\n",
      "\n",
      "(8586, 'fantastic hotel wonderful hotel great rooms stunning hotel lobby bit pricey just coffee great pool location, berlin fantastic christmas time hotel short walk wonderful christmas markets,  ', 'Positive')\n",
      "\n",
      "(8905, 'probably time got deal hotwire roughly 100usd/night understand normal rates are.room small view great little bit mediterranean buildings near sea, location quiet area away scammers pickpockets las ramblas.i liked free internet business center, common areas hotel nice clean.i 3 main problems hotel:1. girlfriend gave 2 single beds not 2 doubles 2 queens 2 singles, worst mattresses felt like concrete slabs, absolutely no normal spain 2, surly hotel staff, dont know thought americans showed no warmth checked in.3, shower designed idiot, door covers 1/4 shower water gets floor soaks bath mat tried hard water tub, problem bathroom door de-laminating warped years getting soaked stupid shower.overall didnt feel place offered value probably stay time, 2.5 stars not 4,  ', 'Negative')\n",
      "\n",
      "(2731, 'great place stay stayed suites absolute pleasure staying rooms big spacious fantastic view balcony.everything clean neat bathrooms super modern.main bedroom en suite guest bedroom separate bathroom.living area dining area lovely comfortable.kitchen needed.pool welcomed treat long trip.will definantly stay,  ', 'Positive')\n",
      "\n",
      "(2039, 'friendly warm atmosphere booked hotel piet hein reading reviews lots hotels amsterdam, not disappointed.only couple minute walk away van gogh museum round corner tram stop.the staff friendly warm welcoming, booked superior double allocated room rear hotel overlooking garden, spotlessly clean comfortable excellent bathroom, downside lack cupboard space wardrobe no drawers stay nights not inconvenient.breakfast typical continental fare pleasantly decorated dining room, real, definitely recommend hotel wanting stay just outside hubub centre amsterdam easy reach attractions.linda tony hibbert ashton-under-lyne lancashire,  ', 'Positive')\n",
      "\n",
      "(209, 'pleased, just returned trip new orleans staying hotel, staff friendly efficient, karissa wonderful securing room suit best, mother walk canes needed convenient floor rooms, free continental breakfast pretty norm, loved free internet, hotel clean comfortable convenient streetcar hotel, numerous eateries nearby including emeril lagasse delmonico st. charles tavern 24 hours day good, stay anytime,  ', 'Positive')\n",
      "\n",
      "(5016, 'great value great location great room little hesitant stay keio website looked kind drab went recommendation travel agent really glad did, great value tokyo especially shinjuku think paid 200 usd night, definitely make sure book newly renovated premier rooms price difference not drastic rooms big step saw unrenovated floor point old smelled like smoke new rooms modern clean computerized toilets, furniture modern sleek looking nice toiletries provided aveda products toothbrushes razors robes slippers pjs, great view, short walk 10 min shinjuku station major station tokyo keio location actually batter park hyatt actually stayed.the reception desk fine spoke english, restaurants hotel course expensive, ate breakfast little american-style cafe block away delicious cheap, on-site convenience store did reasonably priced drinks snacks, overall fantastic value tokyo seeing easily spend 300- 400 mediocre places, definitely stay,  ', 'Positive')\n",
      "\n",
      "(7763, 'excellent value, saw reviews little hesitant, no not star hotel rates great location notch, americans did not experience ill treatment, fact employees helpful accomodating, evening doorman exceptional providing excellent service, walked major locations hotel, staff went way make memorable experience gave excellent recommendations stay,  ', 'Positive')\n",
      "\n",
      "(7467, \"average best needs work, prior leaving trip ocean blue 14-19 2005 read reviews extensively appreciate advice travelers, findings rooms beautiful especially bathrooms, stayed villa 6 floor ocean view vip rooms, did not king bed requested nice room, bathroom nicest bathrooms seen hotels comparable bellagio hotel bathrooms las vegas, bathroom marble jacuzzi tub separate shower double vessel sinks, sounds like reviewers bathrooms villa 6 different, given choice upgrade villa 6. fully stocked refrigerator arrival bottled water sodas red wine white wine brugal rum absolut vodka johnny walker presidente beer, items not restocked entire stay, fruit basket arrival arrangement tropcial fruits pineapple absolutely delicious.- food definitely just average best, little variety specialty restaurants dominican mexican italian american served similar foods buffet, best restaurant italian having tried restaurants course stay, no reservations needed entire stay, coffee bar wonderful place comparable starbucks home, hot drinks included iced coffees extra, annoying tropical area iced drinks free-flowing, drinks bar good, loved frozen drinks, bartenders extra alcohol drinks appreciated.- service great exception villa concierge, bartenders waiters massage therapists hosts tried helpful make time enjoyable, complaint concierge, margarite daily not helpful, offered additional information asked, know vip package included ask vouchers, definitely did not offer voluntarily, kind person knows exactly package includes specifically request item, margarite reserved dinner beach night bucaneer restaurant seafood normally require additional surcharge included package, arrived restaurant realized placed reservation nor given papers host, host no idea coming proceeded tell pay extra, angry especially having confirmed time reservation margarite day, luckily knew kept papers promptly proceeded present host, not pleasant experience not bear look margarite, dinner beach definitely over-rated, lobsters huge n't appetizing, friends not finish half lobster noticed waiter placed uneaten half grill hopefully not serve customer entertainment average, nightly entertainment conducted spanish, casino open small, pay u.s. dollars not u.s. coins pay slot chips forcing drop slot machine, disco open trendy design not, bowling alley open quite nice, brand new brunswick equipment shoes balls whcih nicer bowling alleys u.s. expensive 15 game, upstairs bowling alley pool hall nice, music location far best, thing not open spa, massages poolside beachside cabanas translucent shades, essentially make aware privacy issue you.- pools nice completed, nice swim-up bar, complaints pool closed nightly 7 pm ridiculous, lifeguards n't opening pool night issue.- beach clean nice lounge chairs, topless optional.- excursions, did book 3-hr atv excursion 55 person negotiate, gave glimpse towns living situations scenery dominican republic, trip included atving beach amazing, usually not permitted places like hawaii land preservation, probably highlight trip.over relaxing trip not classy entertaining liked, land all-inclusive probably, cruising probably better way,  \", 'Negative')\n",
      "\n",
      "(2048, \"excellent city centre hotel stayed 4 nights march 2006 having carefully researched available hotels wanted central location facilities pool spa 1898 did not disappoint, location superb end ramblas bit like barcelona covent garden street performers artists making lively atmosphere, short walk upmarket shopping areas famous landmarks gaudi casa mila 10 mins walk port ramblas, 10/10 location.some reviews mention poor service staff not experience, staff friendly attentive eye welcoming english, service not overbearing prefer interpret shortcoming no concierge reception staff excellent good local knowledge.the rooms extremely appointed wooden flooring differing colour schemes marble bathrooms high quality grohe fittings nice touches heated mirrors bathroom n't steam basement pool spa real plus, pool jacuzzi areas just big bit swim, nice sauna steam room gym available treatment room tastefully finished kept immaculately clean stay.a couple minor points stopped favourite time city center hotel accolade held just hotel russie rome woken workmen room laying flooring 8.30 whilst room isolated external noise not stop sound hammering door, reception promptly moved quieter room really not room work fist place.we disappointed arrive night exactly 1.00 bar closed despite fact drinks poured guests ordered, later conversation barman revealed friendly guy definitely worked rule, planning come work london horrified told late london hotel bars stay open till experience food room service breakfast order got bit mixed corrected quickly food excellent, checked missed pointed reception waived charge breakfast, return flight late flight manager agreed late check stored bags valuables enabling enjoy final look city.the hotel open november 05 think real, not hesitate recommend look forward going summer roof terrace open able best beautiful city like barcelona doorstep relax sun swim,  \", 'Positive')\n",
      "\n",
      "(7825, 'great location value comfortable run motel marina district, large rooms comfortable beds free parking, dining options nearby especially chestnut st. union st. noisy lombard st. preferable room rear bring ear plugs motel does double pane windows, motel offers good value expensive san francisco, room beds week season 95/night,  ', 'Positive')\n",
      "\n",
      "(3000, 'great place stay amsterdam booked hotel hotwire stay, rai station helps, bought 72 hour pass business, extra friendly staff, worth money cheaper hotel accross street, rooms nice, left stay near airport nightmare nh schiphol night stay,  ', 'Positive')\n",
      "\n",
      "(1536, 'great place no lie, going hotel not listen negativity caribe princess, hotel average beautiful place stay, problems.the food excellent waiters funny attentive needs, main buffet food suit spoiled paris hilton type, specialty restaurants good especially brazilian italian ones.our room clean furnished soaps shampoos amenities towels, free mini-bar soft drinks beer bottled water.do not drink tap water room brush teeth use bottled water.there no screen balcony door electrical hard figure biggest problem loud drunks fought outside halls late night, rude americans no class desk did care problem quickly, no wonder americans bad reputation world.entertainment loud annoying music stops nor does loud mouths activity staff.the beaches white sand turquoise waters great waves, problem people beach, pools nice, want quiet room not spring-breaker ask room villas quiet resort geared older wild types,  ', 'Positive')\n",
      "\n",
      "(2758, 'sorry leave, wife just returned 3 wonderful nights residence michelangiolo.we florence 30th wedding anniversary stayed margherita room ground floor high standard.angela cherubino excellent hosts stay memorable.on returning day florence presented wine chocolates flowers appreciated, location perfect relaxing long hot day central florence room having excellent air conditioning access french windows large garden, morning sounds heard song birds__Ç way wake busy city, disappointment booked 3 nights, not worry return won__Ç_é_ make mistake,  ', 'Positive')\n",
      "\n",
      "(3658, \"dreamed husband stayed gorgeous hotel 4/30/07 5/7/07.this trip dr not hope, arrived long day travel hotel met dominga pleasant helpful representative hotel, saw quickly checked luggage taken room, gave 10 minute briefing hotel reach problems enjoyed cool refreshing fruity drink.our room standard room spacious spotless, seven days wore white socks getting shower tile floors, wear days got dirty, housekeeping superb, tipped second day 10.00 usd left, feel service tipped not, placard room stated minibar stocked day day returned room fully stocked.had laundry sent, returned day clean pressed hangers, inexpensive n't want home dirty clothes.the grounds websites, looked 6 months hotel sites impressed pictures grounds, not justice, everyday groundskeepers early morning raking manicuring trimming, pleasant despite working heat day, wished took home gardens, people working saw person standing doing nothing, amazing dominican people bartenders waitresses entertainment crew happy singing dancing doing job, hola, smile, refreshing people work actually like job, reception workers speak languages spanish english french german, not know language o.k, hotel workers told local tour guides attending language school completed, 2-3 year school attended secondary school completed, wanting work hotels attend.we booked vacation apple lisa representative extremely pleasant upbeat helpful, booked excursions loved all.went quad atv excursion driving time did fine, note not enjoy hot dominican sun little dust face n't tour took beautiful coastline soft sand 30 minutes stopping landmarks carribean meets atlantic, saw celebrity villas distance julio iglesias oscar la renta shakiras.julio oscar built punta cana airport people like fly closer santo domingo hotel district, went jungles rough terrain fun, june tour guide hovering sure no problems 21 stayed somewhat, atv riding went gorgeous beach cooled starting point drinks, hour fun day lots fun sun.went outback safari 1/2 day trip, tour guides funny informative, glad went life outside hotel perimeter, not sense culture not venture outside hotel.third excursion saona island, best, sailed catamarran island music drinks way, unbelievable water views, arrived buffet salads fruits meat cooked grill, hammocks relax bar dancing swimming course, return speed boat shallow swimming area huge starfish, caution got stung sea urchin told, apparently creatures live coral not bother unless tread, unaware, did not purposely walk kneel coral waves pushed coral, waves not strong waves, feels little painful beesting notice swelling immediatley, husband got stung legs did, did not require md visit, hydrocortisone cream just applied returned hotel, swelling pain disappeared day.food iberostar goes presentation looked fresh, fruit carvings adorn buffets, food buffet n't supposed, cold cold hot hot, choices offered daily, various themes night, read previous review describing bird droppings week tell saw nothing sort, yes small birds took cleaning crumbs right people left table floor restaurants open air, birds hurry eat staff did not let sit floor 5 minutes.staff constantly sweeping cleaning right people left tables.if starved choice, noted people roaming trying american food, no american food hot dogs beach restaurrant, question foreign country expect native food, tried maybe dishes did n't care, scheme things small portion offerings, ate buffets daily 2 specialty restaurants gourmet la sibilia, service 5 star food good enough.once not say domincan workers attentiveness hotel, dropped spoon morning pick waitresses bending saying no senora not wanting touch spoon.never problem getting drinks bar bartenders attentive hard-working, not regular drinkers did day, drinks strong unlike alot hotel reviews read stating drinks watered, not case here.beach picture perfect weather, no rain early day did 10 minutes showers usually evening, warning sun no joke, bring ample sunscreen cover-ups fair burned quickly not diligent applying sunscrreen frequently.do not expect able sit beach day sun asking sunpoisoning, shade not swimming water activity, beach huts palpas hard come went excursions 3 days row plus did not run pool beach 7a.m, towels reserve like did, no problem finding pool.that annoying signs telling people not reserve, towel hut times day want exchange wet sandy towels fresh ones, nice service.enjoyed ambiance hotel environment, quite families children presented problem, international crowd german canadian french french dutch south americans americans.did not attend night entertainment usually exhausted excursions early bed type-people, entertainment shows walked attended laughing appeared having good time.went casino dominicana mirror punta cana, husband won slots totally shocked, casino ca n't compare well-attended also.non-motorized sports stated included package free went snorkel-gear told 1 hour, left basically 45 minutes taking account short walk forth dive shop, husband went gift shop just outside dominicana near star rock cafe purchased set 15.00usd.this small mall-type area 24hr doctor office pharmacy disco internet cafe small gift shops, fyi want purchase internet time buy 30 minute increments hotel desk, went evening problem getting, 5.00usd=30 minutes internet time.we felt like definitely got monies worth hotel, spoke alot people met excursions staying various hotels near complaints food rooms, honestly say not complain anything.fyi small percentage topless women beach, no cared outraged aware small children, require explanation tipping told apple rep tipping paid not necessary, read reviews did bring 50 usd ones tipping, spent approx, 150.00usd tipping, bring alot ones people said not no problem desk, tipped bartenders waitresses housekeepers tour guides bus drivers, happy tip people service star, told husband joy tip appreciated deserved, husband bout diarrhea early mild case later week did not disrupt ruin trip, took immodium fine, people tend blame food water, rememeber different environment different schedule eating totally different diet used, cause changes body, honestly say ate healthier everyday home availability fresh vegs fruits, attribute bout, did not drink tap water warned, drank tons water restaurants bottled water, believe short stint diarrhea nothing contracting type bacteria food water source.do not hestitate book hotel not disappointed,  \", 'Positive')\n",
      "\n",
      "(9440, 'pleasant stay axel, 50-something gay couple california recently stayed axel hotel 3 nights past september trip barcelona, used reviews tripadvisor order select particular hotel bit concerned axel little hip conservative/retiring tastes, not, aware previously expressed negative comments regarding service quality rooms, experience criticisms unfounded, staff uniformly pleasant efficient helpful standard room 5th floor excellent shape clean quite satisfactory, room faced street-side preference did allow street noise enter room not concern, room included slippers terry-cloth robes regularly replenished toiletries towels glassed-in shower large beautiful euro-style fixtures/hardware, mentioned previous posts bed unusually comfortable, downside not resting places luggage folding luggage rack helpful, pay nightly wifi room 6 euro night access speed quick faster home dsl uplink, ate night hotel restaurant pleasantly surprised quality food friendly service, mushroom-cheese risotta argentine steak delicious, surprises people not mention nice roof-top lounge area pool hot-tub exercise room treadmill free-weights weight-machine sauna steam room inviting lounging areas, quibbles hot-tub bit small shallow mentioned pool just dipping sufficient cooling nice sauna, unexpected surprise enjoyment obtained meeting fellow travellers hotel mixed interesting congenial group based just couple communications, pluses plumbing air-conditioning elevator good working order early wake-up taxi-arrangements airport incident, aside regarding laundromats ones directed long blocks away hotel mediocre quality, doing multi-city trip did easier self-service laundry, unless hear better hotel barcelona gay couples definitely staying visit,  ', 'Positive')\n",
      "\n",
      "(8664, 'short time hotel arrived late 1am, family 3 adults 1 child 1 baby, surprise rooms not ready subject cleaning, noticed male transvestite prostitute waiting room prostitute requesting key, discusting, night time short time hotel rooms rented arrived,  ', 'Negative')\n",
      "\n",
      "(1067, \"best hotel, returned riu palace 12th june wish, staff hotel faciliteies service basically 1st class start finish, brits quite strange nice probably best holiday years, went 3 kids,13,11 10. n't kids did mix ones great time, beach perfect watersports offer kids marvellous barmen kept filling glass drink choice n't wish, massage parlour beach riu bambu, wife 11 year old daughter tried manicure pedicure facilities riu palace spa delighted, deep sea fishing trip bit disaster 13 year old son booked got chance hold rod 40 miles sea sick captain caught great 6ft marlin day sort success, say careful decide book trip keen fisherman left bitterly disappointed, restraunts good definately recommend italian starters main meal far best trip taking away, say steakhouse probably impressive standards this.we stayed 2 rooms 0123 0126. absolutely amazing, walk wardrobes sunk jacuzzi bath roman pillars huge bathroom wet room shower living area double balcony overlooking pool sea chance try stay rooms bigger better standard rooms expecting entertainment not really seen heat really took toll generally rooms 9.30pm heard michael jackson great.i read trip advisor generally polite tip recognised definately case, yes staff nice tips did certainly help better personal service highly recommend it.one thing mention weather, prior setting checking weather forecasts concerned constant thunderstorms cloudy predictions, 2 weeks spent 5 minutes day 30 minutes second week, did rain night not raise sleep, heat unbearable like want cold, try iceland, seriously personally beautiful 99 time n't worry forecasts watch, maid service outstanding calls 9-10pm night warning, sleeping getting dressed appear turn bed clothes, tip definately recommended cleanliness amazing.without doubt class service facilities food weather, ask,  \", 'Positive')\n",
      "\n",
      "(2312, 'disappointing booked hotel based reviews read disappointed, booked superior rooms paying price, couple given room just big house double bed, single travelling companion given single room feet square floor space shower flooded room used.we complained immediately reception staff unhelpful saying hotel fully booked no duty manager able speak, day did manager changed rooms descent sized doubles filthy, bath hair nail clippings carpet, rooms did not bedding did arrive handed duvet covers separately left making ourselves.on plus hotel located nice area amsterdam park hotel lovely walk centre.the hotel close needed refurbishment november got distinct feeling staff lost doing jobs properly, certainly not return,  ', 'Negative')\n",
      "\n",
      "(4998, \"perfectly perfect stay, wow, hotel just perfect, check-in went smootly quickly, fact did check, pleasant desk experience manhattan hotel, manhattan hotels famous long lines check checkout, not, person desk times.my room huge ny standards, corner room 23rd floor overlooking 6th ave. great view empire state building, bed usual great marriott bed big fluffy comforter soft sheets lots pillows good night sleep, helped hotel excellent sound proofing, heard not peep adjacent rooms street noise outside, kitchenette nice thing refrigerator, breakfast room nice welcoming, fireplace lots newspapers plenty tables, bagel cream cheese breakfast selections buffet looked pretty good.i lucky new york time room rates fairly low hotel 207 night, price place ca n't beat, definitely recommend hotel,  \", 'Positive')\n",
      "\n",
      "(6827, 'ok hotel bad location stayed zaandam hoped better hotel money outside amsterdam, hotel bit worn rooms appointed okay-sized, travel baby bed bit tight fit, breakfast buffet overpriced avoided, real complaint not hotel area, shady, chosen haarlem cuter town center, note 12 min trip train great stuck amsterdam train station 3 hours total train outage, not hotels fault chosen hotel city walked,  ', 'Negative')\n",
      "\n",
      "(2436, \"cozy room el guacho husband stayed inn el guacho june 21-23 staying hyatt days business wanted hotel different city not chain, come inn ownership hyatt, room clean really cozy home feel, husband did n't care overwhelming smell food lobby expected steakhouse, n't smell room, hear band downstairs pampas room night till 2 sensitive did n't bother, check woman desk forgot mention 10 continental breakfast room arrange day morning came looking food directed local bakery macrina great cheaper, loved gift bag staff fabulous robes soft bed comfortable enjoyed flat screen tv watch sitting area bed, belltown fabulous area, great restaurants nightlife boutiques inn just blocks free bus ride area did lot walking, overall highly recommend inn el guacho,  \", 'Positive')\n",
      "\n",
      "(5949, \"perfect, just got long weekend new york casablanca perfect base stay, location ideal just times square near subway n't hear noise room, room near hotel quite large, clean comfortable nice amenities bath robes ice bucket wine glasses city guide.the hotel staff friendly went way help, breakfast varied wine cheese free flowing coffee tea nice touch.the brooklyn diner door good worth visit.would definitely recommend hesitation,  \", 'Positive')\n",
      "\n",
      "(7598, \"loved intercontinental just n't write bad review resort, place, stayed oct 24th-28th 7 day cruise, thought nice better expected reading reviews, complaint food way overpriced 5 beer ridicules great, pool beach beautiful room bigger average hotel room, king ocean view room 12th floor nice, definitely recommend resort going san juan,  \", 'Positive')\n",
      "\n",
      "(363, 'exceeded expectations, having stayed ritz st thomas twice looking forward visit san juan, step opinion, staff ritz wonderful, stayed club level room thoroughly enjoyed, room size average price point it__Ç_é_ tastefully decorated appointed, food good staff repeatedly extended, hotel beautifully maintained staffed, dinner newly opened blt restaurant, good better steak houses chicago price, packed appeared new place town visit, husband thought hotel property little narrow, it__Ç_é_ not large beach resorts caribbean imagine property prime, really enjoyed stay look forward returning, visit el yunque national park it__Ç_é_ beautiful worth effort,  ', 'Positive')\n",
      "\n",
      "(8784, 'cool chic contemporary hotel middle westminster, no faults great room great bed.if dine restaurant portions small beware,  ', 'Positive')\n",
      "\n",
      "(6494, \"pleasure write review, let start saying did not meet person not pouring tripadvisor reviews month trips, anxious negative reviews appeared just left dreams, trip carribean not disappointed, not believe negative reviews just cleaning sand flipflops realizing not living bathing suit anymore, family just returned night days april 13-20th dreams punta cana, suppose wanted knitpick things, went preferred deluxe rooms people, building seven rooms connected spacious wonderful, margarito daytime housekeeper not, 6am 2pm guys liked sleep fun night, rooms clean stocked convenience, floor quiet disturbed noise guests women cleaning rooms, works goes way accommodate, renovating going try hard not inconvenience it.we met wonderful people europe, communication staff not problem speak spanish not, think friendliness staff sets tone best meeting guests especially poolside, hi guys rhode island families mark diane nancy rocko david tina pauline mr, ironman, pool magnificent, disregard person wrote conga lines noisy area just, upper end pool iceberg kids crazy fun kids lower end swimup bar crazy fun big kids sections quiet spot, far getting spot pool panicked set alarms crack dawn, not, 11am alittle tough went pool 8:30-9 no trouble, rafts just wonder pool, people looked raft, horded rafts n't let set mood vacation far ocean beautiful warm, people saying dirty not sure talking, seaweed washes forgotten ocean, stay left water sports water warm pool, walked left late afternoon debrie not think resorts fault, beach area trying clean entire coast line food good, waited table meal, reviews really nervous quality portions went away hungry, did head world cafe, couple nights ate different restaurants chose walk world cafe dessert, walk justified able indulge dessert, guys ordered room service night, previous reviews complained distance things talking, walkways beautiful walks wonderful distances not great, better little space other.finally mention spa, husband daughter went day vacation pedicures manicures, husband raved pedi vacation massage feet stuff, think convinced men week manhood stay intact pedi, day went massages daughter facial, includes hour wellness area doubt absolute best way end incredible week.we loved inclusive not disappointed room service food quality quantity, tipped not felt wanted felt people encountered disserving, left little things margarito morning nice woman turned beds rooms feeling like true retreat night, heartbeat, thank world cafe birthday cake birthday wishes,  \", 'Positive')\n",
      "\n",
      "(6449, \"great stay second stay casablanca hotel, located just steps times square.pluses:1. location half block broadway quiet.2, size hotel intimate hotel mega chains, no crowds no waiting line check ask question check out.3, friendly helpful staff need directions restaurant recomendation just chat, tell like working there.4, rick cafe not really cafe extremely large living room/dining area, light breakfast wine cheese afternoon included, coffee iced tea cookies day long.5, free wifi free internet rick's.minus:1. small bathrooms older building, small compromise great place stay.we definitely return,  \", 'Positive')\n",
      "\n",
      "(3186, \"10/10 bahia effort make vacation dreams come true, girlfriend just got plane bahia principe punta cana despite fact delayed half hour departing punta cana, amazing 1 week vacation excited write review fall asleep tonight.we originated toronto canada, took sept 4 air transat flight punta cana, smooth flight weather great punta cana arrived, soon greeted enthusiastic entertainers pictures taken beautiful ladies pictures available pick depart punta cana airport week later, no trouble finding transfer bus resort provided room keys introductory documents way resort, 1/2 hour bumpy ride arrived resort 5:10 hour flight landed punta cana airport, taken transfer shuttle straight bus room villa right beach, villa 20 maintained prepared arrival thanks maid xiomara, resort provided complete made-up morning room different maid came provide turndown service included making bed change wet beach towels washroom towels 7pm, normally tipped maids twice day different maids working morning evening shifts, mean people working hard trying make vacation dreams come true, extra 1 day 7 week not make maid happy room tidy comfortable.remember not disturb sign room ran situation changing room maid just entered room right knocked door, n't want embrassing moments sign, large selection met number good enthusiastic staff treated time went, hostress romerys genuine friendly tall waiter wellington attentive service oriented supervisor black suit named sorano funny ask table service, tried eat common dishes ones saw chef cooking right just avoid getting sick precautionary.we chosen french italian grill seafood, like service grill terrible, waiter rushing taken wrong order presented entrees soups brought, ended tipping busboys tipping waiter busboys helped frequent actual waiter, shop rip, village hotel lobby way cheaper just 2 minutes away lobby, people carried products carts annoying, approach pretended friendly, 3 4 5 6 trying approach started ignored just walked straight, option walking beach village 35-40 mins walk bahia walk right beach facing ocean selection bargaining power, n't afraid walk away stores carry somewhat identical products, storekeepers chase, n't chase able lower price different store happened, bought 14 medium size mini-bus 20.00 told cost 4, strategy offer divide price 4, offer 20 return 5 able end 7- 9, shopping decided walk resort wonderful day, water-taxi costs 5- 15 depending distance travelling, activity-minded not best hotel, bahia just activities moving, dancing pool exercises bingo nightly entertainment, looking relaxing time sat beach day enjoying sun, short activities n't main concern, took marnarium spelt incorrectly swam middle sea looking corals entered net swim rays sharks finally dumped middle sea called natural beach 4 feet deep water served rum coco locos, fun money spent, 72.00 overall vacation expectation, actually amazed energy enthusiasm service-oriented mindsets great workers, time restaurants opened no matter buffet snack bar formal restaurants no matter breakfast lunch dinner staff gathered huddles management 15-20 mins, personally did n't know talked talked powerful drive staff improve customer satisfaction ensuring customer happy customer no matter tip not end dinning experiences, believe spanish management applied right strategies making resort successful, reason say n't satisfied bahia principe valued things differently rest nothing good things say bahia, met couple resort not happy beach far room restaurants spread liked things spread apart liked quiet resort mean people research chose resort right, selecting vacation resort n't simple buying tomato supermarket n't like just throw away, n't like resort stuck week, frankly tripadvisor website helped choose right vacation resorts summers summers come, good luck people,  \", 'Positive')\n",
      "\n",
      "(9466, 'not bad good value money hotel good value money amenities needed bit far centre florence idealy suited wanted tours area, room unfortunately bit shabby wallpaper peeling,  ', 'Mixed')\n",
      "\n",
      "(5420, 'best service beijing vacation stay ended july 30 2007 best vacation wife experienced, room 8512 beautiful bright, staff outstanding helpful answered questions, wife hope someday return, best wishes long life entire staff.hank hammersmith lan ying midiamond bar causa,  ', 'Positive')\n",
      "\n",
      "(6779, 'expected hotel online reviewed comments excellent, thought exaggerations price, suprise said place true, absolutely awesome, new orleans charm corner, staff superb, breath fresh air away regular hotel scene, small place allowed reading courtyard, went business trip definetly like bring loved romantic stay,  ', 'Positive')\n",
      "\n",
      "(7951, 'right, stayed sofitel 15th-18th november not recommend, says location excellent beds comfy room spotlessly clean, particular mention staff friendly extremely helpful, not comment food recommend red flame diner doors, definitely stay,  ', 'Negative')\n",
      "\n",
      "(243, \"want relax, hix island house, hix island house terrific, unique eco-resort probably unlike place stayed, place immersed nature fantastic island vieques truly relax no phones televisions radios clocks, wake sounds birds fall asleep sounds tree frogs, hix island house n't, want standard resort air-conditioning maid-service bar serves fruity drinks look, not hix island house about.when read occasional clunker review realize folks writing reviews did n't homework, complaining lack windows air-conditioning, point place hix island house website clearly states, rooms stay entirely concrete room wall missing, n't a/c, return opportunity watch sun rise moon rise bed listen sounds nature break world, yes rain room rains not wet, wonderful lulled sleep sound rainstorm.here neat things place refrigerator stocked fresh coffee eggs juice cereal, eating breakfast sweetie looking ocean watching hummingbirds flit flower flower, comfy bed linens towels robes, taking shower private exposed look landscape, chatting terrific managers christianna kurt, swimming gorgeous pool evening hearing nothing frogs crickets, wandering grounds seeing not soul, no phone, no tv, no radio, no clocks, total relaxation.if sounds good stay, ca n't live glass windows air conditioner look,  \", 'Positive')\n",
      "\n",
      "(7574, \"bed sheets comforter n't want start wrong foot hotel nice place stay location great hotel little disapointed no dvd/vcr room, second room card night table said save water not polute air, blah blah blah not wash sheets unless request, day guess didnt hit day 2 like ok dont wash sheets bedding makes wonder bedspread comforter, said ok not liking bit.. stomach sort thing place not bad,  \", 'Negative')\n",
      "\n",
      "(841, 'nice hotel stayed 3 nights hotel duret pleasant cosy modern hotel, hotel located quiet street near arc triomphe, did not breakfast hotel plenty places nearby eat, lady reception generally quiet pleasant did not particularly helpful booking restaurants, hotel quiet night air conditioning good, certainly recommend hotel friend,  ', 'Positive')\n",
      "\n",
      "(7665, 'felt better home weeks, spent long time researching florence hotels 2-week 50th anniversary stay florence, wonderful hotel large welcoming lobby bar area leather couches chairs live gardenia plants outstandingly helpful desk staff served like concierges elevators fantastic location directly arno river close nearly attractions outstanding large breakfast room great variety ofhot cold foods superb croissants white table cloths changed table use uniformed servers variety breakfast beverages including cappucino fresh flowers table terrific deluxe large room huge windows opened arno ponte vechhio close sight large marble bathroom wonderful housekeeping flexible lighting delightful roof garden close proximity good restaurants trattorias preferred family-run eateries in-room safe, stay florence, drawback flat pillows,  ', 'Positive')\n",
      "\n",
      "(6027, 'clean chic perfect hotel midtown manhattan sitting area drapes run cool automated switches just press button,  ', 'Positive')\n",
      "\n",
      "(288, 'talking hurricane, visited secrets excellence late november hurricane concerns postings reviews previous fantastic, trip, loved heading 5 days february.i just looking reviews talking hurricane, couple sept., yes isolated 3 days not like nyc punta cana, blame resort subjected no running water electricity people lost homes petty, hurricane season chances, looters military came rescue apparently looking dry clothes rooms asigned rest fired, knows story couple met storm felt good, said feb., excited,  ', 'Positive')\n",
      "\n",
      "(7407, \"fantastic boutique hotel alexis hotel great boutique hotel center city, walking distance hotel pike place 3 blocks away shopping district 4 blocks, not expecting hotel room received, room huge bed incredibly comfortable better heavenly bed, noise complain barely noticable 1st ave room, hotel featured fabulous chihuly blown glass sculpture entryway, free wine tasting coffee service plus, recommend hotel going seattle, customer service good hotel clean ca n't beat location, avoid chain hotels stay alexis,  \", 'Positive')\n",
      "\n",
      "(4957, 'modern little young stayed new year, modern stylish decor high quality furnishings room, shower glass walled look bedroom fun no door toilet means look bedroom little disconcerting, breakfast buffet open kitchen good, staff eager lack experience, longish trip town 150hkd tsim tsa tsui taxi negatives nice stay,  ', 'Positive')\n",
      "\n",
      "(5646, 'place minimalism delivers not, feel living paradox- connecting compatible way natural surroundings housed low-key architecturally assertive lodging, sensual place experience vieques, perfect complement island gloriously exotic ambience,  ', 'Positive')\n",
      "\n",
      "(5794, \"called luxury huge price say lobby astonishing, unfortunately things hotel n't good, staff extremely friendly, friendly point extremely fake, exception business center got treated extremely coldly arrogantly.i travelling world lot say worst expensive breakfast served, quality food just horrible, tried continental breakfast included fare, included worst tasting muffin croissants, ridiculous price 50 dollars plus tax 15 service, horrible experience tried american breakfast, not better got stomach course pay 64 dollars 2 plus tax 15 service, scrambled eggs tasteless half time cold, overcooked time, potato rosti cold time, needed salt pepper taste, expect food better quality fresh prepare just, doing quality food tells, breakfast buffet cheapest hotels better, good food means better mood, morning ruined junk.we room 21st floor, corner room spacious nice, nothing spectacular, bathtub small people, no romantic baths, main complaint room noise, street busy bring earplugs, think noise n't problem higher, complaining add tv extremely poor quality, image extremely distorted sides, n't expect poor quality 5 star place.as american express platinum/centurion cardholder not expect room upgrade promised fine hotels resort, hotel higher catecory rooms available n't upgraded given spacious corner room, complaining promised upgrade higher room gategory no amenities included room gategory n't given, case meant smaller room floors higher, decided not plenty money waste n't mind spending like crazy place, want value money choose better, example outrageous prices use internet, 19 dollars 5 minutes internet 2 prints, warning ca n't emphasize, avoid breakfast cost,  \", 'Negative')\n",
      "\n",
      "(2304, \"hopping hotel husband just came puerto rico, great time, usually stay marriott resort travel n't like surprises, particular marriott clean staff friendly location suited needs, wanted area jog morning walk restaurants night, short taxi ride old san juan terrific restaurants, ate parrot club marmalade sonne old san juan, husband said best filet mignon life sonne, condado ate ajili-mojili ropa vieja, ropa vieja good staff bit attitude.this particular marriott not par locations i.e, aruba harbor beach fort lauderdale, reason pool area small shady, hotel just did n't feel, n't fancy maybe.. hotel lobby jumping night, great energy place loved watching locals dance, beach nice construction going area view shore not nicest, not terrible lot cranes area, just face chair ocean beautiful blue fine, area built tremendously, ocean view room did not buildings sitting deck, true rough water, father son pulled water waves forcing rocks.if looking clean room nice amenities central location great place stay,  \", 'Positive')\n",
      "\n",
      "(7744, 'great value great location value money, rooms small clean, staff friendly helpfull, thing hear neighbour walking room, stay,  ', 'Positive')\n",
      "\n",
      "(2504, 'great hotel visit new york wanted hotel clean quiet located, affinia dumont fully met requirements, room large appointed days managed 11th 30th floor views spectacular, staff consistently friendly helpful, minor problems dealt speedily efficiently, murray hill area safe good local restaurants barking dog restaurant door excellent place breakfast.i recommend hotel 100,  ', 'Positive')\n",
      "\n",
      "(1031, \"experience grand stanford hong kong stayed weeks honeymoon, althought problems w/this hotel admit staff courteous fairly professional, easy access comes transportation location centralize, problems fact stated reservation honemoon requested fairly nice view given view w/a brick wall, charged upgrade view street, upgrade toilet did n't work night taken care promptly, appreciated, rooms fairly spacious fairly clean, lobby beautiful, got confuse w/this hotel intercontinental, hehe, alright,  \", 'Positive')\n",
      "\n",
      "(881, \"beautiful location hotel beautiful peaceful, pool big kids, beach lovely plenty beach chairs, hotel lobby typical embassy suites, location far hubub san juan nice really leaves options activity unless want deal traffic waste good bit time car, limited choice restaurants no real shopping area, great golf course, hotel restaurants closes 5:00pm n't open mondays tuesdays pretty average menu good nothing excited, used casinos dorado long closed despite websites guide books tell, stay need car really want just away,  \", 'Negative')\n",
      "\n",
      "(8520, 'liked hotel strange entrance leave central station right, flight stairs negotiate bags, turn right stay right street, right small supermarket big group motorcycles types, street, hotel nazionne left street, going crossing line left sidewalk, flags hotel sign not hotel alammani, arrive door hotel button opens door, inside turn right, small flights stairs, arrive small lift says 4 people bags tight fit doors open not, arrive second floor open door says alamanni hotel, good hotel, rooms heater works, lighted, channels english, no spanish channels.good breakfast coffee capuccino tea bread cereals yogurt pastries ham jam honey juices comfortable room lighted.wake day worked.walked day want.besides small supermarket mentioned conad drugstore nearby really bigger supermarket open day, small 0.99 euro store nearby,  ', 'Positive')\n",
      "\n",
      "(9069, \"maybe just sensitive, stayed bahia principe nov 1/07-nov 8/07, mexico cancun puerto vallarta bahamas aruba, bahia principe itselft nice hotel 5 star dominican not comparable 5 star, large hotel good difficult coordinate large group week goes used trolly not bad, pool nice food okay not bad not really great say average breakfast buffet probably best did run bacon later 9pm, beach best vacation definitley beautiful soft white sand not alot shells beautiful water, complaint communication hard staff not speak english taught cleaning lady words thankful, ca n't blame staff effort feel hotel spend little money staff english lessons think grateful, said main issue not resort leaving resort, sensitive person highly suggest not leaving resort, poverty areas hard bear witness know poverty world just cant relax party know starving people animals just ouside resort, took comfort knowing resort providing jobs week just kept feeling helpless not knowing help people, huge animal lover harder stray dogs beach market town, not animal lover not notice heartbreaking, beautiful female dog blind eye visits beach bahia really likes chicken friendly wont let touch somewhat timid afraid food water, walk beach right boat water 30 minutes local market quite dogs puppies way locals dont really acknowldge did notice tourists kind hearted anyways feed scraps, beautiful island poor shacks destitute looking stray animals reality outside resort took beauty away, dominican republic active help people animals not sip daquiri beach,  \", 'Negative')\n",
      "\n",
      "(4663, \"loved people resort wife vacationed secrets excellence july 19th july 26th 2nd year anniversary, little disturbed resort hour away airport traveling night time speed narrow roads person apprehensive felt like bunch refugees theres hardly form civilization just ending dark narrow roads needs major repair, driver showed no mercy kept driving speed pot holes size abdominal snowmans foot, arrived gated resort grounds beautiful, concierge area immaculate greeted mimosa checking, master suite superb wife viewed line identical resort, cable playboy channel, dining secrets splendid secrets formal restaurant quisqueya superior cuisines recommend chateaubriand desert menu ambiance stunning, place dine palapa mediterranea excellent seafood youll love lobster shrimp meal dont order second serving passion fruit juice theyll decade, dining fine maria bonita service slow, service maria bonita horrific wife walk occasions, waiting service maria bonita like waiting child delivered youre going wait awhile, night life consist stage shows dining beach casino club scheduled night activities, stage shows exceptional entertaining dont expect new york broadway stage youre not going secrets excellence, secrets lively entertainment staff makes visit fun staff trying make party interact visitors, club amusing dj didnt broad selection music didnt mind foreign territory dictate dj play, workers secrets extremely kind willing great assistance, pleasure serve constantly repeated secrets employee, unfortunately employees knew little english livid youre just visitor elses country, witnessed rude behavior americans personnel secrets not fluent english fair foreigner visit irate no speaks his/her language, just prepared patience speaking staff members secrets, beach beautiful carry sun screen lotion sun bake 350 degrees bring masses mosquitoes, mosquitoes attack like bunch al qaeda soldiers prepared, bring necessities traveling convenient store secrets outrageous prices small bottle rubbing alcohol cost 4.00 opposed cents local dollar store, not finagled visiting vendors bunch hustlers easily talk vendor asking price souvenir, room service horrible turtle stuck molasses quicker room service, housekeeping n't bad make sure change bed sheets daily twice report service desk, furthermore secrets need conduct type smoking policy people allowed smoke, not smoker bit aggravated people smoking freely wanted, addition secrets wasnt informative regarding daily events wife heard events word mouth people people oblivious events happening day night time, theres board events easily overlooked, discrepancies secrets did not outweigh fun wife recommend resort, adult resort no doesnt worry snot nose kid crying ones ear trying watch stage dining, concern 10.00 fee arriving leaving dominican republic, educate,  \", 'Positive')\n",
      "\n",
      "(1450, \"n't stay, second time staying argonaut celebrating birthday, love friendliness staff time restaurant suggestions bus directions just need make stay extremely pleasant, love rooms comfortable clean evening wine tastings fun, love location relax enjoy restaurants exploring new areas public transporation, stop day buena vista breakfast cup irish coffee, love spending afternoons outside courtyard jack, highly recommend scoma wharf wo n't better dinning experience anywhere.we stayed 4 days miss area hope come december enjoy,  \", 'Positive')\n",
      "\n",
      "(9010, 'place stay london lovely charme victorian hotel.the room got small cozy clean, staff friendly kind helpful, great location 10 min walk victoria station 5 min pimlico tube station decent breakfast,  ', 'Positive')\n",
      "\n",
      "(1769, 'hotel gem location owners staff cleanliness ambience selected hotel based tripadvisor reviews selected seven hotels booked just finest little gem hotel, room huge big king size bed twin beds husband storage bed, big armoire huge windows generous bathroom sparking clean, owners mother son wonderful handsome helpful desk person convinced purpose ensure enjoyment beautiful city, close hotel casci drawer second,  ', 'Positive')\n",
      "\n",
      "(6520, \"watch spent single night westin seattle left favorite jacket closet left room, n't worried reported missing jacket just hours check town days, inquiries pay attention trying track, jacket not appeared logical conclusion hotel employee nice jacket, expected budget accommodation not supposedly fine hotel, close track things choose stay,  \", 'Negative')\n",
      "\n"
     ]
    }
   ],
   "source": [
    "for _, i in df.iterrows():\n",
    "    \n",
    "    "
   ]
  },
  {
   "cell_type": "code",
   "execution_count": null,
   "metadata": {},
   "outputs": [],
   "source": []
  }
 ],
 "metadata": {
  "kernelspec": {
   "display_name": "base",
   "language": "python",
   "name": "python3"
  },
  "language_info": {
   "codemirror_mode": {
    "name": "ipython",
    "version": 3
   },
   "file_extension": ".py",
   "mimetype": "text/x-python",
   "name": "python",
   "nbconvert_exporter": "python",
   "pygments_lexer": "ipython3",
   "version": "3.12.3"
  }
 },
 "nbformat": 4,
 "nbformat_minor": 2
}
