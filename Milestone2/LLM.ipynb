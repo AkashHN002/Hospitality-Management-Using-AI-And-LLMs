{
 "cells": [
  {
   "cell_type": "code",
   "execution_count": 1,
   "metadata": {},
   "outputs": [
    {
     "data": {
      "text/plain": [
       "<groq.Groq at 0x143b6538cb0>"
      ]
     },
     "execution_count": 1,
     "metadata": {},
     "output_type": "execute_result"
    }
   ],
   "source": [
    "import os\n",
    "import json\n",
    "from groq import Groq\n",
    "\n",
    "client = Groq(\n",
    "    api_key=os.environ.get(\"GROQ_API_KEY\"),\n",
    ")\n",
    "client"
   ]
  },
  {
   "cell_type": "code",
   "execution_count": 2,
   "metadata": {},
   "outputs": [],
   "source": [
    "text = \"\"\"beautiful accomodations stayed hotel santa maria novella night wished stayed entirety days florence simply gorgeous accomodations, \n",
    "            room stayed cheapest rate available assuming simplest abode offer beautiful hardwood floors bed linens comfortable mattress difficult italy drapes fantastic marble bathroom,\n",
    "              nicer expecting especially price, location not central 10-minute walk sights close train station away noise bustle busier locations, \n",
    "              close upscale shopping lots trattorias, nice oasis hectic sightseeing florence highly recommed hotel hotels higher ranked website,  \"\"\""
   ]
  },
  {
   "cell_type": "code",
   "execution_count": 3,
   "metadata": {},
   "outputs": [
    {
     "name": "stdout",
     "output_type": "stream",
     "text": [
      "The sentiment of this review is overwhelmingly **Positive**.\n",
      "\n",
      "The reviewer uses superlatives such as \"beautiful\", \"gorgeous\", \"fantastic\", and \"nice\" to describe the hotel and its accommodations. They specifically mention the \"hardwood floors\", \"bed linens\", and \"marble bathroom\" as highlights. They also state that the room was a good deal for the price and that the location was convenient, with upscale shopping and nice trattorias nearby.\n",
      "\n",
      "The only slightly negative comment is that the location is not \"central\" and is a 10-minute walk to the sights, but this is presented as a mitigating factor rather than a major criticism. Overall, the reviewer's enthusiasm and glowing description of the hotel suggest a very positive sentiment.\n"
     ]
    }
   ],
   "source": [
    "chat_completion = client.chat.completions.create(\n",
    "messages=[\n",
    "    {\n",
    "        \"role\": \"user\",\n",
    "        \"content\": f\"Provide the sentiment for {text} as Positive or Negative\",\n",
    "    }\n",
    "],\n",
    "model=\"llama3-8b-8192\",\n",
    ")\n",
    "print(chat_completion.choices[0].message.content)"
   ]
  },
  {
   "cell_type": "code",
   "execution_count": 17,
   "metadata": {},
   "outputs": [
    {
     "name": "stdout",
     "output_type": "stream",
     "text": [
      "The sentiment of this review is POSITIVE.\n",
      "\n",
      "The review highlights the beauty and comfort of the accommodations, stating that the hotel is \"simply gorgeous\" and that the room is \"beautiful\". The reviewer also compliments the hotel's location, saying that it's close to upscale shopping and trattorias, making it a \"nice oasis\" in hectic Florence.\n",
      "\n",
      "The reviewer mentions some expectations, such as a lower price, but overall, they express satisfaction with their stay, stating that they would \"highly recommend\" the hotel. The only minor criticism is that the location is not central, but they note that it's only a 10-minute walk to the city sights.\n",
      "\n",
      "Overall, the sentiment is positive, with the reviewer focusing on the hotel's good qualities and only mildly criticizing its location.\n"
     ]
    }
   ],
   "source": [
    "chat_completion = client.chat.completions.create(\n",
    "        messages=[\n",
    "            {\n",
    "                \"role\":\"system\",\n",
    "                \"content\":\"You are a sentiment analyser who outputs the sentiment of the given review\"\n",
    "            },\n",
    "            {\n",
    "                \"role\": \"user\",\n",
    "                \"content\": f\"Provide the Sentiment of {text}\",\n",
    "            }\n",
    "        ],\n",
    "        model=\"llama3-8b-8192\",\n",
    "    )\n",
    "print(chat_completion.choices[0].message.content)"
   ]
  },
  {
   "cell_type": "code",
   "execution_count": 19,
   "metadata": {},
   "outputs": [
    {
     "name": "stdout",
     "output_type": "stream",
     "text": [
      "{\n",
      "   \"Sentiment\": \"Positive\"\n",
      "}\n"
     ]
    }
   ],
   "source": [
    "chat_completion = client.chat.completions.create(\n",
    "        messages=[\n",
    "            {\n",
    "                \"role\":\"system\",\n",
    "                \"content\":\"You are a sentiment analyser who outputs the sentiment of the review in JSON.\"\n",
    "                f\"The JSON object must use the schema : {json.dumps({'Sentiment':'Positive/Negative'})}\"\n",
    "            },\n",
    "            {\n",
    "                \"role\": \"user\",\n",
    "                \"content\": f\"Provide the Sentiment of {text}\",\n",
    "            }\n",
    "        ],\n",
    "        model=\"llama3-8b-8192\",\n",
    "        response_format={\"type\": \"json_object\"}\n",
    "    )\n",
    "print(chat_completion.choices[0].message.content)\n"
   ]
  },
  {
   "cell_type": "code",
   "execution_count": null,
   "metadata": {},
   "outputs": [],
   "source": [
    "\n",
    "text = \"\"\"beautiful accomodations stayed hotel santa maria novella night wished stayed entirety days florence simply gorgeous accomodations, \n",
    "            room stayed cheapest rate available assuming simplest abode offer beautiful hardwood floors bed linens comfortable mattress difficult italy drapes fantastic marble bathroom,\n",
    "              nicer expecting especially price, location not central 10-minute walk sights close train station away noise bustle busier locations, \n",
    "              close upscale shopping lots trattorias, nice oasis hectic sightseeing florence highly recommed hotel hotels higher ranked website,  \"\"\"\n",
    "\n",
    "def Sentiment_provider(text):\n",
    "    chat_completion = client.chat.completions.create(\n",
    "        messages=[\n",
    "            {\n",
    "                \"role\":\"system\",\n",
    "                \"content\":\"You are a sentiment analysist who outputs the sentiment and the departments/areas mentioned in review in JSON.\"\n",
    "                f\"The JSON object must use the schema : {json.dumps({'Sentiment':'Positive/Negative', \"Areas\":[]})}\"\n",
    "            },\n",
    "            {\n",
    "                \"role\": \"user\",\n",
    "                \"content\": f\"Provide the Sentiment of {text}\",\n",
    "            }\n",
    "        ],\n",
    "        model=\"llama3-8b-8192\",\n",
    "        response_format={\"type\": \"json_object\"}\n",
    "    )\n",
    "\n",
    "    return(chat_completion.choices[0].message.content)"
   ]
  },
  {
   "cell_type": "code",
   "execution_count": 10,
   "metadata": {},
   "outputs": [
    {
     "data": {
      "text/plain": [
       "{'Sentiment': 'Positive',\n",
       " 'Areas': ['Accomodations', 'Room', 'Location', 'Price']}"
      ]
     },
     "execution_count": 10,
     "metadata": {},
     "output_type": "execute_result"
    }
   ],
   "source": [
    "sentimen_dict = json.loads(Sentiment_provider(text))\n",
    "\n",
    "#]sentimen_dict['Sentiment'] = \"Negative\"\n",
    "sentimen_dict"
   ]
  },
  {
   "cell_type": "code",
   "execution_count": 24,
   "metadata": {},
   "outputs": [],
   "source": [
    "def Suggestion_provider(Sentiment_dict:dict, text):\n",
    "    chat_completion = client.chat.completions.create(\n",
    "    messages=[\n",
    "        {\n",
    "            \"role\":\"system\",\n",
    "            \"content\":f\"You are a suggestion provider who gives suggestion imporve the areas in {Sentiment_dict['Areas']} using the review {text}, and return it in JSON.\\n\"\n",
    "            f\"The JSON object must use the schema : {json.dumps({'Area_name':'Suggestion'})}\"\n",
    "        },\n",
    "        {\n",
    "            \"role\": \"user\",\n",
    "            \"content\": f\"Provide the Suggestion on how to improve {Sentiment_dict['Areas']}\",\n",
    "        }\n",
    "    ],\n",
    "    model=\"llama3-8b-8192\",\n",
    "    response_format={\"type\": \"json_object\"}\n",
    "    )\n",
    "    return json.loads(chat_completion.choices[0].message.content)\n",
    "s = Suggestion_provider(sentimen_dict, text)"
   ]
  },
  {
   "cell_type": "code",
   "execution_count": 47,
   "metadata": {},
   "outputs": [
    {
     "data": {
      "text/plain": [
       "{'Accomodations': 'Offer a variety of room types to cater to different budgets and preferences.',\n",
       " 'Room': 'Upgrade the cheapest rate available by adding some luxurious amenities, such as a Nespresso machine or a complimentary bottle of water.',\n",
       " 'Location': 'Consider offering a shuttle service to and from the train station to make it more convenient for guests.',\n",
       " 'Price': 'Offer discounts for longer stays or package deals with nearby attractions to make the hotel more competitive in the market.'}"
      ]
     },
     "execution_count": 47,
     "metadata": {},
     "output_type": "execute_result"
    }
   ],
   "source": [
    "s"
   ]
  },
  {
   "cell_type": "code",
   "execution_count": 46,
   "metadata": {},
   "outputs": [
    {
     "name": "stdout",
     "output_type": "stream",
     "text": [
      "\u001b[1mAccomodations\u001b[0m: \n",
      "Offer a variety of room types to cater to different budgets and preferences.\n",
      "\n",
      "\u001b[1mRoom\u001b[0m: \n",
      "Upgrade the cheapest rate available by adding some luxurious amenities, such as a Nespresso machine or a complimentary bottle of water.\n",
      "\n",
      "\u001b[1mLocation\u001b[0m: \n",
      "Consider offering a shuttle service to and from the train station to make it more convenient for guests.\n",
      "\n",
      "\u001b[1mPrice\u001b[0m: \n",
      "Offer discounts for longer stays or package deals with nearby attractions to make the hotel more competitive in the market.\n",
      "\n"
     ]
    }
   ],
   "source": [
    "for area in s:\n",
    "    print(f\"\\033[1m{area}\\033[0m: \")\n",
    "    print(f\"{s[area]}\\n\")"
   ]
  },
  {
   "cell_type": "code",
   "execution_count": 7,
   "metadata": {},
   "outputs": [
    {
     "name": "stdout",
     "output_type": "stream",
     "text": [
      "I would classify the sentiment of this text as Positive.\n",
      "\n",
      "The reviewer uses superlatives such as \"beautiful\", \"gorgeous\", \"fantastic\", and \"highly recommend\" to describe their stay at Hotel Santa Maria Novella. They emphasize the comfortable and luxurious features of the room, including the hardwood floors, comfortable mattress, and marble bathroom.\n",
      "\n",
      "Although they mention a few drawbacks, such as the location not being central and the noise from the nearby train station, they seem to view these as minor inconveniences. They also express surprise and satisfaction that they got a great deal on the room price, which suggests that their overall experience exceeded their expectations.\n",
      "\n",
      "Overall, the reviewer's tone is overwhelmingly positive, and they seem to have had a very pleasant stay at the hotel.\n"
     ]
    }
   ],
   "source": [
    "\n",
    "chat_completion = client.chat.completions.create(\n",
    "messages=[\n",
    "    {\n",
    "        \"role\": \"user\",\n",
    "        \"content\": f\"Provide the sentiment for {text} as Positive or Negative\",\n",
    "    }\n",
    "],\n",
    "model=\"llama3-8b-8192\",\n",
    "\n",
    "    )\n",
    "print(chat_completion.choices[0].message.content)"
   ]
  },
  {
   "cell_type": "code",
   "execution_count": null,
   "metadata": {},
   "outputs": [],
   "source": []
  },
  {
   "cell_type": "code",
   "execution_count": 8,
   "metadata": {},
   "outputs": [],
   "source": [
    "class Schema1():\n",
    "    sen:str\n",
    "    area:list"
   ]
  },
  {
   "cell_type": "code",
   "execution_count": null,
   "metadata": {},
   "outputs": [
    {
     "ename": "TypeError",
     "evalue": "Object of type type is not JSON serializable",
     "output_type": "error",
     "traceback": [
      "\u001b[1;31m---------------------------------------------------------------------------\u001b[0m",
      "\u001b[1;31mTypeError\u001b[0m                                 Traceback (most recent call last)",
      "Cell \u001b[1;32mIn[9], line 2\u001b[0m\n\u001b[0;32m      1\u001b[0m \u001b[38;5;28;01mimport\u001b[39;00m \u001b[38;5;21;01mjson\u001b[39;00m\n\u001b[1;32m----> 2\u001b[0m json\u001b[38;5;241m.\u001b[39mdumps(Schema1)\n",
      "File \u001b[1;32mc:\\ProgramData\\anaconda3\\Lib\\json\\__init__.py:231\u001b[0m, in \u001b[0;36mdumps\u001b[1;34m(obj, skipkeys, ensure_ascii, check_circular, allow_nan, cls, indent, separators, default, sort_keys, **kw)\u001b[0m\n\u001b[0;32m    226\u001b[0m \u001b[38;5;66;03m# cached encoder\u001b[39;00m\n\u001b[0;32m    227\u001b[0m \u001b[38;5;28;01mif\u001b[39;00m (\u001b[38;5;129;01mnot\u001b[39;00m skipkeys \u001b[38;5;129;01mand\u001b[39;00m ensure_ascii \u001b[38;5;129;01mand\u001b[39;00m\n\u001b[0;32m    228\u001b[0m     check_circular \u001b[38;5;129;01mand\u001b[39;00m allow_nan \u001b[38;5;129;01mand\u001b[39;00m\n\u001b[0;32m    229\u001b[0m     \u001b[38;5;28mcls\u001b[39m \u001b[38;5;129;01mis\u001b[39;00m \u001b[38;5;28;01mNone\u001b[39;00m \u001b[38;5;129;01mand\u001b[39;00m indent \u001b[38;5;129;01mis\u001b[39;00m \u001b[38;5;28;01mNone\u001b[39;00m \u001b[38;5;129;01mand\u001b[39;00m separators \u001b[38;5;129;01mis\u001b[39;00m \u001b[38;5;28;01mNone\u001b[39;00m \u001b[38;5;129;01mand\u001b[39;00m\n\u001b[0;32m    230\u001b[0m     default \u001b[38;5;129;01mis\u001b[39;00m \u001b[38;5;28;01mNone\u001b[39;00m \u001b[38;5;129;01mand\u001b[39;00m \u001b[38;5;129;01mnot\u001b[39;00m sort_keys \u001b[38;5;129;01mand\u001b[39;00m \u001b[38;5;129;01mnot\u001b[39;00m kw):\n\u001b[1;32m--> 231\u001b[0m     \u001b[38;5;28;01mreturn\u001b[39;00m _default_encoder\u001b[38;5;241m.\u001b[39mencode(obj)\n\u001b[0;32m    232\u001b[0m \u001b[38;5;28;01mif\u001b[39;00m \u001b[38;5;28mcls\u001b[39m \u001b[38;5;129;01mis\u001b[39;00m \u001b[38;5;28;01mNone\u001b[39;00m:\n\u001b[0;32m    233\u001b[0m     \u001b[38;5;28mcls\u001b[39m \u001b[38;5;241m=\u001b[39m JSONEncoder\n",
      "File \u001b[1;32mc:\\ProgramData\\anaconda3\\Lib\\json\\encoder.py:200\u001b[0m, in \u001b[0;36mJSONEncoder.encode\u001b[1;34m(self, o)\u001b[0m\n\u001b[0;32m    196\u001b[0m         \u001b[38;5;28;01mreturn\u001b[39;00m encode_basestring(o)\n\u001b[0;32m    197\u001b[0m \u001b[38;5;66;03m# This doesn't pass the iterator directly to ''.join() because the\u001b[39;00m\n\u001b[0;32m    198\u001b[0m \u001b[38;5;66;03m# exceptions aren't as detailed.  The list call should be roughly\u001b[39;00m\n\u001b[0;32m    199\u001b[0m \u001b[38;5;66;03m# equivalent to the PySequence_Fast that ''.join() would do.\u001b[39;00m\n\u001b[1;32m--> 200\u001b[0m chunks \u001b[38;5;241m=\u001b[39m \u001b[38;5;28mself\u001b[39m\u001b[38;5;241m.\u001b[39miterencode(o, _one_shot\u001b[38;5;241m=\u001b[39m\u001b[38;5;28;01mTrue\u001b[39;00m)\n\u001b[0;32m    201\u001b[0m \u001b[38;5;28;01mif\u001b[39;00m \u001b[38;5;129;01mnot\u001b[39;00m \u001b[38;5;28misinstance\u001b[39m(chunks, (\u001b[38;5;28mlist\u001b[39m, \u001b[38;5;28mtuple\u001b[39m)):\n\u001b[0;32m    202\u001b[0m     chunks \u001b[38;5;241m=\u001b[39m \u001b[38;5;28mlist\u001b[39m(chunks)\n",
      "File \u001b[1;32mc:\\ProgramData\\anaconda3\\Lib\\json\\encoder.py:258\u001b[0m, in \u001b[0;36mJSONEncoder.iterencode\u001b[1;34m(self, o, _one_shot)\u001b[0m\n\u001b[0;32m    253\u001b[0m \u001b[38;5;28;01melse\u001b[39;00m:\n\u001b[0;32m    254\u001b[0m     _iterencode \u001b[38;5;241m=\u001b[39m _make_iterencode(\n\u001b[0;32m    255\u001b[0m         markers, \u001b[38;5;28mself\u001b[39m\u001b[38;5;241m.\u001b[39mdefault, _encoder, \u001b[38;5;28mself\u001b[39m\u001b[38;5;241m.\u001b[39mindent, floatstr,\n\u001b[0;32m    256\u001b[0m         \u001b[38;5;28mself\u001b[39m\u001b[38;5;241m.\u001b[39mkey_separator, \u001b[38;5;28mself\u001b[39m\u001b[38;5;241m.\u001b[39mitem_separator, \u001b[38;5;28mself\u001b[39m\u001b[38;5;241m.\u001b[39msort_keys,\n\u001b[0;32m    257\u001b[0m         \u001b[38;5;28mself\u001b[39m\u001b[38;5;241m.\u001b[39mskipkeys, _one_shot)\n\u001b[1;32m--> 258\u001b[0m \u001b[38;5;28;01mreturn\u001b[39;00m _iterencode(o, \u001b[38;5;241m0\u001b[39m)\n",
      "File \u001b[1;32mc:\\ProgramData\\anaconda3\\Lib\\json\\encoder.py:180\u001b[0m, in \u001b[0;36mJSONEncoder.default\u001b[1;34m(self, o)\u001b[0m\n\u001b[0;32m    161\u001b[0m \u001b[38;5;28;01mdef\u001b[39;00m \u001b[38;5;21mdefault\u001b[39m(\u001b[38;5;28mself\u001b[39m, o):\n\u001b[0;32m    162\u001b[0m \u001b[38;5;250m    \u001b[39m\u001b[38;5;124;03m\"\"\"Implement this method in a subclass such that it returns\u001b[39;00m\n\u001b[0;32m    163\u001b[0m \u001b[38;5;124;03m    a serializable object for ``o``, or calls the base implementation\u001b[39;00m\n\u001b[0;32m    164\u001b[0m \u001b[38;5;124;03m    (to raise a ``TypeError``).\u001b[39;00m\n\u001b[1;32m   (...)\u001b[0m\n\u001b[0;32m    178\u001b[0m \n\u001b[0;32m    179\u001b[0m \u001b[38;5;124;03m    \"\"\"\u001b[39;00m\n\u001b[1;32m--> 180\u001b[0m     \u001b[38;5;28;01mraise\u001b[39;00m \u001b[38;5;167;01mTypeError\u001b[39;00m(\u001b[38;5;124mf\u001b[39m\u001b[38;5;124m'\u001b[39m\u001b[38;5;124mObject of type \u001b[39m\u001b[38;5;132;01m{\u001b[39;00mo\u001b[38;5;241m.\u001b[39m\u001b[38;5;18m__class__\u001b[39m\u001b[38;5;241m.\u001b[39m\u001b[38;5;18m__name__\u001b[39m\u001b[38;5;132;01m}\u001b[39;00m\u001b[38;5;124m \u001b[39m\u001b[38;5;124m'\u001b[39m\n\u001b[0;32m    181\u001b[0m                     \u001b[38;5;124mf\u001b[39m\u001b[38;5;124m'\u001b[39m\u001b[38;5;124mis not JSON serializable\u001b[39m\u001b[38;5;124m'\u001b[39m)\n",
      "\u001b[1;31mTypeError\u001b[0m: Object of type type is not JSON serializable"
     ]
    }
   ],
   "source": [
    "import json\n",
    "json.dumps(Schema1)"
   ]
  },
  {
   "cell_type": "code",
   "execution_count": 4,
   "metadata": {},
   "outputs": [
    {
     "data": {
      "text/html": [
       "<div>\n",
       "<style scoped>\n",
       "    .dataframe tbody tr th:only-of-type {\n",
       "        vertical-align: middle;\n",
       "    }\n",
       "\n",
       "    .dataframe tbody tr th {\n",
       "        vertical-align: top;\n",
       "    }\n",
       "\n",
       "    .dataframe thead th {\n",
       "        text-align: right;\n",
       "    }\n",
       "</style>\n",
       "<table border=\"1\" class=\"dataframe\">\n",
       "  <thead>\n",
       "    <tr style=\"text-align: right;\">\n",
       "      <th></th>\n",
       "      <th>Cust_name</th>\n",
       "      <th>Cust_email</th>\n",
       "      <th>Feedback</th>\n",
       "      <th>Date</th>\n",
       "      <th>Care_Taker</th>\n",
       "      <th>Emp_id</th>\n",
       "      <th>Age</th>\n",
       "      <th>Contact</th>\n",
       "      <th>Department</th>\n",
       "      <th>Customer Stay Duration (hrs)</th>\n",
       "      <th>Customer_N_visit</th>\n",
       "      <th>Cust amount to be paid</th>\n",
       "      <th>Nps</th>\n",
       "      <th>Dining</th>\n",
       "      <th>Room Preference</th>\n",
       "      <th>Sport Activities</th>\n",
       "      <th>Wellness</th>\n",
       "      <th>Pricing</th>\n",
       "    </tr>\n",
       "  </thead>\n",
       "  <tbody>\n",
       "    <tr>\n",
       "      <th>0</th>\n",
       "      <td>Jared</td>\n",
       "      <td>jared8917@example.com</td>\n",
       "      <td>beautiful accomodations stayed hotel santa mar...</td>\n",
       "      <td>2024-10-27</td>\n",
       "      <td>Jarvis</td>\n",
       "      <td>EMP2668</td>\n",
       "      <td>25</td>\n",
       "      <td>6387855360</td>\n",
       "      <td>Maintenance</td>\n",
       "      <td>3.1</td>\n",
       "      <td>2</td>\n",
       "      <td>68.90</td>\n",
       "      <td>94</td>\n",
       "      <td>Vegetaion</td>\n",
       "      <td>Double</td>\n",
       "      <td>Yoga</td>\n",
       "      <td>Body Scrubs</td>\n",
       "      <td>Budget</td>\n",
       "    </tr>\n",
       "    <tr>\n",
       "      <th>1</th>\n",
       "      <td>Marie</td>\n",
       "      <td>marie2554@example.com</td>\n",
       "      <td>great hotel great location hotel located la ra...</td>\n",
       "      <td>2018-11-21</td>\n",
       "      <td>Malone</td>\n",
       "      <td>EMP2743</td>\n",
       "      <td>25</td>\n",
       "      <td>6413355279</td>\n",
       "      <td>Food</td>\n",
       "      <td>4.3</td>\n",
       "      <td>5</td>\n",
       "      <td>280.18</td>\n",
       "      <td>-8</td>\n",
       "      <td>Vegan</td>\n",
       "      <td>Suite</td>\n",
       "      <td>Basketball</td>\n",
       "      <td>Massage Therapy</td>\n",
       "      <td>Senior discounts</td>\n",
       "    </tr>\n",
       "    <tr>\n",
       "      <th>2</th>\n",
       "      <td>Elijah</td>\n",
       "      <td>elijah1499@example.com</td>\n",
       "      <td>beautiful hotel great location like beautifull...</td>\n",
       "      <td>2023-06-18</td>\n",
       "      <td>Barrera</td>\n",
       "      <td>EMP2919</td>\n",
       "      <td>72</td>\n",
       "      <td>8285139384</td>\n",
       "      <td>Entertainment</td>\n",
       "      <td>5.9</td>\n",
       "      <td>1</td>\n",
       "      <td>441.25</td>\n",
       "      <td>74</td>\n",
       "      <td>Non-Vegetarion</td>\n",
       "      <td>King</td>\n",
       "      <td>Soccer</td>\n",
       "      <td>Yoga Sessions</td>\n",
       "      <td>Last-minute deals</td>\n",
       "    </tr>\n",
       "    <tr>\n",
       "      <th>3</th>\n",
       "      <td>Sheryl</td>\n",
       "      <td>sheryl5700@example.com</td>\n",
       "      <td>great deal waikiki trip hawaii outrigger luana...</td>\n",
       "      <td>2009-07-21</td>\n",
       "      <td>Montgomery</td>\n",
       "      <td>EMP2655</td>\n",
       "      <td>25</td>\n",
       "      <td>9133890047</td>\n",
       "      <td>Laundry</td>\n",
       "      <td>9.4</td>\n",
       "      <td>6</td>\n",
       "      <td>371.68</td>\n",
       "      <td>33</td>\n",
       "      <td>Vegan</td>\n",
       "      <td>Suite</td>\n",
       "      <td>Tennis</td>\n",
       "      <td>Steam Room</td>\n",
       "      <td>Member-exclusive rates</td>\n",
       "    </tr>\n",
       "    <tr>\n",
       "      <th>4</th>\n",
       "      <td>Jeremy</td>\n",
       "      <td>jeremy6170@example.com</td>\n",
       "      <td>choose airport hotel busy triparound australia...</td>\n",
       "      <td>2023-08-05</td>\n",
       "      <td>Houston</td>\n",
       "      <td>EMP2473</td>\n",
       "      <td>72</td>\n",
       "      <td>6655769323</td>\n",
       "      <td>Photography</td>\n",
       "      <td>6.8</td>\n",
       "      <td>10</td>\n",
       "      <td>462.39</td>\n",
       "      <td>-1</td>\n",
       "      <td>Non-Vegetarion</td>\n",
       "      <td>Single</td>\n",
       "      <td>Swimming</td>\n",
       "      <td>Personal Training</td>\n",
       "      <td>Kids stay free</td>\n",
       "    </tr>\n",
       "  </tbody>\n",
       "</table>\n",
       "</div>"
      ],
      "text/plain": [
       "  Cust_name              Cust_email  \\\n",
       "0     Jared   jared8917@example.com   \n",
       "1     Marie   marie2554@example.com   \n",
       "2    Elijah  elijah1499@example.com   \n",
       "3    Sheryl  sheryl5700@example.com   \n",
       "4    Jeremy  jeremy6170@example.com   \n",
       "\n",
       "                                            Feedback        Date  Care_Taker  \\\n",
       "0  beautiful accomodations stayed hotel santa mar...  2024-10-27      Jarvis   \n",
       "1  great hotel great location hotel located la ra...  2018-11-21      Malone   \n",
       "2  beautiful hotel great location like beautifull...  2023-06-18     Barrera   \n",
       "3  great deal waikiki trip hawaii outrigger luana...  2009-07-21  Montgomery   \n",
       "4  choose airport hotel busy triparound australia...  2023-08-05     Houston   \n",
       "\n",
       "    Emp_id  Age     Contact     Department  Customer Stay Duration (hrs)  \\\n",
       "0  EMP2668   25  6387855360    Maintenance                           3.1   \n",
       "1  EMP2743   25  6413355279           Food                           4.3   \n",
       "2  EMP2919   72  8285139384  Entertainment                           5.9   \n",
       "3  EMP2655   25  9133890047        Laundry                           9.4   \n",
       "4  EMP2473   72  6655769323    Photography                           6.8   \n",
       "\n",
       "   Customer_N_visit  Cust amount to be paid  Nps          Dining  \\\n",
       "0                 2                   68.90   94       Vegetaion   \n",
       "1                 5                  280.18   -8           Vegan   \n",
       "2                 1                  441.25   74  Non-Vegetarion   \n",
       "3                 6                  371.68   33           Vegan   \n",
       "4                10                  462.39   -1  Non-Vegetarion   \n",
       "\n",
       "  Room Preference Sport Activities           Wellness                 Pricing  \n",
       "0          Double             Yoga        Body Scrubs                  Budget  \n",
       "1           Suite       Basketball    Massage Therapy        Senior discounts  \n",
       "2            King           Soccer      Yoga Sessions       Last-minute deals  \n",
       "3           Suite           Tennis         Steam Room  Member-exclusive rates  \n",
       "4          Single         Swimming  Personal Training          Kids stay free  "
      ]
     },
     "execution_count": 4,
     "metadata": {},
     "output_type": "execute_result"
    }
   ],
   "source": [
    "import pandas as pd\n",
    "\n",
    "df = pd.read_csv(r\"D:\\Projects\\SpringBoard_Internship\\LLM_Internship\\Milestone1\\Sentiment_data.csv\")\n",
    "df.head()"
   ]
  },
  {
   "cell_type": "code",
   "execution_count": 41,
   "metadata": {},
   "outputs": [
    {
     "data": {
      "text/plain": [
       "array(['beautiful accomodations stayed hotel santa maria novella night wished stayed entirety days florence simply gorgeous accomodations, room stayed cheapest rate available assuming simplest abode offer beautiful hardwood floors bed linens comfortable mattress difficult italy drapes fantastic marble bathroom, nicer expecting especially price, location not central 10-minute walk sights close train station away noise bustle busier locations, close upscale shopping lots trattorias, nice oasis hectic sightseeing florence highly recommed hotel hotels higher ranked website,  ',\n",
       "       'great hotel great location hotel located la rambla city centre close access shops tour buses.the room immaculate 42 plasma screen screen bathroom.there nice blue ambient lighting room good amenities.the bathroom large equipped.concierge staff overall friendly helpful recommended lot restaurants night spots visit absolutely wonderful.there business centre use free open 24 hours.the thing disliked face in-room safe bit small did not fit laptop.i definitely recommend hotel,  ',\n",
       "       \"beautiful hotel great location like beautifully appointed room furniture linens lighting wo n't disappointed, stayed nights oct. 2004. got idea hotel faced sea does gothic quarter does n't, room sea view great room small window faces light, no views gothic quarter quite disappointed, room lovely dark faced light, smaller expected gorgeous attention furniture linens lighting bath amenities, location nice just steps away gothic quarter ramblas free use hotel internet connection great checking email,  \",\n",
       "       'great deal waikiki trip hawaii outrigger luana great hotel/condo, booked city view kitchenette, kitchen amenities ask, nice pool cabanas sun gets, barbeque area feel like getting fresh fish market highly recommended, staff friendly accommodating allowing access garage shower room 8 hours checked, 18/day parking little steep want explore life waikiki great hotel beginning main strip, tour desk not open probably went season desk touch tour desks outriggers waikiki happy make arrangements, beach minute walk away pay upwards 100/night right beach,  ',\n",
       "       'choose airport hotel busy triparound australia arrived place rudest receptionist, corridors room looked like bombsite no warning room mid decoration.very expensive room service no mini bar.laundry crazy prices.no air gym.room key failed 6 times.airport shuttle driver 2 near misses dropped wrong terminal,  ',\n",
       "       \"best hotel stayed picked hotel casablanca based recommendations tripadvisor not disappointed, location good staff extremely friendly helpful rooms reasonable size clean equipped peaceful spite bustling location breakfast delicious continental better normally come expect term, best feeling tranquility busy day town return oasis calm enjoy delicious hazelnut coffee buns head room freshen coming later cheese prosecco sound piano music background.ok n't exactly cheap, new york, stayed expensive luxury hotels felt mightily ripped, not time- definitely casablanca,  \",\n",
       "       'returning just returned staying property business trip, used outstanding service premier hotels hong kong mandarin oriental impressed cream crop, normally stay ritz carlton imminent closing jan 31 opted stay refurbished mandarin, rooms particularly outstanding service attention detail/customer satisfaction reproach, returning hong kong months vacation just canceled reservation seasons re-booked instead mandarin, impressive venue,  ',\n",
       "       'perfect choice perfect location hotel not choice booked website nh caransa just opposite square switched schiller.we lucky.. upgraded stayed renewed room floor quiet large confort need.the location hotel perfect city center looking quiet place better choose different place rembrandtplain restaurants bars intense night life staff kind 3 nights fantastic.enjoy amsterdam,  ',\n",
       "       'fantastic, just returned home weekend intercontinental berlin felt need write immediate review, absolutely loved hotel nothing didn t like, vitality club fantastic really good facilities thoroughly enjoyed afternoon swim sauna, food la cafe excellent particularly chinese food, room lovely beds extremely comfortable, hotel great location close main thorougfares able sightseeing tour city, definitely recommend hotel looking special weekend berlin, definitely book hotel,  ',\n",
       "       'just, harbour plaza 10 nights holiday trip.the hotel beautiful lobby not really big impressive.concierge ceck-in valet service best.the food restaurant fantastic, stayed superior room garden wiev big really clean furnished, size rooms not usual size chinese hotel room, big beds comfortables, housekeeping helpful efficent, entire hotel really really clean, inside bathroom ok cleanliness furniture shower complimentary bath set, floor 21.st floor deck pool not big faboulous wiev magnificent victoria harbour, food served pool bar fine maybe little bit expensive, pool wall glass able open eyes water unbelievable skyline hong kong, fitness center equipped breathtaking wiev pool, waiting, harbour plaza,  ',\n",
       "       \"excellent spent 3 nights beginning august, hotel excellenty situated good value got great rate independent website, despite spg card earned upgrade, rooms furnished bathroom featured double sinks, rate included breakfast good plenty choice good quality, beware hotel bar expensive n't unexpected plenty options nearby tired hot afternoon, definitely recommended base short break visit,  \",\n",
       "       \"let know hate americans minute entered hotel sinking feeling, check confusing tedious 40 group think happy large party, rooms scattered complex, filthy smelled mold growing walls towels, room razor blade floating toilet bugs, rooms not morning no clean towels left, social staff downright rude belly man, ignored lewd comments girls.it clear hated americans, no offered help really 1 place eat buffet seating reservation partially buffet, food worst tasted prior departure assumption eat riu restaurants did n't tell cost 40.00 extra person, 70 style foul smelling disco extra charge, day arrived member party slipped wet floor no not drink arm went glass table requiring 30 stiches, hotel cab way fare paid pay 600, hospital treated positive tour bus drivers nice beach beautiful beaches cancun st thomas st maarten like,  \",\n",
       "       \"let year trip punta cana husband planning trip peoples reviews quite helpful, october went grand flamenco honeymoon, dissapointed general service terrible mean terrible, breakfast did n't server approach offer tea/coffee week, dinner slight improvement server come maybe twice meal, past worked food/drink industry appreciate good service really ca n't stand bad service, food average overall buffet lot things, highlight breakfast omelet area pick ingredients cooked right spot, nice, went mexican la carte.. big mistake n't, sat seriously 45 minutes approached server.. 15-20 minutes drinks came table, main course came maybe 45 minutes later time husband hungry feeling sick food presentation poor totally unappetizing, took bite entrees got left, terrible.in general service worst men women resort reps waiting outside buffet breakfast everyday attack try sell times shares resort.. day, annoying uncomfortable.on bavaro beach beautiful, absolutely breath taking, spent lot time beach n't problem finding lounger, beach volleyball fun food beach restaurant pretty good, rained times clear 30 minutes later, went snorkelling day amazing, time snorkelling loved, snorkel guide great really friendly helpful.our room nice right near beach, complaint room bathroom, dirty looking paint chipping, bathtub ran completely shallow cover half body, not mention water pressure terrible took 30-40 minutes run bath.i definitely return punta cana not grand flamenco, not impressed,  \",\n",
       "       \"dream just returned glorious week grand palladium bavaro, admittedly little hesitant reading hit miss reviews site amazing week amazing time resort, mention not time travellers time dominican republic.first say frustrations just couple ignorance pace life dominican, toronto used hustle bustle big city, not dominican, time really saw truly hustling toronto style porters airport, little understanding little patience new respect dominicans remember not world moves lifestyle pace, frustrating experience desk check-in little slower expected, careful consideration check-in process took maybe 5 minutes instead 2 minutes took stride.after experience desk little wary honesty uphill there.here summary positives agree past reviews jr. suite beautiful clean great water pressure temperature great jacuzzi tub working mini-fridge re-stocked 2nd day fine, left 10.00 beginning trip service outstanding.- beaches wonderful picture perfect early want palapa busy sections resort, undiscovered treasure palapas east end bavaro resort free day, sure saw people save spots not use n't bothered it.- pool beautiful hot great service early grass, grounds immaculate, constantly upkept staff husband say groundskeeper washing walkway soap water, service no issues service staff friendly helpful supply drinks table little waiting hint table buffet waiter usually 2-3 minutes order drink buffet voila, staff not speak lot english prepared, thought charm wanted learn speak little spanish, certainly not expect visitors canada know entire language nor expect learn 10 languages communicate visitors canada, family resort kids honesty bonus wanted relax, not, hit miss stick restaurants bavaro review.la cathedral buffet bavaro excellent, lots variety excellent quality.la arriciefe lunch buffet excellent, lots variety excellent quality.sports bar not good hey went dominican try new food think north american burgers hot dogs dominican think, resort definiately not hamburgers hot dogs crowd, la cartela quixote seasoned palate, highly recommend grouper main dish outstanding, easily best meal week, restaurant went bavaro la carte.la uva dominican specialties, good spanish night not good meal good.mare nostrum italian food, good, recommendation small portions salad bar portions enormous, great time, sensitive stomach husband got sick nor did hear getting sick.my husband chef quite worried not like food, loved, rate food hot fresh lots variety flavour.ok negatives it- not people looking lot interaction vacationers resort n't lot mingling guests part- resort not people looking party night disco resort people looking relax unwind.we planning trip year definiately return resort,  \",\n",
       "       \"days el conquistador lovely resort things, days days resort dine restaurants spend hours private island play casino relax pools.excellent friendly service check, allowed check early getting rooms closely located requested deluxe ocean view, room rates extremely overpriced book online paying just room rate, checkout slapped room tax resort fee likely room charges drinks meals eating/drinking resort overpriced prices, feel like staying resort compound location resort limits access fajardo area unless rental car, avis counter rent car day day trip el yunque n't miss rainforest venture luquillo beach lunch.palomino island fun food/drink options limited amenity not resorts, pack snacks water not stuck paying high prices.one thing useful amenity self-serve laundry, way n't pay 50 items laundry overall nice resort n't restrict caribbean vacation miss beautiful island,  \",\n",
       "       \"wonderful hotel hotel vintage park boutique hotel kimpton hotels group known lovely eco-friendly, stayed hotels town far nicest serveral reasons, not big fan big chain hotels stay occasions, prefer personable places remember come, joined club arrived kimpton hotel treated regular, special gifts room just ordered, orgainc fruits sparkling water chocolates daughters myself.when showed hotel sick, n't sleeping keeping family night coughing, spoke desk maybe getting room floor easily accommodated despite fact hotel pretty, moved higher floor rooms hall, elevator right room heard noise coming hall elevators rooms me.i later sister paul newman stayed hotel week arrived, n't normally rub shoulders rich famous taste eco-friendly places par, n't expensive, great agree parking garage expensive protected, free overnight parking streets 6pm 7 8 parking permit plan stay longer, personally doing morning prefered spending couple extra dollars worth extra hour sleep.wonderful morning coffee teas, saw food mornings, missed wine hour did n't chance eat restaurant eating family time tourists.i certainly stay kimpton hotels town,  \",\n",
       "       'lovely hotel just come amsterdam brilliant time.we stayed hotel 3 nights thought lovely not saw day night.i reccomend sure,  ',\n",
       "       'fabulous night florence able check early no problems checking late day got delayed, fairly average hotel rome excited saw room really modern, girl desk absolutely lovely gave heaps info, felt comfortable having nice relaxing bath room clean, breakfast morning unbelievable think hubby went nuts totally overate, absolutely loved florence hotel extra special, really close train easy walking distance sites shops restaurants,  ',\n",
       "       'great stay stayed cambridge suites sept 29-oct 3 thought wonderful, none understood bad reviews, standard suite larger normal hotel room probably cheaper, free breakfast good comparable not better conferences, free bottled water extra plus, staff helpful pleasant, great location near subway path, restaurant pricey cheaper places close, definitely stay,  ',\n",
       "       \"ideal way, wife 49 more-or-less grown children 14 25 descended bahia principe punta cana second week august 2006 celebrate milestone lives, all-inclusive thing observations considered not rank novice light admitted cynicism people manage connoisseurs sort holiday, broad elements experience perfect beach postcard perfect design resort elegant practical people friendly food drinks copious appealing spotless no lineups, short resort life quite unlike regular lives familiar idle luxury amused variations facade i__Ç_é\\x96 not sure stand especially airport shuttle hurries neighbourhoods hot crowded concrete sheds feet highway, thankfully taste grand luxury pure leisure lots comedy, perfection turns probably tedious.i suppose definition resort experience elaborately contrived leisure so-called la carte restaurants theatrics lurch high gear, good north americans developed healthy suspicion organization obviously coached minimum wage staff exceptionally obsequious fawning n't long trading glances ministrations required multiple waiters wine stewards busboys maitre d chef-like fellows swooping stand-alone eateries serving complex variations food available buffet, clearly la carte experience crafted appeal visitors want feel pampered regardless actual fare, despite great ceremony wine standards laughably bad desserts fashionably drizzled chocolate syrup quite recently-thawed quality favourite japanese restaurant unspoken motto gon na know difference, embraced desperately, twenty-somethings early 80 wife spent years teaching japan fact actually did know difference, example walls decorated seemingly authentic calligraphy able identify characters scroll reading, similarly tempura great sushi just nice loblaws bento cook batch rice-a-roni scratch right eyes, fried rice consistency quaker harvest crunch novelty no japanese recognize let cook daughter enjoyed, followed standard pre-grocery-trip stir fry prepared great flourish friendly cook repeatedly tapped haircut bits cleaver, let repeat aside wine none bad unenjoyable, vaguely oriental griddle mix concoctions dubious authenticity restaurants prepared earnestness pleasure eat waiters/actors bless souls delivered head office mandate admirable dedication, especially staff far home buffet atmosphere relaxed food honest hospitality dominican, buffet quite simply best array food experimented sampled recklessly no ill-effect, forever crave called, 18 year old day visit pointed small green lizard building wall look tayoda, similar reduced spread food available conveniently beach just well-thought-out amenities, line-ups, trolley space loungers shade beach arrived, fact blight beach suspect labouring heat luggage variously greased sunburned highly conspicuous topless sand nymphs europe, dieu les canadiens, n't let set camp, say ventured tended stand bit regular clientele largely european typically indulge pleasures elegant simplicity half bathing suit book word searches good, oddly absent mix guests americans gay couples, sad reason felt wise discreetly radar, unspoken foreign voice beach beseeching discretion overfed guy faux-tilley hat, weather perfect came huge surprise, wife 18 year old obsessive weather junkies routine times tracking disturbances comparing stats weeks departure, best told expect sweltering humidity daily drizzle caribbean, august, people mental, house meteorologists sagely concurred escape confinement sort disaster relief facility considered major success, turned rain fell week spectacular cloudburst visiting santo domingo safely discount rum shop 6 minute duration, day sunny comfortable 30 32 degrees steady gentle breeze sea encampment sand positively temperate infinitely better record heat wave roasted ontario july, lucked, unfortunately dominicans did n't foresight stage major events history close punta cana resort strip long bus ride santo domingo, agreed interesting lengthy day served extra purpose provided relief leisure, unlikely phenomenon certainly complain came point day 5 think notion dragging butts unrelenting perfection beach losing charm, add bobbing neck-deep swim-up bar doro monkey hand unlikely diminish charm wife danger discovering tepid bathtub beverage sunglasses later tonight afraid, maybe unlike roasted european seniors speedos maximum capacity leisure luxury day 7 rolled happily hung lobby bar wait bus drinking iced tea orange juice far sun possible.all ca n't imagine better, resort does need better introductory booklet issue room key explain all-inclusive features initial befuddled exploration fun,  \",\n",
       "       'great location beach definitely agree reviewer, great location beach good 15 minute walk main strip restaurants, bus best bet old san juan just 75 cents come 20-30 mins, cab 13-14.we reservation wind chimes like lot people got upgraded acacia opinion nicer, got free upgrade mind gorgeous balcony suite, zero parking street nor parking lot wind lot 10 day not worth imo, definitely advice felix desk acacia recommend eateries things avoid, definitely kasalta bakery breakfast 10 min walk opposite way old city, unlike previous post skip bebo cafe bebo not beso, dominican owned worst service, food wasnt worth, going old san juan eat lupi mexican restaurant good, thought rooms really nice stepped jacuzzi right room, pool wind access hotels sandwiches chips/salsa excellent bar, waterfall el yunque rent car 25 min ride, dont know cab, not far,  ',\n",
       "       'unbelievable, usually not write reviews site upset read reading trip el conquistador, went wife 2 kids age 3 5 open mind, spoken said place breathtaking got ta, read reviews did not really know think, just got night best vacation, views breathtaking, stayed oceanview room overlooking atlantic carribean, personally picky hotel rooms usually stay hilton embassy suites, room fine especially look outside balcony paradise, rooms little outdated clean extremely acceptable taste, beds comfortable worked great, resort like going paradise not stay rooms day, rooms morning breakfast night asleep, wife kids hung pool 1 day played golf, golf course outstanding manicured, shot 77 double bogey 18, pools clean blast, best time private island, spend everyday truly gilligans island, grass umbrellas horseback riding, absolutely best time, boat takes 20 minutes like 5 minutes, boats leave el island 30 minutes, want wind breeze right island boat, truly paradise did not want leave, got married jamaica place literally blows away, cont,  ',\n",
       "       'service snarl date november 14 2008i stayed mandarin oriental new york previously pleasant stay, time typified attitude maitre d cocktail lounge, asked seats told arrogant superior demeanor twenty-five minute wait, despite tables obviously vacant, told wait bar did, thirty minutes later maitre d having come approached told wait, tables open, finally hour later having heard maitre d left, noted tables lounge vacant, attitude staff lucky, prices economy continue attitude lucky,  ',\n",
       "       'brilliant, just 3 nights st christpohe loved, 3rd trip paris hotel location best far, close place monge metro market shops, walk saint germaine pantheon, staff really friendly helpful, room ok size paris little dated clean good bathroom, concern rooms little hot provide fan, nice weather not hot not sure enjoyed stay 25 degrees, apart great hotel struggle better value paris,  ',\n",
       "       \"good location average hotel not far center 20 minutes walk center minutes metro, asked wanted quiet room course said yes n't quiet looked brick wall close, color sky stick heads window look, breakfast buffet expensive 14___ saw limited no fresh fruit end spain, decided welcome curt tables dirty cups food unimaginative, said clean quiet no problems, fun outside hotel really just sleep,  \",\n",
       "       'bad vibrations short version air conditioning hotel builds harmonic modulating vibration ducts coming basement, room air returns coming 2 minute buildup release noise drove nuts, figured nicely moved room realize problem probably hear rooms loud did not drive nuts low level, liked open windows hotel right i-5 continuously traveled types vehicles quite loud windows open not.the normal level great marriott service pleasant not stay facility changes air,  ',\n",
       "       'excellent resort just got 5 days desert ridge, wonderful experience, booked hotelopia.com saved lot money, bargain got, service notch, rooms nice lot space big bathrooms, food pricey excellent spa quite relaxing, not pickiest people like nice new hotels high quality service, felt restaurants pricey location food quite small overall experience booking trip couple months, comfortable knowing hotel clean comfortable great place relax, dont pay 400 night, shop cheeper, enjoy sure did,  ',\n",
       "       'choose different hotel little traveler 25 yr old lady went hubby husbands opinion same.. i__Ç_é\\x96 pregnant didn__Ç_é_ drink bit better o punta cana places dr worst hotel far, great thing trip direct flight travel smooth beach amazing, waves fine food buffet terrible restaurants horrible, good thing food breakfast bread fruits ate pineapples watermelon apples not good, sit table table getting food, not organized, wait forever bring coffee/tea drink yourself.entertainment wasn__Ç_é_ bad nice club/disco property, certainly not recommend hotel friend,  ',\n",
       "       'wow fantastic place stayed april 12-april 19 2008about 51 hubby 63. totally beach people love just lay sun.flew punta cana miami, airport punta cana cutest little airport seen, better island airport, open clean, thatched hut roofs girls dressed costumes meet arrive picture, band playing, time got got cab hour not bad, immigration breeze wait little bit luggage tour rep headed resort.ride resort 25 minutes, moment drove awed kept beautiful place, gorgeous reception area fresh flowers place, asked travel agent request bldg 2000 3000 4000 room floor, emailed resort request left, deluxe ocean view, request granted room 2219 3rd floor, view gorgeous, room tub bathroom huge tub/shower combo nice, fresh flower petals tub sink towel animals towels, pretty, big king size bed, patio 2 chairs table, size sofa desk cabinet tv fridge, lower table, room nice size, loved, maid fabulous, took crayons/coloring books/pencils left tip day, resort simply gorgeous, grounds kept clean manicured, pool b/t bld 2000 3000 beautiful, loved david bartender pool bar, did not matter walked just saw gorgeous flowers shrubs, don__Ç_é_ know say perfect.food imo can__Ç_é_ eat issue, don__Ç_é_ eat meat chic no seafood plenty, hubby loved variety foods, liked buffets ate ala carte__Ç_é_ night did mexican really good, buffet liked el cathedral bavaro lobby best, presentation restaurants incredible night different theme laid look absolutely gorgeous, tons different things choose, wed/sat mornings serve mimosas breakfast buffets night gave tequila shots night kind liquor shots.beach oh god heaven, gorgeous gorgeous beach, play towel game, got 5:45 morning towels thatched huts gone, think people left overnight, really don__Ç_é_ issue people saving chairs irks day, just rude, towels went walk 8 stayed day, left couple snorkel trips took stuff freed chairs use, water sand beach just simply wonderful.things little want, animation team stuff going, don__Ç_é_ bug ask want participate say no leave, vendors not bug, walk books pictures, want like parasailing come talk, big selling push beach all.marketplace went couple times little marketplace outside resort, vendors not worse islands sure barter, pay asking, bought stuff little grocery, presidente lite cans 15 12 pack, no american beer, resort served presidente tap just not week, bought champagne little store 13 bottle mimosas beach.excursions parasailed fun, 85, did tropical storm snorkel trip great, think paid 168 including tax, did marinarium 160 okay not, make stay group snorkel just not like, fun try different time.overall perfect week planning 2 years, year booked st thomas week pc, spend years resort, fabulous,  ',\n",
       "       \"luxury convenience ca n't recommend hotel highly, location convenient potsdamerplatz near brandenburg gate reichstag tiergarten berlin philharmonic, room highest quality new looked like person stay, bar comfortable accommodating breakfast room light staffed, staff helpful courteous.i booked hotel basis previous good experiences marriott hotels not disappointed, berlin stay bothering scout hotels good.for purposes comparison paid eur159 night, breakfast eur24 felt bit high, cafe 100 yards away substitute visit.a great stay wish longer,  \"],\n",
       "      dtype=object)"
      ]
     },
     "execution_count": 41,
     "metadata": {},
     "output_type": "execute_result"
    }
   ],
   "source": [
    "data_batch = {i: df.Feedback[j:j+30].values for i,j in enumerate(range(0,len(df), 30))}\n",
    "data_batch[0]"
   ]
  },
  {
   "cell_type": "code",
   "execution_count": 49,
   "metadata": {},
   "outputs": [],
   "source": [
    "sents = []\n",
    "system_messege = f\"You are the sentiment analyser who takes the list containing review texts and provode corresponding sentiment output JSON,JSON schemaa is {json.dumps({'text starting word':'Sentiment'})}\"\n",
    "chat_completion = client.chat.completions.create(\n",
    "        messages=[\n",
    "            {\n",
    "                \"role\":\"system\",\n",
    "                \"content\":system_messege\n",
    "            },\n",
    "            {\n",
    "                \"role\": \"user\",\n",
    "                \"content\": f\"Provide the Sentiment of {data_batch[0]}\",\n",
    "            }\n",
    "        ],\n",
    "        model=\"llama3-8b-8192\",\n",
    "        response_format={\"type\": \"json_object\"}\n",
    "        \n",
    "    )\n",
    "x = chat_completion.choices[0].message.content\n",
    "\n",
    "\n"
   ]
  },
  {
   "cell_type": "code",
   "execution_count": 6,
   "metadata": {},
   "outputs": [],
   "source": [
    "def sentiment(text):\n",
    "    chat_completion = client.chat.completions.create(\n",
    "        messages=[\n",
    "            {\n",
    "                \"role\":\"system\",\n",
    "                \"content\":\"You are a sentiment analyser who outputs the sentiment of the review in JSON.\"\n",
    "                f\"The JSON object must use the schema : {json.dumps({'Sentiment':'Positive/Negative'})}\"\n",
    "            },\n",
    "            {\n",
    "                \"role\": \"user\",\n",
    "                \"content\": f\"Provide the Sentiment of {text}\",\n",
    "            }\n",
    "        ],\n",
    "        model=\"llama3-8b-8192\",\n",
    "        response_format={\"type\": \"json_object\"}\n",
    "    )\n",
    "    out = json.loads(chat_completion.choices[0].message.content)\n",
    "    return out['Sentiment']"
   ]
  },
  {
   "cell_type": "code",
   "execution_count": null,
   "metadata": {},
   "outputs": [
    {
     "data": {
      "text/plain": [
       "{'Sentiment': 'Positive'}"
      ]
     },
     "execution_count": 59,
     "metadata": {},
     "output_type": "execute_result"
    }
   ],
   "source": []
  },
  {
   "cell_type": "code",
   "execution_count": 8,
   "metadata": {},
   "outputs": [
    {
     "name": "stdout",
     "output_type": "stream",
     "text": [
      "0\n",
      "1\n",
      "2\n"
     ]
    },
    {
     "ename": "RateLimitError",
     "evalue": "Error code: 429 - {'error': {'message': 'Rate limit reached for model `llama3-8b-8192` in organization `org_01jfg03hk5ee4tv16dmxnjkn9k` on requests per minute (RPM): Limit 30, Used 30, Requested 1. Please try again in 1.984s. Visit https://console.groq.com/docs/rate-limits for more information.', 'type': 'requests', 'code': 'rate_limit_exceeded'}}",
     "output_type": "error",
     "traceback": [
      "\u001b[1;31m---------------------------------------------------------------------------\u001b[0m",
      "\u001b[1;31mRateLimitError\u001b[0m                            Traceback (most recent call last)",
      "Cell \u001b[1;32mIn[8], line 6\u001b[0m\n\u001b[0;32m      4\u001b[0m c \u001b[38;5;241m=\u001b[39m \u001b[38;5;241m0\u001b[39m\n\u001b[0;32m      5\u001b[0m \u001b[38;5;28;01mfor\u001b[39;00m batch \u001b[38;5;129;01min\u001b[39;00m batch_df:\n\u001b[1;32m----> 6\u001b[0m     sent \u001b[38;5;241m=\u001b[39m [sentiment(i) \u001b[38;5;28;01mfor\u001b[39;00m i \u001b[38;5;129;01min\u001b[39;00m batch]\n\u001b[0;32m      7\u001b[0m     sentiment_ls\u001b[38;5;241m.\u001b[39mextend(sent)\n\u001b[0;32m      8\u001b[0m     \u001b[38;5;28mprint\u001b[39m(c)\n",
      "Cell \u001b[1;32mIn[6], line 2\u001b[0m, in \u001b[0;36msentiment\u001b[1;34m(text)\u001b[0m\n\u001b[0;32m      1\u001b[0m \u001b[38;5;28;01mdef\u001b[39;00m \u001b[38;5;21msentiment\u001b[39m(text):\n\u001b[1;32m----> 2\u001b[0m     chat_completion \u001b[38;5;241m=\u001b[39m client\u001b[38;5;241m.\u001b[39mchat\u001b[38;5;241m.\u001b[39mcompletions\u001b[38;5;241m.\u001b[39mcreate(\n\u001b[0;32m      3\u001b[0m         messages\u001b[38;5;241m=\u001b[39m[\n\u001b[0;32m      4\u001b[0m             {\n\u001b[0;32m      5\u001b[0m                 \u001b[38;5;124m\"\u001b[39m\u001b[38;5;124mrole\u001b[39m\u001b[38;5;124m\"\u001b[39m:\u001b[38;5;124m\"\u001b[39m\u001b[38;5;124msystem\u001b[39m\u001b[38;5;124m\"\u001b[39m,\n\u001b[0;32m      6\u001b[0m                 \u001b[38;5;124m\"\u001b[39m\u001b[38;5;124mcontent\u001b[39m\u001b[38;5;124m\"\u001b[39m:\u001b[38;5;124m\"\u001b[39m\u001b[38;5;124mYou are a sentiment analyser who outputs the sentiment of the review in JSON.\u001b[39m\u001b[38;5;124m\"\u001b[39m\n\u001b[0;32m      7\u001b[0m                 \u001b[38;5;124mf\u001b[39m\u001b[38;5;124m\"\u001b[39m\u001b[38;5;124mThe JSON object must use the schema : \u001b[39m\u001b[38;5;132;01m{\u001b[39;00mjson\u001b[38;5;241m.\u001b[39mdumps({\u001b[38;5;124m'\u001b[39m\u001b[38;5;124mSentiment\u001b[39m\u001b[38;5;124m'\u001b[39m:\u001b[38;5;124m'\u001b[39m\u001b[38;5;124mPositive/Negative\u001b[39m\u001b[38;5;124m'\u001b[39m})\u001b[38;5;132;01m}\u001b[39;00m\u001b[38;5;124m\"\u001b[39m\n\u001b[0;32m      8\u001b[0m             },\n\u001b[0;32m      9\u001b[0m             {\n\u001b[0;32m     10\u001b[0m                 \u001b[38;5;124m\"\u001b[39m\u001b[38;5;124mrole\u001b[39m\u001b[38;5;124m\"\u001b[39m: \u001b[38;5;124m\"\u001b[39m\u001b[38;5;124muser\u001b[39m\u001b[38;5;124m\"\u001b[39m,\n\u001b[0;32m     11\u001b[0m                 \u001b[38;5;124m\"\u001b[39m\u001b[38;5;124mcontent\u001b[39m\u001b[38;5;124m\"\u001b[39m: \u001b[38;5;124mf\u001b[39m\u001b[38;5;124m\"\u001b[39m\u001b[38;5;124mProvide the Sentiment of \u001b[39m\u001b[38;5;132;01m{\u001b[39;00mtext\u001b[38;5;132;01m}\u001b[39;00m\u001b[38;5;124m\"\u001b[39m,\n\u001b[0;32m     12\u001b[0m             }\n\u001b[0;32m     13\u001b[0m         ],\n\u001b[0;32m     14\u001b[0m         model\u001b[38;5;241m=\u001b[39m\u001b[38;5;124m\"\u001b[39m\u001b[38;5;124mllama3-8b-8192\u001b[39m\u001b[38;5;124m\"\u001b[39m,\n\u001b[0;32m     15\u001b[0m         response_format\u001b[38;5;241m=\u001b[39m{\u001b[38;5;124m\"\u001b[39m\u001b[38;5;124mtype\u001b[39m\u001b[38;5;124m\"\u001b[39m: \u001b[38;5;124m\"\u001b[39m\u001b[38;5;124mjson_object\u001b[39m\u001b[38;5;124m\"\u001b[39m}\n\u001b[0;32m     16\u001b[0m     )\n\u001b[0;32m     17\u001b[0m     out \u001b[38;5;241m=\u001b[39m json\u001b[38;5;241m.\u001b[39mloads(chat_completion\u001b[38;5;241m.\u001b[39mchoices[\u001b[38;5;241m0\u001b[39m]\u001b[38;5;241m.\u001b[39mmessage\u001b[38;5;241m.\u001b[39mcontent)\n\u001b[0;32m     18\u001b[0m     \u001b[38;5;28;01mreturn\u001b[39;00m out[\u001b[38;5;124m'\u001b[39m\u001b[38;5;124mSentiment\u001b[39m\u001b[38;5;124m'\u001b[39m]\n",
      "File \u001b[1;32m~\\AppData\\Roaming\\Python\\Python312\\site-packages\\groq\\resources\\chat\\completions.py:298\u001b[0m, in \u001b[0;36mCompletions.create\u001b[1;34m(self, messages, model, frequency_penalty, function_call, functions, logit_bias, logprobs, max_tokens, n, parallel_tool_calls, presence_penalty, response_format, seed, stop, stream, temperature, tool_choice, tools, top_logprobs, top_p, user, extra_headers, extra_query, extra_body, timeout)\u001b[0m\n\u001b[0;32m    157\u001b[0m \u001b[38;5;28;01mdef\u001b[39;00m \u001b[38;5;21mcreate\u001b[39m(\n\u001b[0;32m    158\u001b[0m     \u001b[38;5;28mself\u001b[39m,\n\u001b[0;32m    159\u001b[0m     \u001b[38;5;241m*\u001b[39m,\n\u001b[1;32m   (...)\u001b[0m\n\u001b[0;32m    186\u001b[0m     timeout: \u001b[38;5;28mfloat\u001b[39m \u001b[38;5;241m|\u001b[39m httpx\u001b[38;5;241m.\u001b[39mTimeout \u001b[38;5;241m|\u001b[39m \u001b[38;5;28;01mNone\u001b[39;00m \u001b[38;5;241m|\u001b[39m NotGiven \u001b[38;5;241m=\u001b[39m NOT_GIVEN,\n\u001b[0;32m    187\u001b[0m ) \u001b[38;5;241m-\u001b[39m\u001b[38;5;241m>\u001b[39m ChatCompletion \u001b[38;5;241m|\u001b[39m Stream[ChatCompletionChunk]:\n\u001b[0;32m    188\u001b[0m \u001b[38;5;250m    \u001b[39m\u001b[38;5;124;03m\"\"\"\u001b[39;00m\n\u001b[0;32m    189\u001b[0m \u001b[38;5;124;03m    Creates a model response for the given chat conversation.\u001b[39;00m\n\u001b[0;32m    190\u001b[0m \n\u001b[1;32m   (...)\u001b[0m\n\u001b[0;32m    296\u001b[0m \u001b[38;5;124;03m      timeout: Override the client-level default timeout for this request, in seconds\u001b[39;00m\n\u001b[0;32m    297\u001b[0m \u001b[38;5;124;03m    \"\"\"\u001b[39;00m\n\u001b[1;32m--> 298\u001b[0m     \u001b[38;5;28;01mreturn\u001b[39;00m \u001b[38;5;28mself\u001b[39m\u001b[38;5;241m.\u001b[39m_post(\n\u001b[0;32m    299\u001b[0m         \u001b[38;5;124m\"\u001b[39m\u001b[38;5;124m/openai/v1/chat/completions\u001b[39m\u001b[38;5;124m\"\u001b[39m,\n\u001b[0;32m    300\u001b[0m         body\u001b[38;5;241m=\u001b[39mmaybe_transform(\n\u001b[0;32m    301\u001b[0m             {\n\u001b[0;32m    302\u001b[0m                 \u001b[38;5;124m\"\u001b[39m\u001b[38;5;124mmessages\u001b[39m\u001b[38;5;124m\"\u001b[39m: messages,\n\u001b[0;32m    303\u001b[0m                 \u001b[38;5;124m\"\u001b[39m\u001b[38;5;124mmodel\u001b[39m\u001b[38;5;124m\"\u001b[39m: model,\n\u001b[0;32m    304\u001b[0m                 \u001b[38;5;124m\"\u001b[39m\u001b[38;5;124mfrequency_penalty\u001b[39m\u001b[38;5;124m\"\u001b[39m: frequency_penalty,\n\u001b[0;32m    305\u001b[0m                 \u001b[38;5;124m\"\u001b[39m\u001b[38;5;124mfunction_call\u001b[39m\u001b[38;5;124m\"\u001b[39m: function_call,\n\u001b[0;32m    306\u001b[0m                 \u001b[38;5;124m\"\u001b[39m\u001b[38;5;124mfunctions\u001b[39m\u001b[38;5;124m\"\u001b[39m: functions,\n\u001b[0;32m    307\u001b[0m                 \u001b[38;5;124m\"\u001b[39m\u001b[38;5;124mlogit_bias\u001b[39m\u001b[38;5;124m\"\u001b[39m: logit_bias,\n\u001b[0;32m    308\u001b[0m                 \u001b[38;5;124m\"\u001b[39m\u001b[38;5;124mlogprobs\u001b[39m\u001b[38;5;124m\"\u001b[39m: logprobs,\n\u001b[0;32m    309\u001b[0m                 \u001b[38;5;124m\"\u001b[39m\u001b[38;5;124mmax_tokens\u001b[39m\u001b[38;5;124m\"\u001b[39m: max_tokens,\n\u001b[0;32m    310\u001b[0m                 \u001b[38;5;124m\"\u001b[39m\u001b[38;5;124mn\u001b[39m\u001b[38;5;124m\"\u001b[39m: n,\n\u001b[0;32m    311\u001b[0m                 \u001b[38;5;124m\"\u001b[39m\u001b[38;5;124mparallel_tool_calls\u001b[39m\u001b[38;5;124m\"\u001b[39m: parallel_tool_calls,\n\u001b[0;32m    312\u001b[0m                 \u001b[38;5;124m\"\u001b[39m\u001b[38;5;124mpresence_penalty\u001b[39m\u001b[38;5;124m\"\u001b[39m: presence_penalty,\n\u001b[0;32m    313\u001b[0m                 \u001b[38;5;124m\"\u001b[39m\u001b[38;5;124mresponse_format\u001b[39m\u001b[38;5;124m\"\u001b[39m: response_format,\n\u001b[0;32m    314\u001b[0m                 \u001b[38;5;124m\"\u001b[39m\u001b[38;5;124mseed\u001b[39m\u001b[38;5;124m\"\u001b[39m: seed,\n\u001b[0;32m    315\u001b[0m                 \u001b[38;5;124m\"\u001b[39m\u001b[38;5;124mstop\u001b[39m\u001b[38;5;124m\"\u001b[39m: stop,\n\u001b[0;32m    316\u001b[0m                 \u001b[38;5;124m\"\u001b[39m\u001b[38;5;124mstream\u001b[39m\u001b[38;5;124m\"\u001b[39m: stream,\n\u001b[0;32m    317\u001b[0m                 \u001b[38;5;124m\"\u001b[39m\u001b[38;5;124mtemperature\u001b[39m\u001b[38;5;124m\"\u001b[39m: temperature,\n\u001b[0;32m    318\u001b[0m                 \u001b[38;5;124m\"\u001b[39m\u001b[38;5;124mtool_choice\u001b[39m\u001b[38;5;124m\"\u001b[39m: tool_choice,\n\u001b[0;32m    319\u001b[0m                 \u001b[38;5;124m\"\u001b[39m\u001b[38;5;124mtools\u001b[39m\u001b[38;5;124m\"\u001b[39m: tools,\n\u001b[0;32m    320\u001b[0m                 \u001b[38;5;124m\"\u001b[39m\u001b[38;5;124mtop_logprobs\u001b[39m\u001b[38;5;124m\"\u001b[39m: top_logprobs,\n\u001b[0;32m    321\u001b[0m                 \u001b[38;5;124m\"\u001b[39m\u001b[38;5;124mtop_p\u001b[39m\u001b[38;5;124m\"\u001b[39m: top_p,\n\u001b[0;32m    322\u001b[0m                 \u001b[38;5;124m\"\u001b[39m\u001b[38;5;124muser\u001b[39m\u001b[38;5;124m\"\u001b[39m: user,\n\u001b[0;32m    323\u001b[0m             },\n\u001b[0;32m    324\u001b[0m             completion_create_params\u001b[38;5;241m.\u001b[39mCompletionCreateParams,\n\u001b[0;32m    325\u001b[0m         ),\n\u001b[0;32m    326\u001b[0m         options\u001b[38;5;241m=\u001b[39mmake_request_options(\n\u001b[0;32m    327\u001b[0m             extra_headers\u001b[38;5;241m=\u001b[39mextra_headers, extra_query\u001b[38;5;241m=\u001b[39mextra_query, extra_body\u001b[38;5;241m=\u001b[39mextra_body, timeout\u001b[38;5;241m=\u001b[39mtimeout\n\u001b[0;32m    328\u001b[0m         ),\n\u001b[0;32m    329\u001b[0m         cast_to\u001b[38;5;241m=\u001b[39mChatCompletion,\n\u001b[0;32m    330\u001b[0m         stream\u001b[38;5;241m=\u001b[39mstream \u001b[38;5;129;01mor\u001b[39;00m \u001b[38;5;28;01mFalse\u001b[39;00m,\n\u001b[0;32m    331\u001b[0m         stream_cls\u001b[38;5;241m=\u001b[39mStream[ChatCompletionChunk],\n\u001b[0;32m    332\u001b[0m     )\n",
      "File \u001b[1;32m~\\AppData\\Roaming\\Python\\Python312\\site-packages\\groq\\_base_client.py:1263\u001b[0m, in \u001b[0;36mSyncAPIClient.post\u001b[1;34m(self, path, cast_to, body, options, files, stream, stream_cls)\u001b[0m\n\u001b[0;32m   1249\u001b[0m \u001b[38;5;28;01mdef\u001b[39;00m \u001b[38;5;21mpost\u001b[39m(\n\u001b[0;32m   1250\u001b[0m     \u001b[38;5;28mself\u001b[39m,\n\u001b[0;32m   1251\u001b[0m     path: \u001b[38;5;28mstr\u001b[39m,\n\u001b[1;32m   (...)\u001b[0m\n\u001b[0;32m   1258\u001b[0m     stream_cls: \u001b[38;5;28mtype\u001b[39m[_StreamT] \u001b[38;5;241m|\u001b[39m \u001b[38;5;28;01mNone\u001b[39;00m \u001b[38;5;241m=\u001b[39m \u001b[38;5;28;01mNone\u001b[39;00m,\n\u001b[0;32m   1259\u001b[0m ) \u001b[38;5;241m-\u001b[39m\u001b[38;5;241m>\u001b[39m ResponseT \u001b[38;5;241m|\u001b[39m _StreamT:\n\u001b[0;32m   1260\u001b[0m     opts \u001b[38;5;241m=\u001b[39m FinalRequestOptions\u001b[38;5;241m.\u001b[39mconstruct(\n\u001b[0;32m   1261\u001b[0m         method\u001b[38;5;241m=\u001b[39m\u001b[38;5;124m\"\u001b[39m\u001b[38;5;124mpost\u001b[39m\u001b[38;5;124m\"\u001b[39m, url\u001b[38;5;241m=\u001b[39mpath, json_data\u001b[38;5;241m=\u001b[39mbody, files\u001b[38;5;241m=\u001b[39mto_httpx_files(files), \u001b[38;5;241m*\u001b[39m\u001b[38;5;241m*\u001b[39moptions\n\u001b[0;32m   1262\u001b[0m     )\n\u001b[1;32m-> 1263\u001b[0m     \u001b[38;5;28;01mreturn\u001b[39;00m cast(ResponseT, \u001b[38;5;28mself\u001b[39m\u001b[38;5;241m.\u001b[39mrequest(cast_to, opts, stream\u001b[38;5;241m=\u001b[39mstream, stream_cls\u001b[38;5;241m=\u001b[39mstream_cls))\n",
      "File \u001b[1;32m~\\AppData\\Roaming\\Python\\Python312\\site-packages\\groq\\_base_client.py:955\u001b[0m, in \u001b[0;36mSyncAPIClient.request\u001b[1;34m(self, cast_to, options, remaining_retries, stream, stream_cls)\u001b[0m\n\u001b[0;32m    952\u001b[0m \u001b[38;5;28;01melse\u001b[39;00m:\n\u001b[0;32m    953\u001b[0m     retries_taken \u001b[38;5;241m=\u001b[39m \u001b[38;5;241m0\u001b[39m\n\u001b[1;32m--> 955\u001b[0m \u001b[38;5;28;01mreturn\u001b[39;00m \u001b[38;5;28mself\u001b[39m\u001b[38;5;241m.\u001b[39m_request(\n\u001b[0;32m    956\u001b[0m     cast_to\u001b[38;5;241m=\u001b[39mcast_to,\n\u001b[0;32m    957\u001b[0m     options\u001b[38;5;241m=\u001b[39moptions,\n\u001b[0;32m    958\u001b[0m     stream\u001b[38;5;241m=\u001b[39mstream,\n\u001b[0;32m    959\u001b[0m     stream_cls\u001b[38;5;241m=\u001b[39mstream_cls,\n\u001b[0;32m    960\u001b[0m     retries_taken\u001b[38;5;241m=\u001b[39mretries_taken,\n\u001b[0;32m    961\u001b[0m )\n",
      "File \u001b[1;32m~\\AppData\\Roaming\\Python\\Python312\\site-packages\\groq\\_base_client.py:1043\u001b[0m, in \u001b[0;36mSyncAPIClient._request\u001b[1;34m(self, cast_to, options, retries_taken, stream, stream_cls)\u001b[0m\n\u001b[0;32m   1041\u001b[0m \u001b[38;5;28;01mif\u001b[39;00m remaining_retries \u001b[38;5;241m>\u001b[39m \u001b[38;5;241m0\u001b[39m \u001b[38;5;129;01mand\u001b[39;00m \u001b[38;5;28mself\u001b[39m\u001b[38;5;241m.\u001b[39m_should_retry(err\u001b[38;5;241m.\u001b[39mresponse):\n\u001b[0;32m   1042\u001b[0m     err\u001b[38;5;241m.\u001b[39mresponse\u001b[38;5;241m.\u001b[39mclose()\n\u001b[1;32m-> 1043\u001b[0m     \u001b[38;5;28;01mreturn\u001b[39;00m \u001b[38;5;28mself\u001b[39m\u001b[38;5;241m.\u001b[39m_retry_request(\n\u001b[0;32m   1044\u001b[0m         input_options,\n\u001b[0;32m   1045\u001b[0m         cast_to,\n\u001b[0;32m   1046\u001b[0m         retries_taken\u001b[38;5;241m=\u001b[39mretries_taken,\n\u001b[0;32m   1047\u001b[0m         response_headers\u001b[38;5;241m=\u001b[39merr\u001b[38;5;241m.\u001b[39mresponse\u001b[38;5;241m.\u001b[39mheaders,\n\u001b[0;32m   1048\u001b[0m         stream\u001b[38;5;241m=\u001b[39mstream,\n\u001b[0;32m   1049\u001b[0m         stream_cls\u001b[38;5;241m=\u001b[39mstream_cls,\n\u001b[0;32m   1050\u001b[0m     )\n\u001b[0;32m   1052\u001b[0m \u001b[38;5;66;03m# If the response is streamed then we need to explicitly read the response\u001b[39;00m\n\u001b[0;32m   1053\u001b[0m \u001b[38;5;66;03m# to completion before attempting to access the response text.\u001b[39;00m\n\u001b[0;32m   1054\u001b[0m \u001b[38;5;28;01mif\u001b[39;00m \u001b[38;5;129;01mnot\u001b[39;00m err\u001b[38;5;241m.\u001b[39mresponse\u001b[38;5;241m.\u001b[39mis_closed:\n",
      "File \u001b[1;32m~\\AppData\\Roaming\\Python\\Python312\\site-packages\\groq\\_base_client.py:1092\u001b[0m, in \u001b[0;36mSyncAPIClient._retry_request\u001b[1;34m(self, options, cast_to, retries_taken, response_headers, stream, stream_cls)\u001b[0m\n\u001b[0;32m   1088\u001b[0m \u001b[38;5;66;03m# In a synchronous context we are blocking the entire thread. Up to the library user to run the client in a\u001b[39;00m\n\u001b[0;32m   1089\u001b[0m \u001b[38;5;66;03m# different thread if necessary.\u001b[39;00m\n\u001b[0;32m   1090\u001b[0m time\u001b[38;5;241m.\u001b[39msleep(timeout)\n\u001b[1;32m-> 1092\u001b[0m \u001b[38;5;28;01mreturn\u001b[39;00m \u001b[38;5;28mself\u001b[39m\u001b[38;5;241m.\u001b[39m_request(\n\u001b[0;32m   1093\u001b[0m     options\u001b[38;5;241m=\u001b[39moptions,\n\u001b[0;32m   1094\u001b[0m     cast_to\u001b[38;5;241m=\u001b[39mcast_to,\n\u001b[0;32m   1095\u001b[0m     retries_taken\u001b[38;5;241m=\u001b[39mretries_taken \u001b[38;5;241m+\u001b[39m \u001b[38;5;241m1\u001b[39m,\n\u001b[0;32m   1096\u001b[0m     stream\u001b[38;5;241m=\u001b[39mstream,\n\u001b[0;32m   1097\u001b[0m     stream_cls\u001b[38;5;241m=\u001b[39mstream_cls,\n\u001b[0;32m   1098\u001b[0m )\n",
      "File \u001b[1;32m~\\AppData\\Roaming\\Python\\Python312\\site-packages\\groq\\_base_client.py:1043\u001b[0m, in \u001b[0;36mSyncAPIClient._request\u001b[1;34m(self, cast_to, options, retries_taken, stream, stream_cls)\u001b[0m\n\u001b[0;32m   1041\u001b[0m \u001b[38;5;28;01mif\u001b[39;00m remaining_retries \u001b[38;5;241m>\u001b[39m \u001b[38;5;241m0\u001b[39m \u001b[38;5;129;01mand\u001b[39;00m \u001b[38;5;28mself\u001b[39m\u001b[38;5;241m.\u001b[39m_should_retry(err\u001b[38;5;241m.\u001b[39mresponse):\n\u001b[0;32m   1042\u001b[0m     err\u001b[38;5;241m.\u001b[39mresponse\u001b[38;5;241m.\u001b[39mclose()\n\u001b[1;32m-> 1043\u001b[0m     \u001b[38;5;28;01mreturn\u001b[39;00m \u001b[38;5;28mself\u001b[39m\u001b[38;5;241m.\u001b[39m_retry_request(\n\u001b[0;32m   1044\u001b[0m         input_options,\n\u001b[0;32m   1045\u001b[0m         cast_to,\n\u001b[0;32m   1046\u001b[0m         retries_taken\u001b[38;5;241m=\u001b[39mretries_taken,\n\u001b[0;32m   1047\u001b[0m         response_headers\u001b[38;5;241m=\u001b[39merr\u001b[38;5;241m.\u001b[39mresponse\u001b[38;5;241m.\u001b[39mheaders,\n\u001b[0;32m   1048\u001b[0m         stream\u001b[38;5;241m=\u001b[39mstream,\n\u001b[0;32m   1049\u001b[0m         stream_cls\u001b[38;5;241m=\u001b[39mstream_cls,\n\u001b[0;32m   1050\u001b[0m     )\n\u001b[0;32m   1052\u001b[0m \u001b[38;5;66;03m# If the response is streamed then we need to explicitly read the response\u001b[39;00m\n\u001b[0;32m   1053\u001b[0m \u001b[38;5;66;03m# to completion before attempting to access the response text.\u001b[39;00m\n\u001b[0;32m   1054\u001b[0m \u001b[38;5;28;01mif\u001b[39;00m \u001b[38;5;129;01mnot\u001b[39;00m err\u001b[38;5;241m.\u001b[39mresponse\u001b[38;5;241m.\u001b[39mis_closed:\n",
      "File \u001b[1;32m~\\AppData\\Roaming\\Python\\Python312\\site-packages\\groq\\_base_client.py:1092\u001b[0m, in \u001b[0;36mSyncAPIClient._retry_request\u001b[1;34m(self, options, cast_to, retries_taken, response_headers, stream, stream_cls)\u001b[0m\n\u001b[0;32m   1088\u001b[0m \u001b[38;5;66;03m# In a synchronous context we are blocking the entire thread. Up to the library user to run the client in a\u001b[39;00m\n\u001b[0;32m   1089\u001b[0m \u001b[38;5;66;03m# different thread if necessary.\u001b[39;00m\n\u001b[0;32m   1090\u001b[0m time\u001b[38;5;241m.\u001b[39msleep(timeout)\n\u001b[1;32m-> 1092\u001b[0m \u001b[38;5;28;01mreturn\u001b[39;00m \u001b[38;5;28mself\u001b[39m\u001b[38;5;241m.\u001b[39m_request(\n\u001b[0;32m   1093\u001b[0m     options\u001b[38;5;241m=\u001b[39moptions,\n\u001b[0;32m   1094\u001b[0m     cast_to\u001b[38;5;241m=\u001b[39mcast_to,\n\u001b[0;32m   1095\u001b[0m     retries_taken\u001b[38;5;241m=\u001b[39mretries_taken \u001b[38;5;241m+\u001b[39m \u001b[38;5;241m1\u001b[39m,\n\u001b[0;32m   1096\u001b[0m     stream\u001b[38;5;241m=\u001b[39mstream,\n\u001b[0;32m   1097\u001b[0m     stream_cls\u001b[38;5;241m=\u001b[39mstream_cls,\n\u001b[0;32m   1098\u001b[0m )\n",
      "File \u001b[1;32m~\\AppData\\Roaming\\Python\\Python312\\site-packages\\groq\\_base_client.py:1058\u001b[0m, in \u001b[0;36mSyncAPIClient._request\u001b[1;34m(self, cast_to, options, retries_taken, stream, stream_cls)\u001b[0m\n\u001b[0;32m   1055\u001b[0m         err\u001b[38;5;241m.\u001b[39mresponse\u001b[38;5;241m.\u001b[39mread()\n\u001b[0;32m   1057\u001b[0m     log\u001b[38;5;241m.\u001b[39mdebug(\u001b[38;5;124m\"\u001b[39m\u001b[38;5;124mRe-raising status error\u001b[39m\u001b[38;5;124m\"\u001b[39m)\n\u001b[1;32m-> 1058\u001b[0m     \u001b[38;5;28;01mraise\u001b[39;00m \u001b[38;5;28mself\u001b[39m\u001b[38;5;241m.\u001b[39m_make_status_error_from_response(err\u001b[38;5;241m.\u001b[39mresponse) \u001b[38;5;28;01mfrom\u001b[39;00m \u001b[38;5;28;01mNone\u001b[39;00m\n\u001b[0;32m   1060\u001b[0m \u001b[38;5;28;01mreturn\u001b[39;00m \u001b[38;5;28mself\u001b[39m\u001b[38;5;241m.\u001b[39m_process_response(\n\u001b[0;32m   1061\u001b[0m     cast_to\u001b[38;5;241m=\u001b[39mcast_to,\n\u001b[0;32m   1062\u001b[0m     options\u001b[38;5;241m=\u001b[39moptions,\n\u001b[1;32m   (...)\u001b[0m\n\u001b[0;32m   1066\u001b[0m     retries_taken\u001b[38;5;241m=\u001b[39mretries_taken,\n\u001b[0;32m   1067\u001b[0m )\n",
      "\u001b[1;31mRateLimitError\u001b[0m: Error code: 429 - {'error': {'message': 'Rate limit reached for model `llama3-8b-8192` in organization `org_01jfg03hk5ee4tv16dmxnjkn9k` on requests per minute (RPM): Limit 30, Used 30, Requested 1. Please try again in 1.984s. Visit https://console.groq.com/docs/rate-limits for more information.', 'type': 'requests', 'code': 'rate_limit_exceeded'}}"
     ]
    }
   ],
   "source": [
    "size = 50\n",
    "batch_df = [df.Feedback[i:i+size] for i in range(0,len(df), size)]\n",
    "sentiment_ls = []\n",
    "c = 0\n",
    "for batch in batch_df:\n",
    "    sent = [sentiment(i) for i in batch]\n",
    "    sentiment_ls.extend(sent)\n",
    "    print(c)\n",
    "    c+=1"
   ]
  },
  {
   "cell_type": "code",
   "execution_count": 10,
   "metadata": {},
   "outputs": [
    {
     "data": {
      "text/plain": [
       "150"
      ]
     },
     "execution_count": 10,
     "metadata": {},
     "output_type": "execute_result"
    }
   ],
   "source": [
    "len(sentiment_ls)"
   ]
  },
  {
   "cell_type": "code",
   "execution_count": null,
   "metadata": {},
   "outputs": [],
   "source": [
    "df[\"Sentiment\"] = sent\n",
    "df.to_csv(\"Sentiment.csv\")"
   ]
  },
  {
   "cell_type": "code",
   "execution_count": 98,
   "metadata": {},
   "outputs": [
    {
     "name": "stdout",
     "output_type": "stream",
     "text": [
      "Here are the sentiments:\n",
      "\n",
      "1. Positive\n",
      "2. Positive\n",
      "3. Positive\n",
      "4. Negative\n",
      "5. Positive\n",
      "6. Positive\n",
      "7. Positive\n",
      "8. Positive\n",
      "9. Positive\n",
      "Here is the sentiment for each review:\n",
      "\n",
      "1. Positive\n",
      "2. Negative\n",
      "3. Negative\n",
      "4. Positive\n",
      "5. Positive\n",
      "Here is the sentiment of the text:\n",
      "\n",
      "* Positive: 23\n",
      "* Negative: 12\n",
      "* Neutral: 4\n",
      "Here are the sentiments of the reviews:\n",
      "\n",
      "1. Positive: 15\n",
      "2. Negative: 10\n",
      "3. Mixed: 14\n",
      "4. Absolutely terrible: 3\n",
      "5. Not sure: 8\n"
     ]
    },
    {
     "ename": "BadRequestError",
     "evalue": "Error code: 400 - {'error': {'message': 'Please reduce the length of the messages or completion.', 'type': 'invalid_request_error', 'param': 'messages', 'code': 'context_length_exceeded'}}",
     "output_type": "error",
     "traceback": [
      "\u001b[1;31m---------------------------------------------------------------------------\u001b[0m",
      "\u001b[1;31mBadRequestError\u001b[0m                           Traceback (most recent call last)",
      "Cell \u001b[1;32mIn[98], line 3\u001b[0m\n\u001b[0;32m      1\u001b[0m system_messege \u001b[38;5;241m=\u001b[39m \u001b[38;5;124m\"\u001b[39m\u001b[38;5;124mprovide only the sentiment\u001b[39m\u001b[38;5;124m\"\u001b[39m\n\u001b[0;32m      2\u001b[0m \u001b[38;5;28;01mfor\u001b[39;00m i \u001b[38;5;129;01min\u001b[39;00m batch:\n\u001b[1;32m----> 3\u001b[0m     chat_completion \u001b[38;5;241m=\u001b[39m client\u001b[38;5;241m.\u001b[39mchat\u001b[38;5;241m.\u001b[39mcompletions\u001b[38;5;241m.\u001b[39mcreate(\n\u001b[0;32m      4\u001b[0m             messages\u001b[38;5;241m=\u001b[39m[\n\u001b[0;32m      5\u001b[0m                 {\n\u001b[0;32m      6\u001b[0m                     \u001b[38;5;124m\"\u001b[39m\u001b[38;5;124mrole\u001b[39m\u001b[38;5;124m\"\u001b[39m:\u001b[38;5;124m\"\u001b[39m\u001b[38;5;124msystem\u001b[39m\u001b[38;5;124m\"\u001b[39m,\n\u001b[0;32m      7\u001b[0m                     \u001b[38;5;124m\"\u001b[39m\u001b[38;5;124mcontent\u001b[39m\u001b[38;5;124m\"\u001b[39m:system_messege\n\u001b[0;32m      8\u001b[0m                 },\n\u001b[0;32m      9\u001b[0m                 {\n\u001b[0;32m     10\u001b[0m                     \u001b[38;5;124m\"\u001b[39m\u001b[38;5;124mrole\u001b[39m\u001b[38;5;124m\"\u001b[39m: \u001b[38;5;124m\"\u001b[39m\u001b[38;5;124muser\u001b[39m\u001b[38;5;124m\"\u001b[39m,\n\u001b[0;32m     11\u001b[0m                     \u001b[38;5;124m\"\u001b[39m\u001b[38;5;124mcontent\u001b[39m\u001b[38;5;124m\"\u001b[39m: \u001b[38;5;124mf\u001b[39m\u001b[38;5;124m\"\u001b[39m\u001b[38;5;124mProvide the Sentiment of \u001b[39m\u001b[38;5;132;01m{\u001b[39;00mi\u001b[38;5;132;01m}\u001b[39;00m\u001b[38;5;124m\"\u001b[39m,\n\u001b[0;32m     12\u001b[0m                 }\n\u001b[0;32m     13\u001b[0m             ],\n\u001b[0;32m     14\u001b[0m             model\u001b[38;5;241m=\u001b[39m\u001b[38;5;124m\"\u001b[39m\u001b[38;5;124mllama3-8b-8192\u001b[39m\u001b[38;5;124m\"\u001b[39m,\n\u001b[0;32m     15\u001b[0m         )\n\u001b[0;32m     16\u001b[0m     \u001b[38;5;28mprint\u001b[39m(chat_completion\u001b[38;5;241m.\u001b[39mchoices[\u001b[38;5;241m0\u001b[39m]\u001b[38;5;241m.\u001b[39mmessage\u001b[38;5;241m.\u001b[39mcontent)\n",
      "File \u001b[1;32m~\\AppData\\Roaming\\Python\\Python312\\site-packages\\groq\\resources\\chat\\completions.py:298\u001b[0m, in \u001b[0;36mCompletions.create\u001b[1;34m(self, messages, model, frequency_penalty, function_call, functions, logit_bias, logprobs, max_tokens, n, parallel_tool_calls, presence_penalty, response_format, seed, stop, stream, temperature, tool_choice, tools, top_logprobs, top_p, user, extra_headers, extra_query, extra_body, timeout)\u001b[0m\n\u001b[0;32m    157\u001b[0m \u001b[38;5;28;01mdef\u001b[39;00m \u001b[38;5;21mcreate\u001b[39m(\n\u001b[0;32m    158\u001b[0m     \u001b[38;5;28mself\u001b[39m,\n\u001b[0;32m    159\u001b[0m     \u001b[38;5;241m*\u001b[39m,\n\u001b[1;32m   (...)\u001b[0m\n\u001b[0;32m    186\u001b[0m     timeout: \u001b[38;5;28mfloat\u001b[39m \u001b[38;5;241m|\u001b[39m httpx\u001b[38;5;241m.\u001b[39mTimeout \u001b[38;5;241m|\u001b[39m \u001b[38;5;28;01mNone\u001b[39;00m \u001b[38;5;241m|\u001b[39m NotGiven \u001b[38;5;241m=\u001b[39m NOT_GIVEN,\n\u001b[0;32m    187\u001b[0m ) \u001b[38;5;241m-\u001b[39m\u001b[38;5;241m>\u001b[39m ChatCompletion \u001b[38;5;241m|\u001b[39m Stream[ChatCompletionChunk]:\n\u001b[0;32m    188\u001b[0m \u001b[38;5;250m    \u001b[39m\u001b[38;5;124;03m\"\"\"\u001b[39;00m\n\u001b[0;32m    189\u001b[0m \u001b[38;5;124;03m    Creates a model response for the given chat conversation.\u001b[39;00m\n\u001b[0;32m    190\u001b[0m \n\u001b[1;32m   (...)\u001b[0m\n\u001b[0;32m    296\u001b[0m \u001b[38;5;124;03m      timeout: Override the client-level default timeout for this request, in seconds\u001b[39;00m\n\u001b[0;32m    297\u001b[0m \u001b[38;5;124;03m    \"\"\"\u001b[39;00m\n\u001b[1;32m--> 298\u001b[0m     \u001b[38;5;28;01mreturn\u001b[39;00m \u001b[38;5;28mself\u001b[39m\u001b[38;5;241m.\u001b[39m_post(\n\u001b[0;32m    299\u001b[0m         \u001b[38;5;124m\"\u001b[39m\u001b[38;5;124m/openai/v1/chat/completions\u001b[39m\u001b[38;5;124m\"\u001b[39m,\n\u001b[0;32m    300\u001b[0m         body\u001b[38;5;241m=\u001b[39mmaybe_transform(\n\u001b[0;32m    301\u001b[0m             {\n\u001b[0;32m    302\u001b[0m                 \u001b[38;5;124m\"\u001b[39m\u001b[38;5;124mmessages\u001b[39m\u001b[38;5;124m\"\u001b[39m: messages,\n\u001b[0;32m    303\u001b[0m                 \u001b[38;5;124m\"\u001b[39m\u001b[38;5;124mmodel\u001b[39m\u001b[38;5;124m\"\u001b[39m: model,\n\u001b[0;32m    304\u001b[0m                 \u001b[38;5;124m\"\u001b[39m\u001b[38;5;124mfrequency_penalty\u001b[39m\u001b[38;5;124m\"\u001b[39m: frequency_penalty,\n\u001b[0;32m    305\u001b[0m                 \u001b[38;5;124m\"\u001b[39m\u001b[38;5;124mfunction_call\u001b[39m\u001b[38;5;124m\"\u001b[39m: function_call,\n\u001b[0;32m    306\u001b[0m                 \u001b[38;5;124m\"\u001b[39m\u001b[38;5;124mfunctions\u001b[39m\u001b[38;5;124m\"\u001b[39m: functions,\n\u001b[0;32m    307\u001b[0m                 \u001b[38;5;124m\"\u001b[39m\u001b[38;5;124mlogit_bias\u001b[39m\u001b[38;5;124m\"\u001b[39m: logit_bias,\n\u001b[0;32m    308\u001b[0m                 \u001b[38;5;124m\"\u001b[39m\u001b[38;5;124mlogprobs\u001b[39m\u001b[38;5;124m\"\u001b[39m: logprobs,\n\u001b[0;32m    309\u001b[0m                 \u001b[38;5;124m\"\u001b[39m\u001b[38;5;124mmax_tokens\u001b[39m\u001b[38;5;124m\"\u001b[39m: max_tokens,\n\u001b[0;32m    310\u001b[0m                 \u001b[38;5;124m\"\u001b[39m\u001b[38;5;124mn\u001b[39m\u001b[38;5;124m\"\u001b[39m: n,\n\u001b[0;32m    311\u001b[0m                 \u001b[38;5;124m\"\u001b[39m\u001b[38;5;124mparallel_tool_calls\u001b[39m\u001b[38;5;124m\"\u001b[39m: parallel_tool_calls,\n\u001b[0;32m    312\u001b[0m                 \u001b[38;5;124m\"\u001b[39m\u001b[38;5;124mpresence_penalty\u001b[39m\u001b[38;5;124m\"\u001b[39m: presence_penalty,\n\u001b[0;32m    313\u001b[0m                 \u001b[38;5;124m\"\u001b[39m\u001b[38;5;124mresponse_format\u001b[39m\u001b[38;5;124m\"\u001b[39m: response_format,\n\u001b[0;32m    314\u001b[0m                 \u001b[38;5;124m\"\u001b[39m\u001b[38;5;124mseed\u001b[39m\u001b[38;5;124m\"\u001b[39m: seed,\n\u001b[0;32m    315\u001b[0m                 \u001b[38;5;124m\"\u001b[39m\u001b[38;5;124mstop\u001b[39m\u001b[38;5;124m\"\u001b[39m: stop,\n\u001b[0;32m    316\u001b[0m                 \u001b[38;5;124m\"\u001b[39m\u001b[38;5;124mstream\u001b[39m\u001b[38;5;124m\"\u001b[39m: stream,\n\u001b[0;32m    317\u001b[0m                 \u001b[38;5;124m\"\u001b[39m\u001b[38;5;124mtemperature\u001b[39m\u001b[38;5;124m\"\u001b[39m: temperature,\n\u001b[0;32m    318\u001b[0m                 \u001b[38;5;124m\"\u001b[39m\u001b[38;5;124mtool_choice\u001b[39m\u001b[38;5;124m\"\u001b[39m: tool_choice,\n\u001b[0;32m    319\u001b[0m                 \u001b[38;5;124m\"\u001b[39m\u001b[38;5;124mtools\u001b[39m\u001b[38;5;124m\"\u001b[39m: tools,\n\u001b[0;32m    320\u001b[0m                 \u001b[38;5;124m\"\u001b[39m\u001b[38;5;124mtop_logprobs\u001b[39m\u001b[38;5;124m\"\u001b[39m: top_logprobs,\n\u001b[0;32m    321\u001b[0m                 \u001b[38;5;124m\"\u001b[39m\u001b[38;5;124mtop_p\u001b[39m\u001b[38;5;124m\"\u001b[39m: top_p,\n\u001b[0;32m    322\u001b[0m                 \u001b[38;5;124m\"\u001b[39m\u001b[38;5;124muser\u001b[39m\u001b[38;5;124m\"\u001b[39m: user,\n\u001b[0;32m    323\u001b[0m             },\n\u001b[0;32m    324\u001b[0m             completion_create_params\u001b[38;5;241m.\u001b[39mCompletionCreateParams,\n\u001b[0;32m    325\u001b[0m         ),\n\u001b[0;32m    326\u001b[0m         options\u001b[38;5;241m=\u001b[39mmake_request_options(\n\u001b[0;32m    327\u001b[0m             extra_headers\u001b[38;5;241m=\u001b[39mextra_headers, extra_query\u001b[38;5;241m=\u001b[39mextra_query, extra_body\u001b[38;5;241m=\u001b[39mextra_body, timeout\u001b[38;5;241m=\u001b[39mtimeout\n\u001b[0;32m    328\u001b[0m         ),\n\u001b[0;32m    329\u001b[0m         cast_to\u001b[38;5;241m=\u001b[39mChatCompletion,\n\u001b[0;32m    330\u001b[0m         stream\u001b[38;5;241m=\u001b[39mstream \u001b[38;5;129;01mor\u001b[39;00m \u001b[38;5;28;01mFalse\u001b[39;00m,\n\u001b[0;32m    331\u001b[0m         stream_cls\u001b[38;5;241m=\u001b[39mStream[ChatCompletionChunk],\n\u001b[0;32m    332\u001b[0m     )\n",
      "File \u001b[1;32m~\\AppData\\Roaming\\Python\\Python312\\site-packages\\groq\\_base_client.py:1263\u001b[0m, in \u001b[0;36mSyncAPIClient.post\u001b[1;34m(self, path, cast_to, body, options, files, stream, stream_cls)\u001b[0m\n\u001b[0;32m   1249\u001b[0m \u001b[38;5;28;01mdef\u001b[39;00m \u001b[38;5;21mpost\u001b[39m(\n\u001b[0;32m   1250\u001b[0m     \u001b[38;5;28mself\u001b[39m,\n\u001b[0;32m   1251\u001b[0m     path: \u001b[38;5;28mstr\u001b[39m,\n\u001b[1;32m   (...)\u001b[0m\n\u001b[0;32m   1258\u001b[0m     stream_cls: \u001b[38;5;28mtype\u001b[39m[_StreamT] \u001b[38;5;241m|\u001b[39m \u001b[38;5;28;01mNone\u001b[39;00m \u001b[38;5;241m=\u001b[39m \u001b[38;5;28;01mNone\u001b[39;00m,\n\u001b[0;32m   1259\u001b[0m ) \u001b[38;5;241m-\u001b[39m\u001b[38;5;241m>\u001b[39m ResponseT \u001b[38;5;241m|\u001b[39m _StreamT:\n\u001b[0;32m   1260\u001b[0m     opts \u001b[38;5;241m=\u001b[39m FinalRequestOptions\u001b[38;5;241m.\u001b[39mconstruct(\n\u001b[0;32m   1261\u001b[0m         method\u001b[38;5;241m=\u001b[39m\u001b[38;5;124m\"\u001b[39m\u001b[38;5;124mpost\u001b[39m\u001b[38;5;124m\"\u001b[39m, url\u001b[38;5;241m=\u001b[39mpath, json_data\u001b[38;5;241m=\u001b[39mbody, files\u001b[38;5;241m=\u001b[39mto_httpx_files(files), \u001b[38;5;241m*\u001b[39m\u001b[38;5;241m*\u001b[39moptions\n\u001b[0;32m   1262\u001b[0m     )\n\u001b[1;32m-> 1263\u001b[0m     \u001b[38;5;28;01mreturn\u001b[39;00m cast(ResponseT, \u001b[38;5;28mself\u001b[39m\u001b[38;5;241m.\u001b[39mrequest(cast_to, opts, stream\u001b[38;5;241m=\u001b[39mstream, stream_cls\u001b[38;5;241m=\u001b[39mstream_cls))\n",
      "File \u001b[1;32m~\\AppData\\Roaming\\Python\\Python312\\site-packages\\groq\\_base_client.py:955\u001b[0m, in \u001b[0;36mSyncAPIClient.request\u001b[1;34m(self, cast_to, options, remaining_retries, stream, stream_cls)\u001b[0m\n\u001b[0;32m    952\u001b[0m \u001b[38;5;28;01melse\u001b[39;00m:\n\u001b[0;32m    953\u001b[0m     retries_taken \u001b[38;5;241m=\u001b[39m \u001b[38;5;241m0\u001b[39m\n\u001b[1;32m--> 955\u001b[0m \u001b[38;5;28;01mreturn\u001b[39;00m \u001b[38;5;28mself\u001b[39m\u001b[38;5;241m.\u001b[39m_request(\n\u001b[0;32m    956\u001b[0m     cast_to\u001b[38;5;241m=\u001b[39mcast_to,\n\u001b[0;32m    957\u001b[0m     options\u001b[38;5;241m=\u001b[39moptions,\n\u001b[0;32m    958\u001b[0m     stream\u001b[38;5;241m=\u001b[39mstream,\n\u001b[0;32m    959\u001b[0m     stream_cls\u001b[38;5;241m=\u001b[39mstream_cls,\n\u001b[0;32m    960\u001b[0m     retries_taken\u001b[38;5;241m=\u001b[39mretries_taken,\n\u001b[0;32m    961\u001b[0m )\n",
      "File \u001b[1;32m~\\AppData\\Roaming\\Python\\Python312\\site-packages\\groq\\_base_client.py:1058\u001b[0m, in \u001b[0;36mSyncAPIClient._request\u001b[1;34m(self, cast_to, options, retries_taken, stream, stream_cls)\u001b[0m\n\u001b[0;32m   1055\u001b[0m         err\u001b[38;5;241m.\u001b[39mresponse\u001b[38;5;241m.\u001b[39mread()\n\u001b[0;32m   1057\u001b[0m     log\u001b[38;5;241m.\u001b[39mdebug(\u001b[38;5;124m\"\u001b[39m\u001b[38;5;124mRe-raising status error\u001b[39m\u001b[38;5;124m\"\u001b[39m)\n\u001b[1;32m-> 1058\u001b[0m     \u001b[38;5;28;01mraise\u001b[39;00m \u001b[38;5;28mself\u001b[39m\u001b[38;5;241m.\u001b[39m_make_status_error_from_response(err\u001b[38;5;241m.\u001b[39mresponse) \u001b[38;5;28;01mfrom\u001b[39;00m \u001b[38;5;28;01mNone\u001b[39;00m\n\u001b[0;32m   1060\u001b[0m \u001b[38;5;28;01mreturn\u001b[39;00m \u001b[38;5;28mself\u001b[39m\u001b[38;5;241m.\u001b[39m_process_response(\n\u001b[0;32m   1061\u001b[0m     cast_to\u001b[38;5;241m=\u001b[39mcast_to,\n\u001b[0;32m   1062\u001b[0m     options\u001b[38;5;241m=\u001b[39moptions,\n\u001b[1;32m   (...)\u001b[0m\n\u001b[0;32m   1066\u001b[0m     retries_taken\u001b[38;5;241m=\u001b[39mretries_taken,\n\u001b[0;32m   1067\u001b[0m )\n",
      "\u001b[1;31mBadRequestError\u001b[0m: Error code: 400 - {'error': {'message': 'Please reduce the length of the messages or completion.', 'type': 'invalid_request_error', 'param': 'messages', 'code': 'context_length_exceeded'}}"
     ]
    }
   ],
   "source": [
    "system_messege = \"provide only the sentiment\"\n",
    "for i in batch:\n",
    "    chat_completion = client.chat.completions.create(\n",
    "            messages=[\n",
    "                {\n",
    "                    \"role\":\"system\",\n",
    "                    \"content\":system_messege\n",
    "                },\n",
    "                {\n",
    "                    \"role\": \"user\",\n",
    "                    \"content\": f\"Provide the Sentiment of {i}\",\n",
    "                }\n",
    "            ],\n",
    "            model=\"llama3-8b-8192\",\n",
    "        )\n",
    "    print(chat_completion.choices[0].message.content)"
   ]
  },
  {
   "cell_type": "code",
   "execution_count": 83,
   "metadata": {},
   "outputs": [
    {
     "data": {
      "text/plain": [
       "dict_values(['Positive', 'Positive', 'Neutral', 'Positive', 'Negative', 'Positive'])"
      ]
     },
     "execution_count": 83,
     "metadata": {},
     "output_type": "execute_result"
    }
   ],
   "source": [
    "sent.values()"
   ]
  },
  {
   "cell_type": "code",
   "execution_count": 84,
   "metadata": {},
   "outputs": [
    {
     "data": {
      "text/plain": [
       "['n',\n",
       " 'm',\n",
       " 'Positive',\n",
       " 'Positive',\n",
       " 'Neutral',\n",
       " 'Positive',\n",
       " 'Negative',\n",
       " 'Positive']"
      ]
     },
     "execution_count": 84,
     "metadata": {},
     "output_type": "execute_result"
    }
   ],
   "source": [
    "x = ['n', 'm']\n",
    "x.extend(sent.values())\n",
    "x"
   ]
  }
 ],
 "metadata": {
  "kernelspec": {
   "display_name": "base",
   "language": "python",
   "name": "python3"
  },
  "language_info": {
   "codemirror_mode": {
    "name": "ipython",
    "version": 3
   },
   "file_extension": ".py",
   "mimetype": "text/x-python",
   "name": "python",
   "nbconvert_exporter": "python",
   "pygments_lexer": "ipython3",
   "version": "3.12.3"
  }
 },
 "nbformat": 4,
 "nbformat_minor": 2
}
